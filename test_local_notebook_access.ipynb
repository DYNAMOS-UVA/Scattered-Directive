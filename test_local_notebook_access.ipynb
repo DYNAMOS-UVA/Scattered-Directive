{
 "cells": [
  {
   "cell_type": "markdown",
   "id": "6ce5f521",
   "metadata": {},
   "source": [
    "# Utilities for monitoring SD and DYNAMOS on FABRIC "
   ]
  },
  {
   "cell_type": "code",
   "execution_count": 2,
   "id": "7a0ed1a9",
   "metadata": {},
   "outputs": [
    {
     "name": "stdout",
     "output_type": "stream",
     "text": [
      "hey 4 \n"
     ]
    }
   ],
   "source": [
    "print(\"hey 4 \")"
   ]
  },
  {
   "cell_type": "code",
   "execution_count": 4,
   "id": "88128066",
   "metadata": {},
   "outputs": [
    {
     "name": "stdout",
     "output_type": "stream",
     "text": [
      "User: koufalex@gmail.com bastion key is valid!\n",
      "Configuration is valid\n"
     ]
    },
    {
     "data": {
      "text/html": [
       "<style type=\"text/css\">\n",
       "#T_d726c tr:nth-child(even) {\n",
       "  background: #dbf3ff;\n",
       "  color: #231f20;\n",
       "}\n",
       "#T_d726c tr:nth-child(odd) {\n",
       "  background: #ffffff;\n",
       "  color: #231f20;\n",
       "}\n",
       "#T_d726c caption {\n",
       "  text-align: center;\n",
       "  font-size: 150%;\n",
       "}\n",
       "#T_d726c_row0_col0, #T_d726c_row0_col1, #T_d726c_row1_col0, #T_d726c_row1_col1, #T_d726c_row2_col0, #T_d726c_row2_col1, #T_d726c_row3_col0, #T_d726c_row3_col1, #T_d726c_row4_col0, #T_d726c_row4_col1, #T_d726c_row5_col0, #T_d726c_row5_col1, #T_d726c_row6_col0, #T_d726c_row6_col1, #T_d726c_row7_col0, #T_d726c_row7_col1, #T_d726c_row8_col0, #T_d726c_row8_col1, #T_d726c_row9_col0, #T_d726c_row9_col1, #T_d726c_row10_col0, #T_d726c_row10_col1, #T_d726c_row11_col0, #T_d726c_row11_col1, #T_d726c_row12_col0, #T_d726c_row12_col1, #T_d726c_row13_col0, #T_d726c_row13_col1, #T_d726c_row14_col0, #T_d726c_row14_col1, #T_d726c_row15_col0, #T_d726c_row15_col1, #T_d726c_row16_col0, #T_d726c_row16_col1, #T_d726c_row17_col0, #T_d726c_row17_col1, #T_d726c_row18_col0, #T_d726c_row18_col1, #T_d726c_row19_col0, #T_d726c_row19_col1 {\n",
       "  text-align: left;\n",
       "  border: 1px #231f20 solid !important;\n",
       "  overwrite: False;\n",
       "}\n",
       "</style>\n",
       "<table id=\"T_d726c\">\n",
       "  <caption>FABlib Config</caption>\n",
       "  <thead>\n",
       "  </thead>\n",
       "  <tbody>\n",
       "    <tr>\n",
       "      <td id=\"T_d726c_row0_col0\" class=\"data row0 col0\" >Orchestrator</td>\n",
       "      <td id=\"T_d726c_row0_col1\" class=\"data row0 col1\" >orchestrator.fabric-testbed.net</td>\n",
       "    </tr>\n",
       "    <tr>\n",
       "      <td id=\"T_d726c_row1_col0\" class=\"data row1 col0\" >Credential Manager</td>\n",
       "      <td id=\"T_d726c_row1_col1\" class=\"data row1 col1\" >cm.fabric-testbed.net</td>\n",
       "    </tr>\n",
       "    <tr>\n",
       "      <td id=\"T_d726c_row2_col0\" class=\"data row2 col0\" >Core API</td>\n",
       "      <td id=\"T_d726c_row2_col1\" class=\"data row2 col1\" >uis.fabric-testbed.net</td>\n",
       "    </tr>\n",
       "    <tr>\n",
       "      <td id=\"T_d726c_row3_col0\" class=\"data row3 col0\" >Artifact Manager</td>\n",
       "      <td id=\"T_d726c_row3_col1\" class=\"data row3 col1\" >artifacts.fabric-testbed.net</td>\n",
       "    </tr>\n",
       "    <tr>\n",
       "      <td id=\"T_d726c_row4_col0\" class=\"data row4 col0\" >Token File</td>\n",
       "      <td id=\"T_d726c_row4_col1\" class=\"data row4 col1\" >C:\\Users\\alkou\\FABRIC_tokens\\id_token.json</td>\n",
       "    </tr>\n",
       "    <tr>\n",
       "      <td id=\"T_d726c_row5_col0\" class=\"data row5 col0\" >Project ID</td>\n",
       "      <td id=\"T_d726c_row5_col1\" class=\"data row5 col1\" >49f65ad7-d8a2-4ab9-8ca0-ba777a2e0ea2</td>\n",
       "    </tr>\n",
       "    <tr>\n",
       "      <td id=\"T_d726c_row6_col0\" class=\"data row6 col0\" >Bastion Host</td>\n",
       "      <td id=\"T_d726c_row6_col1\" class=\"data row6 col1\" >bastion.fabric-testbed.net</td>\n",
       "    </tr>\n",
       "    <tr>\n",
       "      <td id=\"T_d726c_row7_col0\" class=\"data row7 col0\" >Bastion Username</td>\n",
       "      <td id=\"T_d726c_row7_col1\" class=\"data row7 col1\" >koufalex_0000215529</td>\n",
       "    </tr>\n",
       "    <tr>\n",
       "      <td id=\"T_d726c_row8_col0\" class=\"data row8 col0\" >Bastion Private Key File</td>\n",
       "      <td id=\"T_d726c_row8_col1\" class=\"data row8 col1\" >C:\\Users\\alkou/work/fabric_config/fabric_bastion_key</td>\n",
       "    </tr>\n",
       "    <tr>\n",
       "      <td id=\"T_d726c_row9_col0\" class=\"data row9 col0\" >Slice Public Key File</td>\n",
       "      <td id=\"T_d726c_row9_col1\" class=\"data row9 col1\" >C:\\Users\\alkou/work/fabric_config/slice_key.pub</td>\n",
       "    </tr>\n",
       "    <tr>\n",
       "      <td id=\"T_d726c_row10_col0\" class=\"data row10 col0\" >Slice Private Key File</td>\n",
       "      <td id=\"T_d726c_row10_col1\" class=\"data row10 col1\" >C:\\Users\\alkou/work/fabric_config/slice_key</td>\n",
       "    </tr>\n",
       "    <tr>\n",
       "      <td id=\"T_d726c_row11_col0\" class=\"data row11 col0\" >Sites to avoid</td>\n",
       "      <td id=\"T_d726c_row11_col1\" class=\"data row11 col1\" ></td>\n",
       "    </tr>\n",
       "    <tr>\n",
       "      <td id=\"T_d726c_row12_col0\" class=\"data row12 col0\" >SSH Command Line</td>\n",
       "      <td id=\"T_d726c_row12_col1\" class=\"data row12 col1\" >ssh -i {{ _self_.private_ssh_key_file }} -F C:\\Users\\alkou/work/fabric_config/ssh_config {{ _self_.username }}@{{ _self_.management_ip }}</td>\n",
       "    </tr>\n",
       "    <tr>\n",
       "      <td id=\"T_d726c_row13_col0\" class=\"data row13 col0\" >Log Level</td>\n",
       "      <td id=\"T_d726c_row13_col1\" class=\"data row13 col1\" >INFO</td>\n",
       "    </tr>\n",
       "    <tr>\n",
       "      <td id=\"T_d726c_row14_col0\" class=\"data row14 col0\" >Log File</td>\n",
       "      <td id=\"T_d726c_row14_col1\" class=\"data row14 col1\" >/tmp/fablib/fablib.log</td>\n",
       "    </tr>\n",
       "    <tr>\n",
       "      <td id=\"T_d726c_row15_col0\" class=\"data row15 col0\" >Bastion SSH Config File</td>\n",
       "      <td id=\"T_d726c_row15_col1\" class=\"data row15 col1\" >C:\\Users\\alkou/work/fabric_config/ssh_config</td>\n",
       "    </tr>\n",
       "    <tr>\n",
       "      <td id=\"T_d726c_row16_col0\" class=\"data row16 col0\" >Fabric Meta Data Release Tag</td>\n",
       "      <td id=\"T_d726c_row16_col1\" class=\"data row16 col1\" >main</td>\n",
       "    </tr>\n",
       "    <tr>\n",
       "      <td id=\"T_d726c_row17_col0\" class=\"data row17 col0\" >Version</td>\n",
       "      <td id=\"T_d726c_row17_col1\" class=\"data row17 col1\" >1.9.3</td>\n",
       "    </tr>\n",
       "    <tr>\n",
       "      <td id=\"T_d726c_row18_col0\" class=\"data row18 col0\" >Data directory</td>\n",
       "      <td id=\"T_d726c_row18_col1\" class=\"data row18 col1\" >/tmp/fablib</td>\n",
       "    </tr>\n",
       "    <tr>\n",
       "      <td id=\"T_d726c_row19_col0\" class=\"data row19 col0\" >Project Name</td>\n",
       "      <td id=\"T_d726c_row19_col1\" class=\"data row19 col1\" >DYNAMOS project</td>\n",
       "    </tr>\n",
       "  </tbody>\n",
       "</table>\n"
      ],
      "text/plain": [
       "<pandas.io.formats.style.Styler at 0x1759620c2f0>"
      ]
     },
     "metadata": {},
     "output_type": "display_data"
    },
    {
     "data": {
      "text/html": [
       "<style type=\"text/css\">\n",
       "#T_d726c tr:nth-child(even) {\n",
       "  background: #dbf3ff;\n",
       "  color: #231f20;\n",
       "}\n",
       "#T_d726c tr:nth-child(odd) {\n",
       "  background: #ffffff;\n",
       "  color: #231f20;\n",
       "}\n",
       "#T_d726c caption {\n",
       "  text-align: center;\n",
       "  font-size: 150%;\n",
       "}\n",
       "#T_d726c_row0_col0, #T_d726c_row0_col1, #T_d726c_row1_col0, #T_d726c_row1_col1, #T_d726c_row2_col0, #T_d726c_row2_col1, #T_d726c_row3_col0, #T_d726c_row3_col1, #T_d726c_row4_col0, #T_d726c_row4_col1, #T_d726c_row5_col0, #T_d726c_row5_col1, #T_d726c_row6_col0, #T_d726c_row6_col1, #T_d726c_row7_col0, #T_d726c_row7_col1, #T_d726c_row8_col0, #T_d726c_row8_col1, #T_d726c_row9_col0, #T_d726c_row9_col1, #T_d726c_row10_col0, #T_d726c_row10_col1, #T_d726c_row11_col0, #T_d726c_row11_col1, #T_d726c_row12_col0, #T_d726c_row12_col1, #T_d726c_row13_col0, #T_d726c_row13_col1, #T_d726c_row14_col0, #T_d726c_row14_col1, #T_d726c_row15_col0, #T_d726c_row15_col1, #T_d726c_row16_col0, #T_d726c_row16_col1, #T_d726c_row17_col0, #T_d726c_row17_col1, #T_d726c_row18_col0, #T_d726c_row18_col1, #T_d726c_row19_col0, #T_d726c_row19_col1 {\n",
       "  text-align: left;\n",
       "  border: 1px #231f20 solid !important;\n",
       "  overwrite: False;\n",
       "}\n",
       "</style>\n",
       "<table id=\"T_d726c\">\n",
       "  <caption>FABlib Config</caption>\n",
       "  <thead>\n",
       "  </thead>\n",
       "  <tbody>\n",
       "    <tr>\n",
       "      <td id=\"T_d726c_row0_col0\" class=\"data row0 col0\" >Orchestrator</td>\n",
       "      <td id=\"T_d726c_row0_col1\" class=\"data row0 col1\" >orchestrator.fabric-testbed.net</td>\n",
       "    </tr>\n",
       "    <tr>\n",
       "      <td id=\"T_d726c_row1_col0\" class=\"data row1 col0\" >Credential Manager</td>\n",
       "      <td id=\"T_d726c_row1_col1\" class=\"data row1 col1\" >cm.fabric-testbed.net</td>\n",
       "    </tr>\n",
       "    <tr>\n",
       "      <td id=\"T_d726c_row2_col0\" class=\"data row2 col0\" >Core API</td>\n",
       "      <td id=\"T_d726c_row2_col1\" class=\"data row2 col1\" >uis.fabric-testbed.net</td>\n",
       "    </tr>\n",
       "    <tr>\n",
       "      <td id=\"T_d726c_row3_col0\" class=\"data row3 col0\" >Artifact Manager</td>\n",
       "      <td id=\"T_d726c_row3_col1\" class=\"data row3 col1\" >artifacts.fabric-testbed.net</td>\n",
       "    </tr>\n",
       "    <tr>\n",
       "      <td id=\"T_d726c_row4_col0\" class=\"data row4 col0\" >Token File</td>\n",
       "      <td id=\"T_d726c_row4_col1\" class=\"data row4 col1\" >C:\\Users\\alkou\\FABRIC_tokens\\id_token.json</td>\n",
       "    </tr>\n",
       "    <tr>\n",
       "      <td id=\"T_d726c_row5_col0\" class=\"data row5 col0\" >Project ID</td>\n",
       "      <td id=\"T_d726c_row5_col1\" class=\"data row5 col1\" >49f65ad7-d8a2-4ab9-8ca0-ba777a2e0ea2</td>\n",
       "    </tr>\n",
       "    <tr>\n",
       "      <td id=\"T_d726c_row6_col0\" class=\"data row6 col0\" >Bastion Host</td>\n",
       "      <td id=\"T_d726c_row6_col1\" class=\"data row6 col1\" >bastion.fabric-testbed.net</td>\n",
       "    </tr>\n",
       "    <tr>\n",
       "      <td id=\"T_d726c_row7_col0\" class=\"data row7 col0\" >Bastion Username</td>\n",
       "      <td id=\"T_d726c_row7_col1\" class=\"data row7 col1\" >koufalex_0000215529</td>\n",
       "    </tr>\n",
       "    <tr>\n",
       "      <td id=\"T_d726c_row8_col0\" class=\"data row8 col0\" >Bastion Private Key File</td>\n",
       "      <td id=\"T_d726c_row8_col1\" class=\"data row8 col1\" >C:\\Users\\alkou/work/fabric_config/fabric_bastion_key</td>\n",
       "    </tr>\n",
       "    <tr>\n",
       "      <td id=\"T_d726c_row9_col0\" class=\"data row9 col0\" >Slice Public Key File</td>\n",
       "      <td id=\"T_d726c_row9_col1\" class=\"data row9 col1\" >C:\\Users\\alkou/work/fabric_config/slice_key.pub</td>\n",
       "    </tr>\n",
       "    <tr>\n",
       "      <td id=\"T_d726c_row10_col0\" class=\"data row10 col0\" >Slice Private Key File</td>\n",
       "      <td id=\"T_d726c_row10_col1\" class=\"data row10 col1\" >C:\\Users\\alkou/work/fabric_config/slice_key</td>\n",
       "    </tr>\n",
       "    <tr>\n",
       "      <td id=\"T_d726c_row11_col0\" class=\"data row11 col0\" >Sites to avoid</td>\n",
       "      <td id=\"T_d726c_row11_col1\" class=\"data row11 col1\" ></td>\n",
       "    </tr>\n",
       "    <tr>\n",
       "      <td id=\"T_d726c_row12_col0\" class=\"data row12 col0\" >SSH Command Line</td>\n",
       "      <td id=\"T_d726c_row12_col1\" class=\"data row12 col1\" >ssh -i {{ _self_.private_ssh_key_file }} -F C:\\Users\\alkou/work/fabric_config/ssh_config {{ _self_.username }}@{{ _self_.management_ip }}</td>\n",
       "    </tr>\n",
       "    <tr>\n",
       "      <td id=\"T_d726c_row13_col0\" class=\"data row13 col0\" >Log Level</td>\n",
       "      <td id=\"T_d726c_row13_col1\" class=\"data row13 col1\" >INFO</td>\n",
       "    </tr>\n",
       "    <tr>\n",
       "      <td id=\"T_d726c_row14_col0\" class=\"data row14 col0\" >Log File</td>\n",
       "      <td id=\"T_d726c_row14_col1\" class=\"data row14 col1\" >/tmp/fablib/fablib.log</td>\n",
       "    </tr>\n",
       "    <tr>\n",
       "      <td id=\"T_d726c_row15_col0\" class=\"data row15 col0\" >Bastion SSH Config File</td>\n",
       "      <td id=\"T_d726c_row15_col1\" class=\"data row15 col1\" >C:\\Users\\alkou/work/fabric_config/ssh_config</td>\n",
       "    </tr>\n",
       "    <tr>\n",
       "      <td id=\"T_d726c_row16_col0\" class=\"data row16 col0\" >Fabric Meta Data Release Tag</td>\n",
       "      <td id=\"T_d726c_row16_col1\" class=\"data row16 col1\" >main</td>\n",
       "    </tr>\n",
       "    <tr>\n",
       "      <td id=\"T_d726c_row17_col0\" class=\"data row17 col0\" >Version</td>\n",
       "      <td id=\"T_d726c_row17_col1\" class=\"data row17 col1\" >1.9.3</td>\n",
       "    </tr>\n",
       "    <tr>\n",
       "      <td id=\"T_d726c_row18_col0\" class=\"data row18 col0\" >Data directory</td>\n",
       "      <td id=\"T_d726c_row18_col1\" class=\"data row18 col1\" >/tmp/fablib</td>\n",
       "    </tr>\n",
       "    <tr>\n",
       "      <td id=\"T_d726c_row19_col0\" class=\"data row19 col0\" >Project Name</td>\n",
       "      <td id=\"T_d726c_row19_col1\" class=\"data row19 col1\" >DYNAMOS project</td>\n",
       "    </tr>\n",
       "  </tbody>\n",
       "</table>\n"
      ],
      "text/plain": [
       "<pandas.io.formats.style.Styler at 0x1759620c2f0>"
      ]
     },
     "execution_count": 4,
     "metadata": {},
     "output_type": "execute_result"
    }
   ],
   "source": [
    "import datetime\n",
    "import json\n",
    "import asyncio\n",
    "\n",
    "from fabrictestbed_extensions.fablib.fablib import FablibManager as fablib_manager\n",
    "\n",
    "fablib = fablib_manager()\n",
    "\n",
    "fablib.show_config()"
   ]
  },
  {
   "cell_type": "code",
   "execution_count": null,
   "id": "031637a0",
   "metadata": {},
   "outputs": [
    {
     "name": "stdout",
     "output_type": "stream",
     "text": [
      "{'default_centos8_stream': {'description': 'CentOS 8 Stream (non-stream)', 'default_user': 'centos'}, 'default_centos9_stream': {'description': 'CentOS 9 Stream (default install)', 'default_user': 'cloud-user'}, 'default_centos10_stream': {'description': 'CentOS 10 Stream (default install)', 'default_user': 'cloud-user'}, 'default_debian_11': {'description': 'Debian 11 Bullseye', 'default_user': 'debian'}, 'default_debian_12': {'description': 'Debian 12 Bookworm', 'default_user': 'debian'}, 'default_fedora_39': {'description': 'Fedora 39', 'default_user': 'fedora'}, 'default_fedora_40': {'description': 'Fedora 40', 'default_user': 'fedora'}, 'default_freebsd_13_zfs': {'description': 'FreeBSD 13 with ZFS', 'default_user': 'freebsd'}, 'default_freebsd_14_zfs': {'description': 'FreeBSD 14 with ZFS', 'default_user': 'freebsd'}, 'default_kali': {'description': 'Kali Linux (for penetration testing)', 'default_user': 'kali'}, 'default_openbsd_7': {'description': 'OpenBSD 7', 'default_user': 'openbsd'}, 'default_rocky_8': {'description': 'Rocky Linux 8', 'default_user': 'rocky'}, 'default_rocky_9': {'description': 'Rocky Linux 9', 'default_user': 'rocky'}, 'default_ubuntu_20': {'description': 'Ubuntu 20.04 LTS Focal Fossa', 'default_user': 'ubuntu'}, 'default_ubuntu_22': {'description': 'Ubuntu 22.04 LTS Jammy Jellyfish', 'default_user': 'ubuntu'}, 'default_ubuntu_24': {'description': 'Ubuntu 24.04 LTS Noble Numbat', 'default_user': 'ubuntu'}, 'docker_rocky_8': {'description': 'Rocky Linux 8 Docker image', 'default_user': 'rocky'}, 'docker_rocky_9': {'description': 'Rocky Linux 9 Docker image', 'default_user': 'rocky'}, 'docker_ubuntu_20': {'description': 'Ubuntu 20.04 LTS Docker image', 'default_user': 'ubuntu'}, 'docker_ubuntu_22': {'description': 'Ubuntu 22.04 LTS Docker image', 'default_user': 'ubuntu'}, 'attestable_bmv2_v1_ubuntu_20': {'description': 'Ubuntu 20.04 LTS Focal Fossa with BMv2 essentials', 'default_user': 'ubuntu'}}\n"
     ]
    }
   ],
   "source": [
    "print(fablib.get_image_names())"
   ]
  },
  {
   "cell_type": "code",
   "execution_count": 5,
   "id": "11c71c9b",
   "metadata": {},
   "outputs": [],
   "source": [
    "slice_name = 'DYNAMOS-on-FABRIC'\n",
    "image = \"default_ubuntu_24\"\n",
    "\n",
    "node_configurations = [\n",
    "    {\n",
    "        \"type\": \"control\",\n",
    "        \"cores\": 2,\n",
    "        \"ram\": 8,\n",
    "        \"disk\": 100,\n",
    "        \"site\": \"AMST\",\n",
    "        \"host\": \"amst-w3.fabric-testbed.net\",\n",
    "    },\n",
    "    {\n",
    "        \"type\": \"dynamos\",\n",
    "        \"cores\": 4,\n",
    "        \"ram\": 16,\n",
    "        \"disk\": 100,\n",
    "        \"site\": \"AMST\",\n",
    "        \"host\": \"amst-w3.fabric-testbed.net\",\n",
    "    },\n",
    "    {\n",
    "        \"type\": \"agent\",\n",
    "        \"name\": \"alpha\",\n",
    "        \"cores\": 4,\n",
    "        \"ram\": 16,\n",
    "        \"disk\": 100,\n",
    "        \"site\": \"AMST\",\n",
    "        \"host\": \"amst-w3.fabric-testbed.net\",\n",
    "    },\n",
    "    {\n",
    "        \"type\": \"agent\",\n",
    "        \"name\": \"enigma\",\n",
    "        \"cores\": 4,\n",
    "        \"ram\": 16,\n",
    "        \"disk\": 100,\n",
    "        \"site\": \"LOSA\",\n",
    "        \"host\": \"losa-w3.fabric-testbed.net\",\n",
    "    },\n",
    "    {\n",
    "        \"type\": \"thirdparty\",\n",
    "        \"name\": \"omnia\",\n",
    "        \"cores\": 8,\n",
    "        \"ram\": 16,\n",
    "        \"disk\": 100,\n",
    "        \"site\": \"TOKY\",\n",
    "        \"host\": \"toky-w3.fabric-testbed.net\",\n",
    "    },\n",
    "    {\n",
    "        \"type\": \"thirdparty\",\n",
    "        \"name\": \"scientia\",\n",
    "        \"cores\": 8,\n",
    "        \"ram\": 16,\n",
    "        \"disk\": 100,\n",
    "        \"site\": \"TOKY\",\n",
    "        \"host\": \"toky-w3.fabric-testbed.net\",\n",
    "    }\n",
    "]\n",
    "\n",
    "sites = list(set([configuration[\"site\"] for configuration in node_configurations]))\n"
   ]
  },
  {
   "cell_type": "code",
   "execution_count": 6,
   "id": "b78553e4",
   "metadata": {},
   "outputs": [
    {
     "name": "stdout",
     "output_type": "stream",
     "text": [
      "['AMST', 'TOKY', 'LOSA']\n"
     ]
    }
   ],
   "source": [
    "print(sites)"
   ]
  },
  {
   "cell_type": "code",
   "execution_count": 11,
   "id": "4ce30eea",
   "metadata": {},
   "outputs": [],
   "source": [
    "import fabrictestbed_extensions\n",
    "from fabrictestbed_extensions.fablib.fablib import SliceState"
   ]
  },
  {
   "cell_type": "code",
   "execution_count": 14,
   "id": "3e6fa182",
   "metadata": {},
   "outputs": [
    {
     "name": "stdout",
     "output_type": "stream",
     "text": [
      "Help on method get_slice in module fabrictestbed_extensions.fablib.fablib:\n",
      "\n",
      "get_slice(name: 'str' = None, slice_id: 'str' = None, user_only: 'bool' = True, show_un_submitted: 'bool' = False) -> 'Slice' method of fabrictestbed_extensions.fablib.fablib.FablibManager instance\n",
      "    Gets a slice by name or slice_id. Dead and Closing slices may have\n",
      "    non-unique names and must be queried by slice_id.  Slices in all other\n",
      "    states are guaranteed to have unique names and can be queried by name.\n",
      "\n",
      "    If both a name and slice_id are provided, the slice matching the\n",
      "    slice_id will be returned.\n",
      "\n",
      "    :param name: The name of the desired slice\n",
      "    :type name: String\n",
      "    :param slice_id: The ID of the desired slice\n",
      "    :type slice_id: String\n",
      "    :param user_only: True indicates return own slices; False indicates return project slices\n",
      "    :type user_only: bool\n",
      "    :param show_un_submitted: Show unsubmitted slices\n",
      "    :type show_un_submitted: bool\n",
      "    :raises: Exception: if slice name or slice id are not inputted\n",
      "    :return: the slice, if found\n",
      "    :rtype: Slice\n",
      "\n"
     ]
    }
   ],
   "source": [
    "help(fablib.get_slice)\n",
    "# help(fablib)"
   ]
  },
  {
   "cell_type": "code",
   "execution_count": null,
   "id": "55c55ed0",
   "metadata": {},
   "outputs": [],
   "source": [
    "slice = fablib.get_slice(\n",
    "    name=\"DYNAMOS-on-FABRIC\",\n",
    "    # excludes=[SliceState.Dead, SliceState.Closing],\n",
    "    user_only=True\n",
    "    )"
   ]
  },
  {
   "cell_type": "code",
   "execution_count": null,
   "id": "bf9268a7",
   "metadata": {},
   "outputs": [],
   "source": [
    "\n",
    "nodes = slice.get_nodes()\n",
    "nodes_and_network_per_site = [\n",
    "    (site, [node for node in nodes if node.get_site() == site], slice.get_network(name=f\"Network-{site}\"))\n",
    "    for site in sites\n",
    "]\n"
   ]
  },
  {
   "cell_type": "code",
   "execution_count": 20,
   "id": "ce82184a",
   "metadata": {},
   "outputs": [
    {
     "data": {
      "text/plain": [
       "[('AMST', [], None), ('TOKY', [], None), ('LOSA', [], None)]"
      ]
     },
     "execution_count": 20,
     "metadata": {},
     "output_type": "execute_result"
    }
   ],
   "source": [
    "nodes_and_network_per_site"
   ]
  },
  {
   "cell_type": "code",
   "execution_count": null,
   "id": "9d8c7d76",
   "metadata": {},
   "outputs": [
    {
     "ename": "AttributeError",
     "evalue": "'NoneType' object has no attribute 'get_available_ips'",
     "output_type": "error",
     "traceback": [
      "\u001b[31m---------------------------------------------------------------------------\u001b[39m",
      "\u001b[31mAttributeError\u001b[39m                            Traceback (most recent call last)",
      "\u001b[36mCell\u001b[39m\u001b[36m \u001b[39m\u001b[32mIn[19]\u001b[39m\u001b[32m, line 8\u001b[39m\n\u001b[32m      1\u001b[39m nodes = \u001b[38;5;28mslice\u001b[39m.get_nodes()\n\u001b[32m      2\u001b[39m nodes_and_network_per_site = [\n\u001b[32m      3\u001b[39m     (site, [node \u001b[38;5;28;01mfor\u001b[39;00m node \u001b[38;5;129;01min\u001b[39;00m nodes \u001b[38;5;28;01mif\u001b[39;00m node.get_site() == site], \u001b[38;5;28mslice\u001b[39m.get_network(name=\u001b[33mf\u001b[39m\u001b[33m\"\u001b[39m\u001b[33mNetwork-\u001b[39m\u001b[38;5;132;01m{\u001b[39;00msite\u001b[38;5;132;01m}\u001b[39;00m\u001b[33m\"\u001b[39m))\n\u001b[32m      4\u001b[39m     \u001b[38;5;28;01mfor\u001b[39;00m site \u001b[38;5;129;01min\u001b[39;00m sites\n\u001b[32m      5\u001b[39m ]\n\u001b[32m      7\u001b[39m nodes_network_ips_per_site = [\n\u001b[32m----> \u001b[39m\u001b[32m8\u001b[39m     (site, nodes, network, \u001b[43mnetwork\u001b[49m\u001b[43m.\u001b[49m\u001b[43mget_available_ips\u001b[49m(\u001b[38;5;28mlen\u001b[39m(nodes)))\n\u001b[32m      9\u001b[39m     \u001b[38;5;28;01mfor\u001b[39;00m (site, nodes, network) \u001b[38;5;129;01min\u001b[39;00m nodes_and_network_per_site\n\u001b[32m     10\u001b[39m ]\n",
      "\u001b[31mAttributeError\u001b[39m: 'NoneType' object has no attribute 'get_available_ips'"
     ]
    }
   ],
   "source": [
    "\n",
    "nodes_network_ips_per_site = [\n",
    "    (site, nodes, network, network.get_available_ips(len(nodes)))\n",
    "    for (site, nodes, network) in nodes_and_network_per_site\n",
    "]"
   ]
  },
  {
   "cell_type": "code",
   "execution_count": 18,
   "id": "286d95d2",
   "metadata": {},
   "outputs": [
    {
     "data": {
      "text/plain": [
       "<fabrictestbed_extensions.fablib.slice.Slice at 0x17eb22403b0>"
      ]
     },
     "execution_count": 18,
     "metadata": {},
     "output_type": "execute_result"
    }
   ],
   "source": [
    "slice"
   ]
  },
  {
   "cell_type": "code",
   "execution_count": 21,
   "id": "e32e47f7",
   "metadata": {},
   "outputs": [],
   "source": [
    "for node in slice.get_nodes():\n",
    "    stdout, stderr = node.execute('echo Hello, FABRIC from node `hostname -s`')"
   ]
  }
 ],
 "metadata": {
  "kernelspec": {
   "display_name": "dynamos_fabric_env",
   "language": "python",
   "name": "python3"
  },
  "language_info": {
   "codemirror_mode": {
    "name": "ipython",
    "version": 3
   },
   "file_extension": ".py",
   "mimetype": "text/x-python",
   "name": "python",
   "nbconvert_exporter": "python",
   "pygments_lexer": "ipython3",
   "version": "3.12.7"
  }
 },
 "nbformat": 4,
 "nbformat_minor": 5
}
