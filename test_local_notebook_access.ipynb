{
 "cells": [
  {
   "cell_type": "markdown",
   "id": "6ce5f521",
   "metadata": {},
   "source": [
    "# Utilities for monitoring SD and DYNAMOS on FABRIC "
   ]
  },
  {
   "cell_type": "code",
   "execution_count": 1,
   "id": "7a0ed1a9",
   "metadata": {},
   "outputs": [
    {
     "name": "stdout",
     "output_type": "stream",
     "text": [
      "hey 2 \n"
     ]
    }
   ],
   "source": [
    "print(\"hey 2 \")"
   ]
  },
  {
   "cell_type": "code",
   "execution_count": 2,
   "id": "88128066",
   "metadata": {},
   "outputs": [
    {
     "name": "stderr",
     "output_type": "stream",
     "text": [
      "c:\\Users\\alkou\\Documents\\GitHub\\Scattered-Directive\\dynamos_fabric_env\\Lib\\site-packages\\fabric_cm\\credmgr\\credmgr_proxy.py:205: DeprecationWarning: datetime.datetime.utcnow() is deprecated and scheduled for removal in a future version. Use timezone-aware objects to represent datetimes in UTC: datetime.datetime.now(datetime.UTC).\n",
      "  self.CREATED_AT: datetime.strftime(datetime.utcnow(), self.TIME_FORMAT)}\n"
     ]
    },
    {
     "ename": "TokenManagerException",
     "evalue": "Internal Server Error - ",
     "output_type": "error",
     "traceback": [
      "\u001b[31m---------------------------------------------------------------------------\u001b[39m",
      "\u001b[31mTokenManagerException\u001b[39m                     Traceback (most recent call last)",
      "\u001b[36mFile \u001b[39m\u001b[32mc:\\Users\\alkou\\Documents\\GitHub\\Scattered-Directive\\dynamos_fabric_env\\Lib\\site-packages\\fabrictestbed\\token_manager\\token_manager.py:251\u001b[39m, in \u001b[36mTokenManager.refresh_tokens\u001b[39m\u001b[34m(self, refresh_token)\u001b[39m\n\u001b[32m    250\u001b[39m         error_message = Utils.extract_error_message(exception=tokens)\n\u001b[32m--> \u001b[39m\u001b[32m251\u001b[39m         \u001b[38;5;28;01mraise\u001b[39;00m TokenManagerException(error_message)\n\u001b[32m    252\u001b[39m \u001b[38;5;28;01mexcept\u001b[39;00m \u001b[38;5;167;01mException\u001b[39;00m \u001b[38;5;28;01mas\u001b[39;00m e:\n",
      "\u001b[31mTokenManagerException\u001b[39m: Internal Server Error - ",
      "\nDuring handling of the above exception, another exception occurred:\n",
      "\u001b[31mTokenManagerException\u001b[39m                     Traceback (most recent call last)",
      "\u001b[36mCell\u001b[39m\u001b[36m \u001b[39m\u001b[32mIn[2]\u001b[39m\u001b[32m, line 7\u001b[39m\n\u001b[32m      3\u001b[39m \u001b[38;5;28;01mimport\u001b[39;00m\u001b[38;5;250m \u001b[39m\u001b[34;01masyncio\u001b[39;00m\n\u001b[32m      5\u001b[39m \u001b[38;5;28;01mfrom\u001b[39;00m\u001b[38;5;250m \u001b[39m\u001b[34;01mfabrictestbed_extensions\u001b[39;00m\u001b[34;01m.\u001b[39;00m\u001b[34;01mfablib\u001b[39;00m\u001b[34;01m.\u001b[39;00m\u001b[34;01mfablib\u001b[39;00m\u001b[38;5;250m \u001b[39m\u001b[38;5;28;01mimport\u001b[39;00m FablibManager \u001b[38;5;28;01mas\u001b[39;00m fablib_manager\n\u001b[32m----> \u001b[39m\u001b[32m7\u001b[39m fablib = \u001b[43mfablib_manager\u001b[49m\u001b[43m(\u001b[49m\u001b[43m)\u001b[49m\n\u001b[32m      9\u001b[39m fablib.show_config()\n",
      "\u001b[36mFile \u001b[39m\u001b[32mc:\\Users\\alkou\\Documents\\GitHub\\Scattered-Directive\\dynamos_fabric_env\\Lib\\site-packages\\fabrictestbed_extensions\\fablib\\fablib.py:717\u001b[39m, in \u001b[36mFablibManager.__init__\u001b[39m\u001b[34m(self, fabric_rc, credmgr_host, orchestrator_host, core_api_host, am_host, token_location, project_id, bastion_username, bastion_key_location, log_level, log_file, data_dir, output, execute_thread_pool_size, offline, auto_token_refresh, validate_config, **kwargs)\u001b[39m\n\u001b[32m    715\u001b[39m \u001b[38;5;28;01mif\u001b[39;00m \u001b[38;5;129;01mnot\u001b[39;00m offline:\n\u001b[32m    716\u001b[39m     \u001b[38;5;28mself\u001b[39m.ssh_thread_pool_executor = ThreadPoolExecutor(execute_thread_pool_size)\n\u001b[32m--> \u001b[39m\u001b[32m717\u001b[39m     \u001b[38;5;28;43mself\u001b[39;49m\u001b[43m.\u001b[49m\u001b[43m__build_manager\u001b[49m\u001b[43m(\u001b[49m\u001b[43m)\u001b[49m\n\u001b[32m    718\u001b[39m     \u001b[38;5;28;01mif\u001b[39;00m validate_config:\n\u001b[32m    719\u001b[39m         \u001b[38;5;28mself\u001b[39m.verify_and_configure(validate_only=\u001b[38;5;28;01mTrue\u001b[39;00m)\n",
      "\u001b[36mFile \u001b[39m\u001b[32mc:\\Users\\alkou\\Documents\\GitHub\\Scattered-Directive\\dynamos_fabric_env\\Lib\\site-packages\\fabrictestbed_extensions\\fablib\\fablib.py:1311\u001b[39m, in \u001b[36mFablibManager.__build_manager\u001b[39m\u001b[34m(self)\u001b[39m\n\u001b[32m   1309\u001b[39m \u001b[38;5;28;01mexcept\u001b[39;00m \u001b[38;5;167;01mException\u001b[39;00m \u001b[38;5;28;01mas\u001b[39;00m e:\n\u001b[32m   1310\u001b[39m     logging.error(e, exc_info=\u001b[38;5;28;01mTrue\u001b[39;00m)\n\u001b[32m-> \u001b[39m\u001b[32m1311\u001b[39m     \u001b[38;5;28;01mraise\u001b[39;00m e\n\u001b[32m   1313\u001b[39m \u001b[38;5;28;01mreturn\u001b[39;00m \u001b[38;5;28mself\u001b[39m.manager\n",
      "\u001b[36mFile \u001b[39m\u001b[32mc:\\Users\\alkou\\Documents\\GitHub\\Scattered-Directive\\dynamos_fabric_env\\Lib\\site-packages\\fabrictestbed_extensions\\fablib\\fablib.py:1290\u001b[39m, in \u001b[36mFablibManager.__build_manager\u001b[39m\u001b[34m(self)\u001b[39m\n\u001b[32m   1287\u001b[39m Utils.is_reachable(hostname=\u001b[38;5;28mself\u001b[39m.get_orchestrator_host())\n\u001b[32m   1288\u001b[39m Utils.is_reachable(hostname=\u001b[38;5;28mself\u001b[39m.get_core_api_host())\n\u001b[32m-> \u001b[39m\u001b[32m1290\u001b[39m \u001b[38;5;28mself\u001b[39m.manager = \u001b[43mFabricManager\u001b[49m\u001b[43m(\u001b[49m\n\u001b[32m   1291\u001b[39m \u001b[43m    \u001b[49m\u001b[43moc_host\u001b[49m\u001b[43m=\u001b[49m\u001b[38;5;28;43mself\u001b[39;49m\u001b[43m.\u001b[49m\u001b[43mget_orchestrator_host\u001b[49m\u001b[43m(\u001b[49m\u001b[43m)\u001b[49m\u001b[43m,\u001b[49m\n\u001b[32m   1292\u001b[39m \u001b[43m    \u001b[49m\u001b[43mcm_host\u001b[49m\u001b[43m=\u001b[49m\u001b[38;5;28;43mself\u001b[39;49m\u001b[43m.\u001b[49m\u001b[43mget_credmgr_host\u001b[49m\u001b[43m(\u001b[49m\u001b[43m)\u001b[49m\u001b[43m,\u001b[49m\n\u001b[32m   1293\u001b[39m \u001b[43m    \u001b[49m\u001b[43mcore_api_host\u001b[49m\u001b[43m=\u001b[49m\u001b[38;5;28;43mself\u001b[39;49m\u001b[43m.\u001b[49m\u001b[43mget_core_api_host\u001b[49m\u001b[43m(\u001b[49m\u001b[43m)\u001b[49m\u001b[43m,\u001b[49m\n\u001b[32m   1294\u001b[39m \u001b[43m    \u001b[49m\u001b[43mam_host\u001b[49m\u001b[43m=\u001b[49m\u001b[38;5;28;43mself\u001b[39;49m\u001b[43m.\u001b[49m\u001b[43mget_am_host\u001b[49m\u001b[43m(\u001b[49m\u001b[43m)\u001b[49m\u001b[43m,\u001b[49m\n\u001b[32m   1295\u001b[39m \u001b[43m    \u001b[49m\u001b[43mproject_id\u001b[49m\u001b[43m=\u001b[49m\u001b[38;5;28;43mself\u001b[39;49m\u001b[43m.\u001b[49m\u001b[43mget_project_id\u001b[49m\u001b[43m(\u001b[49m\u001b[43m)\u001b[49m\u001b[43m,\u001b[49m\n\u001b[32m   1296\u001b[39m \u001b[43m    \u001b[49m\u001b[43mtoken_location\u001b[49m\u001b[43m=\u001b[49m\u001b[38;5;28;43mself\u001b[39;49m\u001b[43m.\u001b[49m\u001b[43mget_token_location\u001b[49m\u001b[43m(\u001b[49m\u001b[43m)\u001b[49m\u001b[43m,\u001b[49m\n\u001b[32m   1297\u001b[39m \u001b[43m    \u001b[49m\u001b[43minitialize\u001b[49m\u001b[43m=\u001b[49m\u001b[38;5;28;43;01mTrue\u001b[39;49;00m\u001b[43m,\u001b[49m\n\u001b[32m   1298\u001b[39m \u001b[43m    \u001b[49m\u001b[43mscope\u001b[49m\u001b[43m=\u001b[49m\u001b[33;43m\"\u001b[39;49m\u001b[33;43mall\u001b[39;49m\u001b[33;43m\"\u001b[39;49m\u001b[43m,\u001b[49m\n\u001b[32m   1299\u001b[39m \u001b[43m    \u001b[49m\u001b[43mauto_refresh\u001b[49m\u001b[43m=\u001b[49m\u001b[38;5;28;43mself\u001b[39;49m\u001b[43m.\u001b[49m\u001b[43mauto_token_refresh\u001b[49m\u001b[43m,\u001b[49m\n\u001b[32m   1300\u001b[39m \u001b[43m\u001b[49m\u001b[43m)\u001b[49m\n\u001b[32m   1301\u001b[39m \u001b[38;5;28mself\u001b[39m.manager.initialize()\n\u001b[32m   1302\u001b[39m logging.debug(\u001b[33m\"\u001b[39m\u001b[33mFabric manager initialized!\u001b[39m\u001b[33m\"\u001b[39m)\n",
      "\u001b[36mFile \u001b[39m\u001b[32mc:\\Users\\alkou\\Documents\\GitHub\\Scattered-Directive\\dynamos_fabric_env\\Lib\\site-packages\\fabrictestbed\\fabric_manager.py:66\u001b[39m, in \u001b[36mFabricManager.__init__\u001b[39m\u001b[34m(self, cm_host, oc_host, core_api_host, am_host, token_location, project_id, scope, initialize, project_name, auto_refresh)\u001b[39m\n\u001b[32m     63\u001b[39m \u001b[38;5;28;01mdef\u001b[39;00m\u001b[38;5;250m \u001b[39m\u001b[34m__init__\u001b[39m(\u001b[38;5;28mself\u001b[39m, *, cm_host: \u001b[38;5;28mstr\u001b[39m = \u001b[38;5;28;01mNone\u001b[39;00m, oc_host: \u001b[38;5;28mstr\u001b[39m = \u001b[38;5;28;01mNone\u001b[39;00m, core_api_host: \u001b[38;5;28mstr\u001b[39m = \u001b[38;5;28;01mNone\u001b[39;00m, am_host: \u001b[38;5;28mstr\u001b[39m = \u001b[38;5;28;01mNone\u001b[39;00m,\n\u001b[32m     64\u001b[39m              token_location: \u001b[38;5;28mstr\u001b[39m = \u001b[38;5;28;01mNone\u001b[39;00m, project_id: \u001b[38;5;28mstr\u001b[39m = \u001b[38;5;28;01mNone\u001b[39;00m, scope: \u001b[38;5;28mstr\u001b[39m = \u001b[33m\"\u001b[39m\u001b[33mall\u001b[39m\u001b[33m\"\u001b[39m, initialize: \u001b[38;5;28mbool\u001b[39m = \u001b[38;5;28;01mTrue\u001b[39;00m,\n\u001b[32m     65\u001b[39m              project_name: \u001b[38;5;28mstr\u001b[39m = \u001b[38;5;28;01mNone\u001b[39;00m, auto_refresh: \u001b[38;5;28mbool\u001b[39m = \u001b[38;5;28;01mTrue\u001b[39;00m):\n\u001b[32m---> \u001b[39m\u001b[32m66\u001b[39m     \u001b[38;5;28;43msuper\u001b[39;49m\u001b[43m(\u001b[49m\u001b[43m)\u001b[49m\u001b[43m.\u001b[49m\u001b[34;43m__init__\u001b[39;49m\u001b[43m(\u001b[49m\u001b[43mcm_host\u001b[49m\u001b[43m=\u001b[49m\u001b[43mcm_host\u001b[49m\u001b[43m,\u001b[49m\u001b[43m \u001b[49m\u001b[43moc_host\u001b[49m\u001b[43m=\u001b[49m\u001b[43moc_host\u001b[49m\u001b[43m,\u001b[49m\u001b[43m \u001b[49m\u001b[43mtoken_location\u001b[49m\u001b[43m=\u001b[49m\u001b[43mtoken_location\u001b[49m\u001b[43m,\u001b[49m\n\u001b[32m     67\u001b[39m \u001b[43m                     \u001b[49m\u001b[43mproject_id\u001b[49m\u001b[43m=\u001b[49m\u001b[43mproject_id\u001b[49m\u001b[43m,\u001b[49m\u001b[43m \u001b[49m\u001b[43mscope\u001b[49m\u001b[43m=\u001b[49m\u001b[43mscope\u001b[49m\u001b[43m,\u001b[49m\u001b[43m \u001b[49m\u001b[43minitialize\u001b[49m\u001b[43m=\u001b[49m\u001b[43minitialize\u001b[49m\u001b[43m,\u001b[49m\u001b[43m \u001b[49m\u001b[43mproject_name\u001b[49m\u001b[43m=\u001b[49m\u001b[43mproject_name\u001b[49m\u001b[43m,\u001b[49m\n\u001b[32m     68\u001b[39m \u001b[43m                     \u001b[49m\u001b[43mauto_refresh\u001b[49m\u001b[43m=\u001b[49m\u001b[43mauto_refresh\u001b[49m\u001b[43m)\u001b[49m\n\u001b[32m     69\u001b[39m     \u001b[38;5;28;01mif\u001b[39;00m core_api_host \u001b[38;5;129;01mis\u001b[39;00m \u001b[38;5;28;01mNone\u001b[39;00m:\n\u001b[32m     70\u001b[39m         core_api_host = os.environ.get(Constants.FABRIC_CORE_API_HOST)\n",
      "\u001b[36mFile \u001b[39m\u001b[32mc:\\Users\\alkou\\Documents\\GitHub\\Scattered-Directive\\dynamos_fabric_env\\Lib\\site-packages\\fabrictestbed\\slice_manager\\slice_manager.py:50\u001b[39m, in \u001b[36mSliceManager.__init__\u001b[39m\u001b[34m(self, cm_host, oc_host, token_location, project_id, scope, initialize, project_name, auto_refresh)\u001b[39m\n\u001b[32m     48\u001b[39m \u001b[38;5;28;01mdef\u001b[39;00m\u001b[38;5;250m \u001b[39m\u001b[34m__init__\u001b[39m(\u001b[38;5;28mself\u001b[39m, *, cm_host: \u001b[38;5;28mstr\u001b[39m = \u001b[38;5;28;01mNone\u001b[39;00m, oc_host: \u001b[38;5;28mstr\u001b[39m = \u001b[38;5;28;01mNone\u001b[39;00m, token_location: \u001b[38;5;28mstr\u001b[39m = \u001b[38;5;28;01mNone\u001b[39;00m, project_id: \u001b[38;5;28mstr\u001b[39m = \u001b[38;5;28;01mNone\u001b[39;00m,\n\u001b[32m     49\u001b[39m              scope: \u001b[38;5;28mstr\u001b[39m = \u001b[33m\"\u001b[39m\u001b[33mall\u001b[39m\u001b[33m\"\u001b[39m, initialize: \u001b[38;5;28mbool\u001b[39m = \u001b[38;5;28;01mTrue\u001b[39;00m, project_name: \u001b[38;5;28mstr\u001b[39m = \u001b[38;5;28;01mNone\u001b[39;00m, auto_refresh: \u001b[38;5;28mbool\u001b[39m = \u001b[38;5;28;01mTrue\u001b[39;00m):\n\u001b[32m---> \u001b[39m\u001b[32m50\u001b[39m     \u001b[38;5;28;43msuper\u001b[39;49m\u001b[43m(\u001b[49m\u001b[43m)\u001b[49m\u001b[43m.\u001b[49m\u001b[34;43m__init__\u001b[39;49m\u001b[43m(\u001b[49m\u001b[43mcm_host\u001b[49m\u001b[43m=\u001b[49m\u001b[43mcm_host\u001b[49m\u001b[43m,\u001b[49m\u001b[43m \u001b[49m\u001b[43mtoken_location\u001b[49m\u001b[43m=\u001b[49m\u001b[43mtoken_location\u001b[49m\u001b[43m,\u001b[49m\u001b[43m \u001b[49m\u001b[43mproject_id\u001b[49m\u001b[43m=\u001b[49m\u001b[43mproject_id\u001b[49m\u001b[43m,\u001b[49m\u001b[43m \u001b[49m\u001b[43mscope\u001b[49m\u001b[43m=\u001b[49m\u001b[43mscope\u001b[49m\u001b[43m,\u001b[49m\n\u001b[32m     51\u001b[39m \u001b[43m                     \u001b[49m\u001b[43mproject_name\u001b[49m\u001b[43m=\u001b[49m\u001b[43mproject_name\u001b[49m\u001b[43m,\u001b[49m\u001b[43m \u001b[49m\u001b[43mauto_refresh\u001b[49m\u001b[43m=\u001b[49m\u001b[43mauto_refresh\u001b[49m\u001b[43m,\u001b[49m\u001b[43m \u001b[49m\u001b[43minitialize\u001b[49m\u001b[43m=\u001b[49m\u001b[43minitialize\u001b[49m\u001b[43m)\u001b[49m\n\u001b[32m     52\u001b[39m     \u001b[38;5;28;01mif\u001b[39;00m oc_host \u001b[38;5;129;01mis\u001b[39;00m \u001b[38;5;28;01mNone\u001b[39;00m:\n\u001b[32m     53\u001b[39m         oc_host = os.environ.get(Constants.FABRIC_ORCHESTRATOR_HOST)\n",
      "\u001b[36mFile \u001b[39m\u001b[32mc:\\Users\\alkou\\Documents\\GitHub\\Scattered-Directive\\dynamos_fabric_env\\Lib\\site-packages\\fabrictestbed\\token_manager\\token_manager.py:107\u001b[39m, in \u001b[36mTokenManager.__init__\u001b[39m\u001b[34m(self, cm_host, token_location, project_id, scope, project_name, auto_refresh, initialize)\u001b[39m\n\u001b[32m    104\u001b[39m \u001b[38;5;28mself\u001b[39m.user_email = \u001b[38;5;28;01mNone\u001b[39;00m\n\u001b[32m    106\u001b[39m \u001b[38;5;28;01mif\u001b[39;00m initialize:\n\u001b[32m--> \u001b[39m\u001b[32m107\u001b[39m     \u001b[38;5;28;43mself\u001b[39;49m\u001b[43m.\u001b[49m\u001b[43minitialize\u001b[49m\u001b[43m(\u001b[49m\u001b[43m)\u001b[49m\n",
      "\u001b[36mFile \u001b[39m\u001b[32mc:\\Users\\alkou\\Documents\\GitHub\\Scattered-Directive\\dynamos_fabric_env\\Lib\\site-packages\\fabrictestbed\\token_manager\\token_manager.py:116\u001b[39m, in \u001b[36mTokenManager.initialize\u001b[39m\u001b[34m(self)\u001b[39m\n\u001b[32m    110\u001b[39m \u001b[38;5;250m\u001b[39m\u001b[33;03m\"\"\"\u001b[39;00m\n\u001b[32m    111\u001b[39m \u001b[33;03mInitialize the Slice Manager object\u001b[39;00m\n\u001b[32m    112\u001b[39m \u001b[33;03m- Load the tokens\u001b[39;00m\n\u001b[32m    113\u001b[39m \u001b[33;03m- Refresh if needed\u001b[39;00m\n\u001b[32m    114\u001b[39m \u001b[33;03m\"\"\"\u001b[39;00m\n\u001b[32m    115\u001b[39m \u001b[38;5;28;01mif\u001b[39;00m \u001b[38;5;129;01mnot\u001b[39;00m \u001b[38;5;28mself\u001b[39m.initialized:\n\u001b[32m--> \u001b[39m\u001b[32m116\u001b[39m     \u001b[38;5;28;43mself\u001b[39;49m\u001b[43m.\u001b[49m\u001b[43m_load_tokens\u001b[49m\u001b[43m(\u001b[49m\u001b[43m)\u001b[49m\n\u001b[32m    117\u001b[39m     \u001b[38;5;28mself\u001b[39m.initialized = \u001b[38;5;28;01mTrue\u001b[39;00m\n",
      "\u001b[36mFile \u001b[39m\u001b[32mc:\\Users\\alkou\\Documents\\GitHub\\Scattered-Directive\\dynamos_fabric_env\\Lib\\site-packages\\fabrictestbed\\token_manager\\token_manager.py:189\u001b[39m, in \u001b[36mTokenManager._load_tokens\u001b[39m\u001b[34m(self, refresh)\u001b[39m\n\u001b[32m    187\u001b[39m \u001b[38;5;66;03m# Renew the tokens to ensure any project_id changes are taken into account\u001b[39;00m\n\u001b[32m    188\u001b[39m \u001b[38;5;28;01mif\u001b[39;00m refresh \u001b[38;5;129;01mand\u001b[39;00m \u001b[38;5;28mself\u001b[39m.auto_refresh \u001b[38;5;129;01mand\u001b[39;00m refresh_token:\n\u001b[32m--> \u001b[39m\u001b[32m189\u001b[39m     \u001b[38;5;28;43mself\u001b[39;49m\u001b[43m.\u001b[49m\u001b[43mrefresh_tokens\u001b[49m\u001b[43m(\u001b[49m\u001b[43mrefresh_token\u001b[49m\u001b[43m=\u001b[49m\u001b[43mrefresh_token\u001b[49m\u001b[43m)\u001b[49m\n",
      "\u001b[36mFile \u001b[39m\u001b[32mc:\\Users\\alkou\\Documents\\GitHub\\Scattered-Directive\\dynamos_fabric_env\\Lib\\site-packages\\fabrictestbed\\token_manager\\token_manager.py:254\u001b[39m, in \u001b[36mTokenManager.refresh_tokens\u001b[39m\u001b[34m(self, refresh_token)\u001b[39m\n\u001b[32m    252\u001b[39m \u001b[38;5;28;01mexcept\u001b[39;00m \u001b[38;5;167;01mException\u001b[39;00m \u001b[38;5;28;01mas\u001b[39;00m e:\n\u001b[32m    253\u001b[39m     error_message = Utils.extract_error_message(exception=e)\n\u001b[32m--> \u001b[39m\u001b[32m254\u001b[39m     \u001b[38;5;28;01mraise\u001b[39;00m TokenManagerException(error_message)\n",
      "\u001b[31mTokenManagerException\u001b[39m: Internal Server Error - "
     ]
    }
   ],
   "source": [
    "import datetime\n",
    "import json\n",
    "import asyncio\n",
    "\n",
    "from fabrictestbed_extensions.fablib.fablib import FablibManager as fablib_manager\n",
    "\n",
    "fablib = fablib_manager()\n",
    "\n",
    "fablib.show_config()"
   ]
  },
  {
   "cell_type": "code",
   "execution_count": null,
   "id": "031637a0",
   "metadata": {},
   "outputs": [
    {
     "name": "stdout",
     "output_type": "stream",
     "text": [
      "{'default_centos8_stream': {'description': 'CentOS 8 Stream (non-stream)', 'default_user': 'centos'}, 'default_centos9_stream': {'description': 'CentOS 9 Stream (default install)', 'default_user': 'cloud-user'}, 'default_centos10_stream': {'description': 'CentOS 10 Stream (default install)', 'default_user': 'cloud-user'}, 'default_debian_11': {'description': 'Debian 11 Bullseye', 'default_user': 'debian'}, 'default_debian_12': {'description': 'Debian 12 Bookworm', 'default_user': 'debian'}, 'default_fedora_39': {'description': 'Fedora 39', 'default_user': 'fedora'}, 'default_fedora_40': {'description': 'Fedora 40', 'default_user': 'fedora'}, 'default_freebsd_13_zfs': {'description': 'FreeBSD 13 with ZFS', 'default_user': 'freebsd'}, 'default_freebsd_14_zfs': {'description': 'FreeBSD 14 with ZFS', 'default_user': 'freebsd'}, 'default_kali': {'description': 'Kali Linux (for penetration testing)', 'default_user': 'kali'}, 'default_openbsd_7': {'description': 'OpenBSD 7', 'default_user': 'openbsd'}, 'default_rocky_8': {'description': 'Rocky Linux 8', 'default_user': 'rocky'}, 'default_rocky_9': {'description': 'Rocky Linux 9', 'default_user': 'rocky'}, 'default_ubuntu_20': {'description': 'Ubuntu 20.04 LTS Focal Fossa', 'default_user': 'ubuntu'}, 'default_ubuntu_22': {'description': 'Ubuntu 22.04 LTS Jammy Jellyfish', 'default_user': 'ubuntu'}, 'default_ubuntu_24': {'description': 'Ubuntu 24.04 LTS Noble Numbat', 'default_user': 'ubuntu'}, 'docker_rocky_8': {'description': 'Rocky Linux 8 Docker image', 'default_user': 'rocky'}, 'docker_rocky_9': {'description': 'Rocky Linux 9 Docker image', 'default_user': 'rocky'}, 'docker_ubuntu_20': {'description': 'Ubuntu 20.04 LTS Docker image', 'default_user': 'ubuntu'}, 'docker_ubuntu_22': {'description': 'Ubuntu 22.04 LTS Docker image', 'default_user': 'ubuntu'}, 'attestable_bmv2_v1_ubuntu_20': {'description': 'Ubuntu 20.04 LTS Focal Fossa with BMv2 essentials', 'default_user': 'ubuntu'}}\n"
     ]
    }
   ],
   "source": [
    "print(fablib.get_image_names())"
   ]
  },
  {
   "cell_type": "code",
   "execution_count": 5,
   "id": "11c71c9b",
   "metadata": {},
   "outputs": [],
   "source": [
    "slice_name = 'DYNAMOS-on-FABRIC'\n",
    "image = \"default_ubuntu_24\"\n",
    "\n",
    "node_configurations = [\n",
    "    {\n",
    "        \"type\": \"control\",\n",
    "        \"cores\": 2,\n",
    "        \"ram\": 8,\n",
    "        \"disk\": 100,\n",
    "        \"site\": \"AMST\",\n",
    "        \"host\": \"amst-w3.fabric-testbed.net\",\n",
    "    },\n",
    "    {\n",
    "        \"type\": \"dynamos\",\n",
    "        \"cores\": 4,\n",
    "        \"ram\": 16,\n",
    "        \"disk\": 100,\n",
    "        \"site\": \"AMST\",\n",
    "        \"host\": \"amst-w3.fabric-testbed.net\",\n",
    "    },\n",
    "    {\n",
    "        \"type\": \"agent\",\n",
    "        \"name\": \"alpha\",\n",
    "        \"cores\": 4,\n",
    "        \"ram\": 16,\n",
    "        \"disk\": 100,\n",
    "        \"site\": \"AMST\",\n",
    "        \"host\": \"amst-w3.fabric-testbed.net\",\n",
    "    },\n",
    "    {\n",
    "        \"type\": \"agent\",\n",
    "        \"name\": \"enigma\",\n",
    "        \"cores\": 4,\n",
    "        \"ram\": 16,\n",
    "        \"disk\": 100,\n",
    "        \"site\": \"LOSA\",\n",
    "        \"host\": \"losa-w3.fabric-testbed.net\",\n",
    "    },\n",
    "    {\n",
    "        \"type\": \"thirdparty\",\n",
    "        \"name\": \"omnia\",\n",
    "        \"cores\": 8,\n",
    "        \"ram\": 16,\n",
    "        \"disk\": 100,\n",
    "        \"site\": \"TOKY\",\n",
    "        \"host\": \"toky-w3.fabric-testbed.net\",\n",
    "    },\n",
    "    {\n",
    "        \"type\": \"thirdparty\",\n",
    "        \"name\": \"scientia\",\n",
    "        \"cores\": 8,\n",
    "        \"ram\": 16,\n",
    "        \"disk\": 100,\n",
    "        \"site\": \"TOKY\",\n",
    "        \"host\": \"toky-w3.fabric-testbed.net\",\n",
    "    }\n",
    "]\n",
    "\n",
    "sites = list(set([configuration[\"site\"] for configuration in node_configurations]))\n"
   ]
  },
  {
   "cell_type": "code",
   "execution_count": 6,
   "id": "b78553e4",
   "metadata": {},
   "outputs": [
    {
     "name": "stdout",
     "output_type": "stream",
     "text": [
      "['AMST', 'TOKY', 'LOSA']\n"
     ]
    }
   ],
   "source": [
    "print(sites)"
   ]
  },
  {
   "cell_type": "code",
   "execution_count": 11,
   "id": "4ce30eea",
   "metadata": {},
   "outputs": [],
   "source": [
    "import fabrictestbed_extensions\n",
    "from fabrictestbed_extensions.fablib.fablib import SliceState"
   ]
  },
  {
   "cell_type": "code",
   "execution_count": 14,
   "id": "3e6fa182",
   "metadata": {},
   "outputs": [
    {
     "name": "stdout",
     "output_type": "stream",
     "text": [
      "Help on method get_slice in module fabrictestbed_extensions.fablib.fablib:\n",
      "\n",
      "get_slice(name: 'str' = None, slice_id: 'str' = None, user_only: 'bool' = True, show_un_submitted: 'bool' = False) -> 'Slice' method of fabrictestbed_extensions.fablib.fablib.FablibManager instance\n",
      "    Gets a slice by name or slice_id. Dead and Closing slices may have\n",
      "    non-unique names and must be queried by slice_id.  Slices in all other\n",
      "    states are guaranteed to have unique names and can be queried by name.\n",
      "\n",
      "    If both a name and slice_id are provided, the slice matching the\n",
      "    slice_id will be returned.\n",
      "\n",
      "    :param name: The name of the desired slice\n",
      "    :type name: String\n",
      "    :param slice_id: The ID of the desired slice\n",
      "    :type slice_id: String\n",
      "    :param user_only: True indicates return own slices; False indicates return project slices\n",
      "    :type user_only: bool\n",
      "    :param show_un_submitted: Show unsubmitted slices\n",
      "    :type show_un_submitted: bool\n",
      "    :raises: Exception: if slice name or slice id are not inputted\n",
      "    :return: the slice, if found\n",
      "    :rtype: Slice\n",
      "\n"
     ]
    }
   ],
   "source": [
    "help(fablib.get_slice)\n",
    "# help(fablib)"
   ]
  },
  {
   "cell_type": "code",
   "execution_count": null,
   "id": "55c55ed0",
   "metadata": {},
   "outputs": [],
   "source": [
    "slice = fablib.get_slice(\n",
    "    name=\"DYNAMOS-on-FABRIC\",\n",
    "    # excludes=[SliceState.Dead, SliceState.Closing],\n",
    "    user_only=True\n",
    "    )"
   ]
  },
  {
   "cell_type": "code",
   "execution_count": null,
   "id": "bf9268a7",
   "metadata": {},
   "outputs": [],
   "source": [
    "\n",
    "nodes = slice.get_nodes()\n",
    "nodes_and_network_per_site = [\n",
    "    (site, [node for node in nodes if node.get_site() == site], slice.get_network(name=f\"Network-{site}\"))\n",
    "    for site in sites\n",
    "]\n"
   ]
  },
  {
   "cell_type": "code",
   "execution_count": 20,
   "id": "ce82184a",
   "metadata": {},
   "outputs": [
    {
     "data": {
      "text/plain": [
       "[('AMST', [], None), ('TOKY', [], None), ('LOSA', [], None)]"
      ]
     },
     "execution_count": 20,
     "metadata": {},
     "output_type": "execute_result"
    }
   ],
   "source": [
    "nodes_and_network_per_site"
   ]
  },
  {
   "cell_type": "code",
   "execution_count": null,
   "id": "9d8c7d76",
   "metadata": {},
   "outputs": [
    {
     "ename": "AttributeError",
     "evalue": "'NoneType' object has no attribute 'get_available_ips'",
     "output_type": "error",
     "traceback": [
      "\u001b[31m---------------------------------------------------------------------------\u001b[39m",
      "\u001b[31mAttributeError\u001b[39m                            Traceback (most recent call last)",
      "\u001b[36mCell\u001b[39m\u001b[36m \u001b[39m\u001b[32mIn[19]\u001b[39m\u001b[32m, line 8\u001b[39m\n\u001b[32m      1\u001b[39m nodes = \u001b[38;5;28mslice\u001b[39m.get_nodes()\n\u001b[32m      2\u001b[39m nodes_and_network_per_site = [\n\u001b[32m      3\u001b[39m     (site, [node \u001b[38;5;28;01mfor\u001b[39;00m node \u001b[38;5;129;01min\u001b[39;00m nodes \u001b[38;5;28;01mif\u001b[39;00m node.get_site() == site], \u001b[38;5;28mslice\u001b[39m.get_network(name=\u001b[33mf\u001b[39m\u001b[33m\"\u001b[39m\u001b[33mNetwork-\u001b[39m\u001b[38;5;132;01m{\u001b[39;00msite\u001b[38;5;132;01m}\u001b[39;00m\u001b[33m\"\u001b[39m))\n\u001b[32m      4\u001b[39m     \u001b[38;5;28;01mfor\u001b[39;00m site \u001b[38;5;129;01min\u001b[39;00m sites\n\u001b[32m      5\u001b[39m ]\n\u001b[32m      7\u001b[39m nodes_network_ips_per_site = [\n\u001b[32m----> \u001b[39m\u001b[32m8\u001b[39m     (site, nodes, network, \u001b[43mnetwork\u001b[49m\u001b[43m.\u001b[49m\u001b[43mget_available_ips\u001b[49m(\u001b[38;5;28mlen\u001b[39m(nodes)))\n\u001b[32m      9\u001b[39m     \u001b[38;5;28;01mfor\u001b[39;00m (site, nodes, network) \u001b[38;5;129;01min\u001b[39;00m nodes_and_network_per_site\n\u001b[32m     10\u001b[39m ]\n",
      "\u001b[31mAttributeError\u001b[39m: 'NoneType' object has no attribute 'get_available_ips'"
     ]
    }
   ],
   "source": [
    "\n",
    "nodes_network_ips_per_site = [\n",
    "    (site, nodes, network, network.get_available_ips(len(nodes)))\n",
    "    for (site, nodes, network) in nodes_and_network_per_site\n",
    "]"
   ]
  },
  {
   "cell_type": "code",
   "execution_count": 18,
   "id": "286d95d2",
   "metadata": {},
   "outputs": [
    {
     "data": {
      "text/plain": [
       "<fabrictestbed_extensions.fablib.slice.Slice at 0x17eb22403b0>"
      ]
     },
     "execution_count": 18,
     "metadata": {},
     "output_type": "execute_result"
    }
   ],
   "source": [
    "slice"
   ]
  },
  {
   "cell_type": "code",
   "execution_count": 21,
   "id": "e32e47f7",
   "metadata": {},
   "outputs": [],
   "source": [
    "for node in slice.get_nodes():\n",
    "    stdout, stderr = node.execute('echo Hello, FABRIC from node `hostname -s`')"
   ]
  }
 ],
 "metadata": {
  "kernelspec": {
   "display_name": "dynamos_fabric_env",
   "language": "python",
   "name": "python3"
  },
  "language_info": {
   "codemirror_mode": {
    "name": "ipython",
    "version": 3
   },
   "file_extension": ".py",
   "mimetype": "text/x-python",
   "name": "python",
   "nbconvert_exporter": "python",
   "pygments_lexer": "ipython3",
   "version": "3.12.7"
  }
 },
 "nbformat": 4,
 "nbformat_minor": 5
}
