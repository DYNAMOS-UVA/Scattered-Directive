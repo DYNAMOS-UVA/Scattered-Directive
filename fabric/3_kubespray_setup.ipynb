{
 "cells": [
  {
   "cell_type": "code",
   "execution_count": 37,
   "id": "ca4dada6-bc00-4743-a90c-f0a6460d10ae",
   "metadata": {
    "collapsed": true,
    "jupyter": {
     "outputs_hidden": true
    }
   },
   "outputs": [
    {
     "data": {
      "text/html": [
       "<style type=\"text/css\">\n",
       "#T_34f20 tr:nth-child(even) {\n",
       "  background: #dbf3ff;\n",
       "  color: #231f20;\n",
       "}\n",
       "#T_34f20 tr:nth-child(odd) {\n",
       "  background: #ffffff;\n",
       "  color: #231f20;\n",
       "}\n",
       "#T_34f20 caption {\n",
       "  text-align: center;\n",
       "  font-size: 150%;\n",
       "}\n",
       "#T_34f20_row0_col0, #T_34f20_row0_col1, #T_34f20_row1_col0, #T_34f20_row1_col1, #T_34f20_row2_col0, #T_34f20_row2_col1, #T_34f20_row3_col0, #T_34f20_row3_col1, #T_34f20_row4_col0, #T_34f20_row4_col1, #T_34f20_row5_col0, #T_34f20_row5_col1, #T_34f20_row6_col0, #T_34f20_row6_col1, #T_34f20_row7_col0, #T_34f20_row7_col1, #T_34f20_row8_col0, #T_34f20_row8_col1, #T_34f20_row9_col0, #T_34f20_row9_col1, #T_34f20_row10_col0, #T_34f20_row10_col1, #T_34f20_row11_col0, #T_34f20_row11_col1, #T_34f20_row12_col0, #T_34f20_row12_col1, #T_34f20_row13_col0, #T_34f20_row13_col1, #T_34f20_row14_col0, #T_34f20_row14_col1, #T_34f20_row15_col0, #T_34f20_row15_col1, #T_34f20_row16_col0, #T_34f20_row16_col1, #T_34f20_row17_col0, #T_34f20_row17_col1, #T_34f20_row18_col0, #T_34f20_row18_col1 {\n",
       "  text-align: left;\n",
       "  border: 1px #231f20 solid !important;\n",
       "  overwrite: False;\n",
       "}\n",
       "</style>\n",
       "<table id=\"T_34f20\">\n",
       "  <caption>FABlib Config</caption>\n",
       "  <thead>\n",
       "  </thead>\n",
       "  <tbody>\n",
       "    <tr>\n",
       "      <td id=\"T_34f20_row0_col0\" class=\"data row0 col0\" >Orchestrator</td>\n",
       "      <td id=\"T_34f20_row0_col1\" class=\"data row0 col1\" >orchestrator.fabric-testbed.net</td>\n",
       "    </tr>\n",
       "    <tr>\n",
       "      <td id=\"T_34f20_row1_col0\" class=\"data row1 col0\" >Credential Manager</td>\n",
       "      <td id=\"T_34f20_row1_col1\" class=\"data row1 col1\" >cm.fabric-testbed.net</td>\n",
       "    </tr>\n",
       "    <tr>\n",
       "      <td id=\"T_34f20_row2_col0\" class=\"data row2 col0\" >Core API</td>\n",
       "      <td id=\"T_34f20_row2_col1\" class=\"data row2 col1\" >uis.fabric-testbed.net</td>\n",
       "    </tr>\n",
       "    <tr>\n",
       "      <td id=\"T_34f20_row3_col0\" class=\"data row3 col0\" >Artifact Manager</td>\n",
       "      <td id=\"T_34f20_row3_col1\" class=\"data row3 col1\" >artifacts.fabric-testbed.net</td>\n",
       "    </tr>\n",
       "    <tr>\n",
       "      <td id=\"T_34f20_row4_col0\" class=\"data row4 col0\" >Token File</td>\n",
       "      <td id=\"T_34f20_row4_col1\" class=\"data row4 col1\" >/home/fabric/.tokens.json</td>\n",
       "    </tr>\n",
       "    <tr>\n",
       "      <td id=\"T_34f20_row5_col0\" class=\"data row5 col0\" >Project ID</td>\n",
       "      <td id=\"T_34f20_row5_col1\" class=\"data row5 col1\" >49f65ad7-d8a2-4ab9-8ca0-ba777a2e0ea2</td>\n",
       "    </tr>\n",
       "    <tr>\n",
       "      <td id=\"T_34f20_row6_col0\" class=\"data row6 col0\" >Bastion Host</td>\n",
       "      <td id=\"T_34f20_row6_col1\" class=\"data row6 col1\" >bastion.fabric-testbed.net</td>\n",
       "    </tr>\n",
       "    <tr>\n",
       "      <td id=\"T_34f20_row7_col0\" class=\"data row7 col0\" >Bastion Username</td>\n",
       "      <td id=\"T_34f20_row7_col1\" class=\"data row7 col1\" >jakejongejans_0000313927</td>\n",
       "    </tr>\n",
       "    <tr>\n",
       "      <td id=\"T_34f20_row8_col0\" class=\"data row8 col0\" >Bastion Private Key File</td>\n",
       "      <td id=\"T_34f20_row8_col1\" class=\"data row8 col1\" >/home/fabric/work/fabric_config/fabric_bastion_key</td>\n",
       "    </tr>\n",
       "    <tr>\n",
       "      <td id=\"T_34f20_row9_col0\" class=\"data row9 col0\" >Slice Public Key File</td>\n",
       "      <td id=\"T_34f20_row9_col1\" class=\"data row9 col1\" >/home/fabric/work/fabric_config/slice_key.pub</td>\n",
       "    </tr>\n",
       "    <tr>\n",
       "      <td id=\"T_34f20_row10_col0\" class=\"data row10 col0\" >Slice Private Key File</td>\n",
       "      <td id=\"T_34f20_row10_col1\" class=\"data row10 col1\" >/home/fabric/work/fabric_config/slice_key</td>\n",
       "    </tr>\n",
       "    <tr>\n",
       "      <td id=\"T_34f20_row11_col0\" class=\"data row11 col0\" >Sites to avoid</td>\n",
       "      <td id=\"T_34f20_row11_col1\" class=\"data row11 col1\" ></td>\n",
       "    </tr>\n",
       "    <tr>\n",
       "      <td id=\"T_34f20_row12_col0\" class=\"data row12 col0\" >SSH Command Line</td>\n",
       "      <td id=\"T_34f20_row12_col1\" class=\"data row12 col1\" >ssh -i {{ _self_.private_ssh_key_file }} -F /home/fabric/work/fabric_config/ssh_config {{ _self_.username }}@{{ _self_.management_ip }}</td>\n",
       "    </tr>\n",
       "    <tr>\n",
       "      <td id=\"T_34f20_row13_col0\" class=\"data row13 col0\" >Log Level</td>\n",
       "      <td id=\"T_34f20_row13_col1\" class=\"data row13 col1\" >INFO</td>\n",
       "    </tr>\n",
       "    <tr>\n",
       "      <td id=\"T_34f20_row14_col0\" class=\"data row14 col0\" >Log File</td>\n",
       "      <td id=\"T_34f20_row14_col1\" class=\"data row14 col1\" >/tmp/fablib/fablib.log</td>\n",
       "    </tr>\n",
       "    <tr>\n",
       "      <td id=\"T_34f20_row15_col0\" class=\"data row15 col0\" >Bastion SSH Config File</td>\n",
       "      <td id=\"T_34f20_row15_col1\" class=\"data row15 col1\" >/home/fabric/work/fabric_config/ssh_config</td>\n",
       "    </tr>\n",
       "    <tr>\n",
       "      <td id=\"T_34f20_row16_col0\" class=\"data row16 col0\" >Version</td>\n",
       "      <td id=\"T_34f20_row16_col1\" class=\"data row16 col1\" >1.8.0</td>\n",
       "    </tr>\n",
       "    <tr>\n",
       "      <td id=\"T_34f20_row17_col0\" class=\"data row17 col0\" >Data directory</td>\n",
       "      <td id=\"T_34f20_row17_col1\" class=\"data row17 col1\" >/tmp/fablib</td>\n",
       "    </tr>\n",
       "    <tr>\n",
       "      <td id=\"T_34f20_row18_col0\" class=\"data row18 col0\" >Project Name</td>\n",
       "      <td id=\"T_34f20_row18_col1\" class=\"data row18 col1\" >DYNAMOS project Energy Efficiency</td>\n",
       "    </tr>\n",
       "  </tbody>\n",
       "</table>\n"
      ],
      "text/plain": [
       "<pandas.io.formats.style.Styler at 0x7e4ba08a1f90>"
      ]
     },
     "metadata": {},
     "output_type": "display_data"
    }
   ],
   "source": [
    "import datetime\n",
    "import json\n",
    "import asyncio\n",
    "\n",
    "from fabrictestbed_extensions.fablib.fablib import FablibManager as fablib_manager\n",
    "\n",
    "fablib = fablib_manager()\n",
    "\n",
    "fablib.show_config();"
   ]
  },
  {
   "cell_type": "code",
   "execution_count": 38,
   "id": "a9cae62c-dec2-4e07-b6c5-51b651edbf39",
   "metadata": {},
   "outputs": [],
   "source": [
    "slice = fablib.get_slice(name=\"DYNAMOS-on-FABRIC\");\n",
    "nodes = slice.get_nodes();\n",
    "network = slice.get_networks()[0];"
   ]
  },
  {
   "cell_type": "code",
   "execution_count": 39,
   "id": "4e2286c8-2bef-480b-afab-d1b6755071fd",
   "metadata": {},
   "outputs": [
    {
     "name": "stdout",
     "output_type": "stream",
     "text": [
      "['10.145.1.2', '10.145.1.3', '10.145.1.4']\n"
     ]
    }
   ],
   "source": [
    "def get_ip(node):\n",
    "    interface = node.get_interface(network_name=\"NET1\")\n",
    "    return interface.get_ip_addr()\n",
    "\n",
    "ips = [get_ip(node) for node in nodes];\n",
    "\n",
    "print(ips);"
   ]
  },
  {
   "cell_type": "code",
   "execution_count": 40,
   "id": "0daeae51-14f8-44b4-8c67-b29bc73bc296",
   "metadata": {},
   "outputs": [],
   "source": [
    "inventory = (\n",
    "    f\"[kube_control_plane]\\n\"\n",
    "    f\"node1 ansible_host={ips[0]} ip={ips[0]} etcd_member_name=etcd1\\n\"\n",
    "    f\"\\n\"\n",
    "    f\"[etcd:children]\\n\"\n",
    "    f\"kube_control_plane\\n\"\n",
    "    f\"\\n\"\n",
    "    f\"[kube_node]\\n\"\n",
    "    f\"node2 ansible_host=10.145.5.3 ip=10.145.5.3\\n\"\n",
    "    f\"node3 ansible_host=10.145.5.4 ip=10.145.5.4\\n\"\n",
    ")\n",
    "\n",
    "for i, ip in enumerate(ips):\n",
    "    inventory + f\"node{i + 1} ansoble_host={ip} ip={ip}\\n\"\n",
    "\n",
    "with open('kubespray/inventory.ini', 'w') as f:\n",
    "    f.write(inventory)"
   ]
  },
  {
   "cell_type": "code",
   "execution_count": 49,
   "id": "8ab32ff9-8d2b-453f-a6e1-eecfd94920c1",
   "metadata": {},
   "outputs": [
    {
     "data": {
      "text/plain": [
       "<SFTPAttributes: [ size=492 uid=1000 gid=1000 mode=0o100664 atime=1744029045 mtime=1744029045 ]>"
      ]
     },
     "execution_count": 49,
     "metadata": {},
     "output_type": "execute_result"
    }
   ],
   "source": [
    "nodes[0].upload_file(local_file_path=\"node_scripts/control_kubespray_setup.sh\", remote_file_path=\"kubespray_setup.sh\")\n",
    "nodes[0].execute(f\"chmod +x kubespray_setup.sh && ./kubespray_setup.sh\");\n",
    "\n",
    "nodes[0].upload_file(local_file_path=\"kubespray/inventory.ini\", remote_file_path=\"kubespray/inventory/dynamos/inventory.ini\")\n",
    "nodes[0].upload_file(local_file_path=\"kubespray/ansible.cfg\", remote_file_path=\"kubespray/ansible.cfg\")\n",
    "nodes[0].upload_file(local_file_path=\"/home/fabric/work/fabric_config/slice_key\", remote_file_path=\"/home/ubuntu/.ssh/slice_key\")"
   ]
  },
  {
   "cell_type": "code",
   "execution_count": null,
   "id": "522d8c05-a2ae-45cc-a990-7e25b528593b",
   "metadata": {},
   "outputs": [],
   "source": []
  }
 ],
 "metadata": {
  "kernelspec": {
   "display_name": "Python 3 (ipykernel)",
   "language": "python",
   "name": "python3"
  },
  "language_info": {
   "codemirror_mode": {
    "name": "ipython",
    "version": 3
   },
   "file_extension": ".py",
   "mimetype": "text/x-python",
   "name": "python",
   "nbconvert_exporter": "python",
   "pygments_lexer": "ipython3",
   "version": "3.11.9"
  }
 },
 "nbformat": 4,
 "nbformat_minor": 5
}
