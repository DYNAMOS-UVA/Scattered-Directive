{
 "cells": [
  {
   "cell_type": "markdown",
   "metadata": {
    "tags": []
   },
   "source": [
    "# Experiments for the Energy Efficiency Master thesis in DYNAMOS\n",
    "\n",
    "This Jupyter notebook is used for the experiments for the master thesis in DYNAMOS about energy efficiency.\n",
    "\n",
    "FABRIC API docs: https://fabric-fablib.readthedocs.io/en/latest/index.html\n",
    "\n",
    "\n",
    "## Step 1:  Configure the Environment, Create Slice, Configure Kubernetes Environment\n",
    "\n",
    "Before running this notebook, you will need to configure your environment using the [Configure Environment](../configure_and_validate.ipynb) notebook. Please stop here, open and run that notebook, then return to this notebook.\n",
    "\n",
    "If you are using the FABRIC JupyterHub many of the environment variables will be automatically configured for you.  You will still need to set your bastion username, upload your bastion private key, and set the path to where you put your bastion private key. Your bastion username and private key should already be in your possession.  \n",
    "\n",
    "After following all steps of the Configuring Environment notebook, you should be able to run this notebook without additional steps.\n",
    "\n",
    "Next, you will need to have setup the slice in FABRIC using the [Create Slice](../create_slice.ipynb) notebook.\n",
    "\n",
    "Finally, configure the kubernetes environment using the [Configure Kubernetes](../k8s-setup/k8s_setup.ipynb) and [Configure Kubernetes for DYNAMOS Specifically](../k8s-setup/DYNAMOS_k8s_setup.ipynb) notebooks.\n",
    "\n",
    "More information about accessing your experiments through the FABRIC bastion hosts can be found [here](https://learn.fabric-testbed.net/knowledge-base/logging-into-fabric-vms/).\n",
    " "
   ]
  },
  {
   "cell_type": "markdown",
   "metadata": {
    "tags": []
   },
   "source": [
    "## Step 2: Setup the Environment for this Notebook\n",
    "\n",
    "### Import FABRIC API and other libraries"
   ]
  },
  {
   "cell_type": "code",
   "execution_count": null,
   "metadata": {
    "tags": []
   },
   "outputs": [],
   "source": [
    "import json\n",
    "import traceback\n",
    "import datetime\n",
    "\n",
    "from fabrictestbed_extensions.fablib.fablib import FablibManager as fablib_manager\n",
    "\n",
    "fablib = fablib_manager()\n",
    "\n",
    "fablib.show_config();\n"
   ]
  },
  {
   "cell_type": "markdown",
   "metadata": {},
   "source": [
    "### Configure the parameters and get Node Attributes\n",
    "Can be used to set the corresponding nodes and other variables used for subsequent cells.\n",
    "\n",
    "Also, the necessary variables are fetched here, such as the slice to use."
   ]
  },
  {
   "cell_type": "code",
   "execution_count": null,
   "metadata": {},
   "outputs": [],
   "source": [
    "# ========== Step 1: Configure Parameters ==========\n",
    "slice_name = 'DYNAMOS'\n",
    "node1_name = 'Node1'\n",
    "# TODO: create Node2 in create_slice.ipynb?\n",
    "node2_name = 'Node2'\n",
    "# TODO: more and below needed?\n",
    "node1_nic_name = 'NIC1'\n",
    "node2_nic_name = 'NIC2'\n",
    "network_name = 'NET1'\n",
    "\n",
    "# ========== Step 2: Get and Print Node Attributes ==========\n",
    "try:\n",
    "    # Get slice by name: https://fabric-fablib.readthedocs.io/en/latest/fablib.html#fabrictestbed_extensions.fablib.fablib.FablibManager.get_slice\n",
    "    slice = fablib.get_slice(name=slice_name)\n",
    "    # Get slice nodes\n",
    "    for node in slice.get_nodes():\n",
    "        print(f\"{node}\")\n",
    "    # TODO: set nodes here as well\n",
    "    \n",
    "except Exception as e:\n",
    "    print(f\"Fail: {e}\")\n",
    "    traceback.print_exc()"
   ]
  },
  {
   "cell_type": "markdown",
   "metadata": {},
   "source": [
    "### Extend the Slice before Running Experiments\n",
    "This code extends the slice's end date to two weeks (the current maximum lease time) to make sure that the slice can be used for a longer period of time."
   ]
  },
  {
   "cell_type": "code",
   "execution_count": null,
   "metadata": {},
   "outputs": [],
   "source": [
    "# Print slice information for debugging purposes\n",
    "slice.show()\n",
    "\n",
    "# # Calculate the end date for 2 weeks from now with timezone information to fit expected format\n",
    "end_date = (datetime.datetime.now(datetime.timezone.utc) + datetime.timedelta(days=1)).strftime(\"%Y-%m-%d %H:%M:%S %z\")\n",
    "# Renew the slice with the calculated end date\n",
    "slice.renew(end_date=end_date)\n",
    "\n",
    "# TODO: the function is working, but it does not save in the slice information afterwards, which is a bug in FABRIC. \n",
    "# So, skip for now, a workaround is to shortly before the experiment create the slice and configure it so that I have two weeks for it."
   ]
  },
  {
   "cell_type": "markdown",
   "metadata": {},
   "source": [
    "## Step 3: TODO: further steps for the experiments here.\n",
    "TODO"
   ]
  }
 ],
 "metadata": {
  "kernelspec": {
   "display_name": "Python 3 (ipykernel)",
   "language": "python",
   "name": "python3"
  },
  "language_info": {
   "codemirror_mode": {
    "name": "ipython",
    "version": 3
   },
   "file_extension": ".py",
   "mimetype": "text/x-python",
   "name": "python",
   "nbconvert_exporter": "python",
   "pygments_lexer": "ipython3",
   "version": "3.11.9"
  }
 },
 "nbformat": 4,
 "nbformat_minor": 4
}
