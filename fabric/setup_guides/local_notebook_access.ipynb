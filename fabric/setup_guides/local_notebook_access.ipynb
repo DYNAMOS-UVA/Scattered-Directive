{
 "cells": [
  {
   "cell_type": "markdown",
   "id": "4669c142",
   "metadata": {},
   "source": [
    "# How to use FABRIC via jupyter notebooks from your local machine \n",
    "\n",
    "https://learn.fabric-testbed.net/knowledge-base/obtaining-and-using-fabric-api-tokens/ \n",
    "\n",
    "Mainly you need to download a token from https://cm.fabric-testbed.net/ (according to the above) and save it on a file. \n",
    "\n",
    "Then you need to put it in an env variable for your jupyter environment e.g.: FABRIC_TOKEN_LOCATION=C:\\Users\\alkou\\FABRIC_tokens\\id_token.json\n",
    "\n",
    "Then you should be able to use the fablib from your machine. \n",
    "\n",
    "To use SSH refer to the ssh_setup.ipynb file. \n",
    "\n",
    "\n",
    "Note: I think this method will require often renewal of the token ids which might be a bit annoying but I don't know of any better alternatives. \n"
   ]
  }
 ],
 "metadata": {
  "language_info": {
   "name": "python"
  }
 },
 "nbformat": 4,
 "nbformat_minor": 5
}
