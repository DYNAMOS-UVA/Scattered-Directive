{
 "cells": [
  {
   "cell_type": "markdown",
   "id": "39a3c432",
   "metadata": {},
   "source": [
    "# Steps to setup ssh access from you local machine. \n",
    "You will likely need to do it at jupyter for the first time and then you'll have access from local machine."
   ]
  },
  {
   "cell_type": "code",
   "execution_count": null,
   "id": "9f771665",
   "metadata": {},
   "outputs": [],
   "source": [
    "%%time\n",
    "import datetime\n",
    "import json\n",
    "import asyncio\n",
    "\n",
    "from fabrictestbed_extensions.fablib.fablib import FablibManager as fablib_manager\n",
    "\n",
    "fablib = fablib_manager()\n",
    "\n",
    "fablib.show_config();"
   ]
  },
  {
   "cell_type": "code",
   "execution_count": null,
   "id": "ca05e49d",
   "metadata": {},
   "outputs": [],
   "source": [
    "slice = fablib.get_slice(name=\"DYNAMOS-on-FABRIC\")\n",
    "nodes = slice.get_nodes()"
   ]
  },
  {
   "cell_type": "code",
   "execution_count": null,
   "id": "3f869356",
   "metadata": {},
   "outputs": [],
   "source": [
    "# Print the necessary information\n",
    "try:\n",
    "    # Get slice nodes\n",
    "    for node in slice.get_nodes():\n",
    "        print(f\"Node: {node.get_name()}\")\n",
    "        # Get the original SSH command\n",
    "        original_ssh_command = node.get_ssh_command()\n",
    "        # Print SSH commands to get into the nodes\n",
    "        print(f\"  SSH Command from FABRIC: {original_ssh_command}\")\n",
    "        # Replace the file paths in the SSH command\n",
    "        updated_ssh_command = original_ssh_command.replace(\n",
    "            \"/home/fabric/work/fabric_config/slice_key\", \"~/.ssh_fabric/slice_key\"\n",
    "        ).replace(\n",
    "            \"/home/fabric/work/fabric_config/ssh_config\", \"./fabric/fabric_config/ssh_config\"\n",
    "        )\n",
    "        # Print the updated SSH command\n",
    "        print(f\"  SSH Command locally (ensuring it is saved according to below steps): {updated_ssh_command}\")\n",
    "    \n",
    "except Exception as e:\n",
    "    print(f\"Fail: {e}\")\n",
    "    traceback.print_exc()"
   ]
  },
  {
   "cell_type": "markdown",
   "id": "f1b38daa",
   "metadata": {},
   "source": [
    "#### Run the SSH Commands\n",
    "To run the SSH Commands follow these steps (needs to be done once only, the slice_key and fabric_bastion_key can be reused among slices):\n",
    "1. From the Jupyter Notebook Hub from FABRIC, download the /fabric_config/fabric_bastion_key, /fabric_config/slice_key and /fabric_config/ssh_config files\n",
    "2. Add the ssh_config file to this project under /fabric/fabric_config, and change the /fabric_config/ssh_config \"IdentityFile\" entry to \"~/.ssh/fabric_bastion_key\", this is the new path to the bastion key of FABRIC from where you will be running the file.\n",
    "\n",
    "3. Execute these steps to save the SSH files savely on your local machine and avoid problems\n",
    "```sh\n",
    "# Open a Linux terminal, such as WSL after opening a CMD in Windows:\n",
    "wsl\n",
    "# Navigate to the Downloads directory\n",
    "cd Downloads\n",
    "# Create a directory called ssh to store the files\n",
    "mkdir -p ~/.ssh\n",
    "\n",
    "# Copy the key files to the SSH directory\n",
    "cp slice_key ~/.ssh/slice_key\n",
    "cp fabric_bastion_key ~/.ssh/fabric_bastion_key\n",
    "# Update permissions\n",
    "chmod 600 ~/.ssh/slice_key\n",
    "chmod 600 ~/.ssh/fabric_bastion_key\n",
    "# Navigate to the SSH directory to verify the files\n",
    "cd ~/.ssh\n",
    "# List files including permissions (-l)\n",
    "ls -l\n",
    "\n",
    "# Navigate to the fabric_config folder of this project, such as:\n",
    "cd /mnt/c/Users/cpoet/VSC_Projs/EnergyEfficiency_DYNAMOS/fabric/fabric_config\n",
    "# Then run the command from the previous step, such as:\n",
    "ssh -i ~/.ssh/slice_key -F ssh_config ubuntu@2001:610:2d0:fabc:f816:3eff:fe65:a464\n",
    "# To exit SSH access, type \"exit\" and press Enter\n",
    "```\n",
    "4. Now you can SSH into the nodes using the printed commands."
   ]
  },
  {
   "cell_type": "code",
   "execution_count": null,
   "id": "af700a63",
   "metadata": {},
   "outputs": [],
   "source": [
    "# This worked for me from local machine terminal\n",
    "#  ssh -i ~/.ssh_fabric/slice_key -F ./fabric/fabric_config/ssh_config ubuntu@2001:400:a100:3070:f816:3eff:fe84:397d"
   ]
  }
 ],
 "metadata": {
  "language_info": {
   "name": "python"
  }
 },
 "nbformat": 4,
 "nbformat_minor": 5
}
