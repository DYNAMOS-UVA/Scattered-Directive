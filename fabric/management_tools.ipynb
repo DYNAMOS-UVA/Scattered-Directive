{
 "cells": [
  {
   "cell_type": "markdown",
   "metadata": {},
   "source": [
    "# This notebook has some utilities to manage the already deployed cluster. \n",
    "- uninstall DYNAMOS\n",
    "- trigger VFL\n",
    "- ... "
   ]
  },
  {
   "cell_type": "markdown",
   "metadata": {
    "tags": []
   },
   "source": [
    "## FABlib API References Examples\n",
    "\n",
    "- [fablib.show_config](https://fabric-fablib.readthedocs.io/en/latest/fablib.html#fabrictestbed_extensions.fablib.fablib.FablibManager.show_config)\n",
    "- [fablib.list_sites](https://fabric-fablib.readthedocs.io/en/latest/fablib.html#fabrictestbed_extensions.fablib.fablib.FablibManager.list_sites)\n",
    "- [fablib.list_hosts](https://fabric-fablib.readthedocs.io/en/latest/fablib.html#fabrictestbed_extensions.fablib.fablib.FablibManager.list_hosts)\n",
    "- [fablib.new_slice](https://fabric-fablib.readthedocs.io/en/latest/fablib.html#fabrictestbed_extensions.fablib.fablib.FablibManager.new_slice)\n",
    "- [slice.add_node](https://fabric-fablib.readthedocs.io/en/latest/slice.html#fabrictestbed_extensions.fablib.slice.Slice.add_node)\n",
    "- [slice.submit](https://fabric-fablib.readthedocs.io/en/latest/slice.html#fabrictestbed_extensions.fablib.slice.Slice.submit)\n",
    "- [slice.get_nodes](https://fabric-fablib.readthedocs.io/en/latest/slice.html#fabrictestbed_extensions.fablib.slice.Slice.get_nodes)\n",
    "- [slice.list_nodes](https://fabric-fablib.readthedocs.io/en/latest/slice.html#fabrictestbed_extensions.fablib.slice.Slice.list_nodesß)\n",
    "- [slice.show](https://fabric-fablib.readthedocs.io/en/latest/slice.html#fabrictestbed_extensions.fablib.slice.Slice.show)\n",
    "- [node.execute](https://fabric-fablib.readthedocs.io/en/latest/node.html#fabrictestbed_extensions.fablib.node.Node.execute)\n",
    "- [slice.delete](https://fabric-fablib.readthedocs.io/en/latest/slice.html#fabrictestbed_extensions.fablib.slice.Slice.delete) "
   ]
  },
  {
   "cell_type": "code",
   "execution_count": 1,
   "metadata": {
    "tags": []
   },
   "outputs": [
    {
     "name": "stdout",
     "output_type": "stream",
     "text": [
      "User: koufalex@gmail.com bastion key is valid!\n",
      "Configuration is valid\n"
     ]
    },
    {
     "data": {
      "text/html": [
       "<style type=\"text/css\">\n",
       "#T_e0066 tr:nth-child(even) {\n",
       "  background: #dbf3ff;\n",
       "  color: #231f20;\n",
       "}\n",
       "#T_e0066 tr:nth-child(odd) {\n",
       "  background: #ffffff;\n",
       "  color: #231f20;\n",
       "}\n",
       "#T_e0066 caption {\n",
       "  text-align: center;\n",
       "  font-size: 150%;\n",
       "}\n",
       "#T_e0066_row0_col0, #T_e0066_row0_col1, #T_e0066_row1_col0, #T_e0066_row1_col1, #T_e0066_row2_col0, #T_e0066_row2_col1, #T_e0066_row3_col0, #T_e0066_row3_col1, #T_e0066_row4_col0, #T_e0066_row4_col1, #T_e0066_row5_col0, #T_e0066_row5_col1, #T_e0066_row6_col0, #T_e0066_row6_col1, #T_e0066_row7_col0, #T_e0066_row7_col1, #T_e0066_row8_col0, #T_e0066_row8_col1, #T_e0066_row9_col0, #T_e0066_row9_col1, #T_e0066_row10_col0, #T_e0066_row10_col1, #T_e0066_row11_col0, #T_e0066_row11_col1, #T_e0066_row12_col0, #T_e0066_row12_col1, #T_e0066_row13_col0, #T_e0066_row13_col1, #T_e0066_row14_col0, #T_e0066_row14_col1, #T_e0066_row15_col0, #T_e0066_row15_col1, #T_e0066_row16_col0, #T_e0066_row16_col1, #T_e0066_row17_col0, #T_e0066_row17_col1, #T_e0066_row18_col0, #T_e0066_row18_col1, #T_e0066_row19_col0, #T_e0066_row19_col1 {\n",
       "  text-align: left;\n",
       "  border: 1px #231f20 solid !important;\n",
       "  overwrite: False;\n",
       "}\n",
       "</style>\n",
       "<table id=\"T_e0066\">\n",
       "  <caption>FABlib Config</caption>\n",
       "  <thead>\n",
       "  </thead>\n",
       "  <tbody>\n",
       "    <tr>\n",
       "      <td id=\"T_e0066_row0_col0\" class=\"data row0 col0\" >Orchestrator</td>\n",
       "      <td id=\"T_e0066_row0_col1\" class=\"data row0 col1\" >orchestrator.fabric-testbed.net</td>\n",
       "    </tr>\n",
       "    <tr>\n",
       "      <td id=\"T_e0066_row1_col0\" class=\"data row1 col0\" >Credential Manager</td>\n",
       "      <td id=\"T_e0066_row1_col1\" class=\"data row1 col1\" >cm.fabric-testbed.net</td>\n",
       "    </tr>\n",
       "    <tr>\n",
       "      <td id=\"T_e0066_row2_col0\" class=\"data row2 col0\" >Core API</td>\n",
       "      <td id=\"T_e0066_row2_col1\" class=\"data row2 col1\" >uis.fabric-testbed.net</td>\n",
       "    </tr>\n",
       "    <tr>\n",
       "      <td id=\"T_e0066_row3_col0\" class=\"data row3 col0\" >Artifact Manager</td>\n",
       "      <td id=\"T_e0066_row3_col1\" class=\"data row3 col1\" >artifacts.fabric-testbed.net</td>\n",
       "    </tr>\n",
       "    <tr>\n",
       "      <td id=\"T_e0066_row4_col0\" class=\"data row4 col0\" >Token File</td>\n",
       "      <td id=\"T_e0066_row4_col1\" class=\"data row4 col1\" >/home/fabric/.tokens.json</td>\n",
       "    </tr>\n",
       "    <tr>\n",
       "      <td id=\"T_e0066_row5_col0\" class=\"data row5 col0\" >Project ID</td>\n",
       "      <td id=\"T_e0066_row5_col1\" class=\"data row5 col1\" >49f65ad7-d8a2-4ab9-8ca0-ba777a2e0ea2</td>\n",
       "    </tr>\n",
       "    <tr>\n",
       "      <td id=\"T_e0066_row6_col0\" class=\"data row6 col0\" >Bastion Host</td>\n",
       "      <td id=\"T_e0066_row6_col1\" class=\"data row6 col1\" >bastion.fabric-testbed.net</td>\n",
       "    </tr>\n",
       "    <tr>\n",
       "      <td id=\"T_e0066_row7_col0\" class=\"data row7 col0\" >Bastion Username</td>\n",
       "      <td id=\"T_e0066_row7_col1\" class=\"data row7 col1\" >koufalex_0000215529</td>\n",
       "    </tr>\n",
       "    <tr>\n",
       "      <td id=\"T_e0066_row8_col0\" class=\"data row8 col0\" >Bastion Private Key File</td>\n",
       "      <td id=\"T_e0066_row8_col1\" class=\"data row8 col1\" >/home/fabric/work/fabric_config/fabric_bastion_key</td>\n",
       "    </tr>\n",
       "    <tr>\n",
       "      <td id=\"T_e0066_row9_col0\" class=\"data row9 col0\" >Slice Public Key File</td>\n",
       "      <td id=\"T_e0066_row9_col1\" class=\"data row9 col1\" >/home/fabric/work/fabric_config/slice_key.pub</td>\n",
       "    </tr>\n",
       "    <tr>\n",
       "      <td id=\"T_e0066_row10_col0\" class=\"data row10 col0\" >Slice Private Key File</td>\n",
       "      <td id=\"T_e0066_row10_col1\" class=\"data row10 col1\" >/home/fabric/work/fabric_config/slice_key</td>\n",
       "    </tr>\n",
       "    <tr>\n",
       "      <td id=\"T_e0066_row11_col0\" class=\"data row11 col0\" >Sites to avoid</td>\n",
       "      <td id=\"T_e0066_row11_col1\" class=\"data row11 col1\" ></td>\n",
       "    </tr>\n",
       "    <tr>\n",
       "      <td id=\"T_e0066_row12_col0\" class=\"data row12 col0\" >SSH Command Line</td>\n",
       "      <td id=\"T_e0066_row12_col1\" class=\"data row12 col1\" >ssh -i {{ _self_.private_ssh_key_file }} -F /home/fabric/work/fabric_config/ssh_config {{ _self_.username }}@{{ _self_.management_ip }}</td>\n",
       "    </tr>\n",
       "    <tr>\n",
       "      <td id=\"T_e0066_row13_col0\" class=\"data row13 col0\" >Log Level</td>\n",
       "      <td id=\"T_e0066_row13_col1\" class=\"data row13 col1\" >INFO</td>\n",
       "    </tr>\n",
       "    <tr>\n",
       "      <td id=\"T_e0066_row14_col0\" class=\"data row14 col0\" >Log File</td>\n",
       "      <td id=\"T_e0066_row14_col1\" class=\"data row14 col1\" >/tmp/fablib/fablib.log</td>\n",
       "    </tr>\n",
       "    <tr>\n",
       "      <td id=\"T_e0066_row15_col0\" class=\"data row15 col0\" >Bastion SSH Config File</td>\n",
       "      <td id=\"T_e0066_row15_col1\" class=\"data row15 col1\" >/home/fabric/work/fabric_config/ssh_config</td>\n",
       "    </tr>\n",
       "    <tr>\n",
       "      <td id=\"T_e0066_row16_col0\" class=\"data row16 col0\" >Fabric Meta Data Release Tag</td>\n",
       "      <td id=\"T_e0066_row16_col1\" class=\"data row16 col1\" >main</td>\n",
       "    </tr>\n",
       "    <tr>\n",
       "      <td id=\"T_e0066_row17_col0\" class=\"data row17 col0\" >Version</td>\n",
       "      <td id=\"T_e0066_row17_col1\" class=\"data row17 col1\" >1.9.3</td>\n",
       "    </tr>\n",
       "    <tr>\n",
       "      <td id=\"T_e0066_row18_col0\" class=\"data row18 col0\" >Data directory</td>\n",
       "      <td id=\"T_e0066_row18_col1\" class=\"data row18 col1\" >/tmp/fablib</td>\n",
       "    </tr>\n",
       "    <tr>\n",
       "      <td id=\"T_e0066_row19_col0\" class=\"data row19 col0\" >Project Name</td>\n",
       "      <td id=\"T_e0066_row19_col1\" class=\"data row19 col1\" >DYNAMOS project</td>\n",
       "    </tr>\n",
       "  </tbody>\n",
       "</table>\n"
      ],
      "text/plain": [
       "<pandas.io.formats.style.Styler at 0x7e23dac43f10>"
      ]
     },
     "metadata": {},
     "output_type": "display_data"
    },
    {
     "name": "stdout",
     "output_type": "stream",
     "text": [
      "CPU times: user 1.92 s, sys: 217 ms, total: 2.14 s\n",
      "Wall time: 4.16 s\n"
     ]
    }
   ],
   "source": [
    "%%time\n",
    "import datetime\n",
    "import json\n",
    "import asyncio\n",
    "\n",
    "from fabrictestbed_extensions.fablib.fablib import FablibManager as fablib_manager\n",
    "\n",
    "fablib = fablib_manager()\n",
    "\n",
    "fablib.show_config();"
   ]
  },
  {
   "cell_type": "code",
   "execution_count": 2,
   "metadata": {},
   "outputs": [
    {
     "name": "stdout",
     "output_type": "stream",
     "text": [
      "[<fabrictestbed_extensions.fablib.node.Node object at 0x7e23d96170d0>, <fabrictestbed_extensions.fablib.node.Node object at 0x7e23daebdbd0>, <fabrictestbed_extensions.fablib.node.Node object at 0x7e23cc788e10>, <fabrictestbed_extensions.fablib.node.Node object at 0x7e23cc769a90>, <fabrictestbed_extensions.fablib.node.Node object at 0x7e23cc74f910>, <fabrictestbed_extensions.fablib.node.Node object at 0x7e241017c390>]\n"
     ]
    }
   ],
   "source": [
    "slice = fablib.get_slice(name=\"DYNAMOS-on-FABRIC\");\n",
    "nodes = slice.get_nodes();\n",
    "print(nodes)\n"
   ]
  },
  {
   "cell_type": "code",
   "execution_count": 3,
   "metadata": {},
   "outputs": [
    {
     "name": "stdout",
     "output_type": "stream",
     "text": [
      "Node: control\n",
      "  SSH Command from FABRIC: ssh -i /home/fabric/work/fabric_config/slice_key -F /home/fabric/work/fabric_config/ssh_config ubuntu@2001:400:a100:3070:f816:3eff:fe19:b747\n",
      "  SSH Command locally (ensuring it is saved according to below steps): ssh -i ~/.ssh_fabric/slice_key -F ssh_config ubuntu@2001:400:a100:3070:f816:3eff:fe19:b747\n",
      "Node: dynamos\n",
      "  SSH Command from FABRIC: ssh -i /home/fabric/work/fabric_config/slice_key -F /home/fabric/work/fabric_config/ssh_config ubuntu@2001:400:a100:3070:f816:3eff:fef2:4910\n",
      "  SSH Command locally (ensuring it is saved according to below steps): ssh -i ~/.ssh_fabric/slice_key -F ssh_config ubuntu@2001:400:a100:3070:f816:3eff:fef2:4910\n",
      "Node: server\n",
      "  SSH Command from FABRIC: ssh -i /home/fabric/work/fabric_config/slice_key -F /home/fabric/work/fabric_config/ssh_config ubuntu@2001:400:a100:3070:f816:3eff:fe63:3953\n",
      "  SSH Command locally (ensuring it is saved according to below steps): ssh -i ~/.ssh_fabric/slice_key -F ssh_config ubuntu@2001:400:a100:3070:f816:3eff:fe63:3953\n",
      "Node: clientone\n",
      "  SSH Command from FABRIC: ssh -i /home/fabric/work/fabric_config/slice_key -F /home/fabric/work/fabric_config/ssh_config ubuntu@2001:400:a100:3070:f816:3eff:fe15:1e28\n",
      "  SSH Command locally (ensuring it is saved according to below steps): ssh -i ~/.ssh_fabric/slice_key -F ssh_config ubuntu@2001:400:a100:3070:f816:3eff:fe15:1e28\n",
      "Node: clienttwo\n",
      "  SSH Command from FABRIC: ssh -i /home/fabric/work/fabric_config/slice_key -F /home/fabric/work/fabric_config/ssh_config ubuntu@2001:400:a100:3070:f816:3eff:fea4:dbc3\n",
      "  SSH Command locally (ensuring it is saved according to below steps): ssh -i ~/.ssh_fabric/slice_key -F ssh_config ubuntu@2001:400:a100:3070:f816:3eff:fea4:dbc3\n",
      "Node: clientthree\n",
      "  SSH Command from FABRIC: ssh -i /home/fabric/work/fabric_config/slice_key -F /home/fabric/work/fabric_config/ssh_config ubuntu@2001:400:a100:3070:f816:3eff:fe2a:2190\n",
      "  SSH Command locally (ensuring it is saved according to below steps): ssh -i ~/.ssh_fabric/slice_key -F ssh_config ubuntu@2001:400:a100:3070:f816:3eff:fe2a:2190\n"
     ]
    }
   ],
   "source": [
    "# Print the necessary information\n",
    "try:\n",
    "    # Get slice nodes\n",
    "    for node in slice.get_nodes():\n",
    "        print(f\"Node: {node.get_name()}\")\n",
    "        # Get the original SSH command\n",
    "        original_ssh_command = node.get_ssh_command()\n",
    "        # Print SSH commands to get into the nodes\n",
    "        print(f\"  SSH Command from FABRIC: {original_ssh_command}\")\n",
    "        # Replace the file paths in the SSH command\n",
    "        updated_ssh_command = original_ssh_command.replace(\n",
    "            \"/home/fabric/work/fabric_config/slice_key\", \"~/.ssh_fabric/slice_key\"\n",
    "        ).replace(\n",
    "            \"/home/fabric/work/fabric_config/ssh_config\", \"ssh_config\"\n",
    "        )\n",
    "        # Print the updated SSH command\n",
    "        print(f\"  SSH Command locally (ensuring it is saved according to below steps): {updated_ssh_command}\")\n",
    "    \n",
    "except Exception as e:\n",
    "    print(f\"Fail: {e}\")\n",
    "    traceback.print_exc()"
   ]
  },
  {
   "cell_type": "code",
   "execution_count": 4,
   "metadata": {},
   "outputs": [
    {
     "name": "stdout",
     "output_type": "stream",
     "text": [
      "control: 10.137.8.2\n",
      "dynamos: 10.137.8.3\n",
      "server: 10.137.8.4\n",
      "clientone: 10.137.8.5\n",
      "clienttwo: 10.137.8.6\n",
      "clientthree: 10.137.8.7\n",
      "{'control': {'ip': '10.137.8.2', 'node': <fabrictestbed_extensions.fablib.node.Node object at 0x7e23d96170d0>}, 'dynamos': {'ip': '10.137.8.3', 'node': <fabrictestbed_extensions.fablib.node.Node object at 0x7e23daebdbd0>}, 'server': {'ip': '10.137.8.4', 'node': <fabrictestbed_extensions.fablib.node.Node object at 0x7e23cc788e10>}, 'clientone': {'ip': '10.137.8.5', 'node': <fabrictestbed_extensions.fablib.node.Node object at 0x7e23cc769a90>}, 'clienttwo': {'ip': '10.137.8.6', 'node': <fabrictestbed_extensions.fablib.node.Node object at 0x7e23cc74f910>}, 'clientthree': {'ip': '10.137.8.7', 'node': <fabrictestbed_extensions.fablib.node.Node object at 0x7e241017c390>}}\n"
     ]
    }
   ],
   "source": [
    "def get_ip(node):\n",
    "    interface = node.get_interface(network_name=f\"Network-{node.get_site()}\")\n",
    "    return interface.get_ip_addr()\n",
    "\n",
    "nodes_dict= dict()\n",
    "\n",
    "for node in nodes[:]:\n",
    "    ip = get_ip(node)\n",
    "    name = node.get_name()\n",
    "    nodes_dict[name] = {\"ip\": ip, \"node\": node}\n",
    "    print(f\"{name}: {ip}\")\n",
    "\n",
    "print(nodes_dict)"
   ]
  },
  {
   "cell_type": "code",
   "execution_count": null,
   "metadata": {},
   "outputs": [],
   "source": [
    "# This is for resetting the kubespray cluster. \n",
    "# Use this if you are troubleshooting your Kubernetes cluster\n",
    "# and you want to redeploy fresh.\n",
    "\n",
    "# nodes_dict['control']['node'].upload_file(local_file_path=\"node_scripts/reset_kubespray.sh\", remote_file_path=\"reset.sh\");\n",
    "# nodes_dict['control']['node'].execute(f\"chmod +x reset.sh && ./reset.sh\");"
   ]
  },
  {
   "cell_type": "code",
   "execution_count": null,
   "metadata": {},
   "outputs": [],
   "source": [
    "# Add the relevant etcd data to the dynamos node (update etcd agreements etc)\n",
    "\n",
    "# help(nodes_dict['dynamos']['node'])\n",
    "# upload etcd files from filesystem instead of reading them from github\n",
    "# nodes_dict['dynamos']['node'].upload_directory(local_directory_path=\"../configuration/etcd_launch_files\", remote_directory_path=\"./\")\n",
    "# nodes_dict['dynamos']['node'].execute(\"ls etcd_launch_files\")\n",
    "\n",
    "# nodes_dict['dynamos']['node'].upload_file(local_file_path=\"node_scripts/define_etcd_data_local.sh\", remote_file_path=\"define_etcd_data_local.sh\");\n",
    "# nodes_dict['dynamos']['node'].execute(f\"chmod +x define_etcd_data_local.sh && ./define_etcd_data_local.sh\");"
   ]
  },
  {
   "cell_type": "code",
   "execution_count": 8,
   "metadata": {},
   "outputs": [
    {
     "name": "stdout",
     "output_type": "stream",
     "text": [
      "\u001b[31m  % Total    % Received % Xferd  Average Speed   Time    Time     Time  Current\n",
      "                                 Dload  Upload   Total   Spent    Left  Speed\n",
      "100   409    0     0  100   409      0      9  0:00:45  0:00:42  0:00:03     0\u001b[0m\u001b[31m\u001b[0m\u001b[31m\u001b[31m\u001b[31m\u001b[31m\u001b[31m\u001b[31m\u001b[31m\u001b[31m\u001b[31m\u001b[31m\u001b[31m\u001b[31m\u001b[31m\u001b[31m\u001b[31m\u001b[31m\u001b[31m\u001b[31m\u001b[31m\u001b[31m\u001b[31m\u001b[31m\u001b[31m\u001b[31m\u001b[31m\u001b[31m\u001b[31m\u001b[31m\u001b[31m\u001b[31m\u001b[31m\u001b[31m\u001b[31m\u001b[31m\u001b[31m\u001b[31m\u001b[31m\u001b[31m\u001b[31m\u001b[31m\u001b[31m\u001b[31m\n",
      "\u001b[0mCPU times: user 125 ms, sys: 40.7 ms, total: 166 ms\n",
      "Wall time: 44 s\n"
     ]
    },
    {
     "data": {
      "text/plain": [
       "('',\n",
       " '  % Total    % Received % Xferd  Average Speed   Time    Time     Time  Current\\n                                 Dload  Upload   Total   Spent    Left  Speed\\n\\r  0     0    0     0    0     0      0      0 --:--:-- --:--:-- --:--:--     0\\r100   409    0     0  100   409      0    408  0:00:01  0:00:01 --:--:--   408\\r100   409    0     0  100   409      0    204  0:00:02  0:00:02 --:--:--   204\\r100   409    0     0  100   409      0    136  0:00:03  0:00:03 --:--:--   136\\r100   409    0     0  100   409      0    102  0:00:04  0:00:04 --:--:--   102\\r100   409    0     0  100   409      0     81  0:00:05  0:00:05 --:--:--    81\\r100   409    0     0  100   409      0     68  0:00:06  0:00:06 --:--:--     0\\r100   409    0     0  100   409      0     58  0:00:07  0:00:07 --:--:--     0\\r100   409    0     0  100   409      0     51  0:00:08  0:00:08 --:--:--     0\\r100   409    0     0  100   409      0     45  0:00:09  0:00:09 --:--:--     0\\r100   409    0     0  100   409      0     40  0:00:10  0:00:10 --:--:--     0\\r100   409    0     0  100   409      0     37  0:00:11  0:00:11 --:--:--     0\\r100   409    0     0  100   409      0     34  0:00:12  0:00:12 --:--:--     0\\r100   409    0     0  100   409      0     31  0:00:13  0:00:13 --:--:--     0\\r100   409    0     0  100   409      0     29  0:00:14  0:00:14 --:--:--     0\\r100   409    0     0  100   409      0     27  0:00:15  0:00:15 --:--:--     0\\r100   409    0     0  100   409      0     25  0:00:16  0:00:16 --:--:--     0\\r100   409    0     0  100   409      0     24  0:00:17  0:00:17 --:--:--     0\\r100   409    0     0  100   409      0     22  0:00:18  0:00:18 --:--:--     0\\r100   409    0     0  100   409      0     21  0:00:19  0:00:19 --:--:--     0\\r100   409    0     0  100   409      0     20  0:00:20  0:00:20 --:--:--     0\\r100   409    0     0  100   409      0     19  0:00:21  0:00:21 --:--:--     0\\r100   409    0     0  100   409      0     18  0:00:22  0:00:22 --:--:--     0\\r100   409    0     0  100   409      0     17  0:00:24  0:00:23  0:00:01     0\\r100   409    0     0  100   409      0     17  0:00:24  0:00:24 --:--:--     0\\r100   409    0     0  100   409      0     16  0:00:25  0:00:25 --:--:--     0\\r100   409    0     0  100   409      0     15  0:00:27  0:00:26  0:00:01     0\\r100   409    0     0  100   409      0     15  0:00:27  0:00:27 --:--:--     0\\r100   409    0     0  100   409      0     14  0:00:29  0:00:28  0:00:01     0\\r100   409    0     0  100   409      0     14  0:00:29  0:00:29 --:--:--     0\\r100   409    0     0  100   409      0     13  0:00:31  0:00:30  0:00:01     0\\r100   409    0     0  100   409      0     13  0:00:31  0:00:31 --:--:--     0\\r100   409    0     0  100   409      0     12  0:00:34  0:00:32  0:00:02     0\\r100   409    0     0  100   409      0     12  0:00:34  0:00:33  0:00:01     0\\r100   409    0     0  100   409      0     12  0:00:34  0:00:34 --:--:--     0\\r100   409    0     0  100   409      0     11  0:00:37  0:00:35  0:00:02     0\\r100   409    0     0  100   409      0     11  0:00:37  0:00:36  0:00:01     0\\r100   409    0     0  100   409      0     11  0:00:37  0:00:37 --:--:--     0\\r100   409    0     0  100   409      0     10  0:00:40  0:00:38  0:00:02     0\\r100   409    0     0  100   409      0     10  0:00:40  0:00:39  0:00:01     0\\r100   409    0     0  100   409      0     10  0:00:40  0:00:40 --:--:--     0\\r100   409    0     0  100   409      0      9  0:00:45  0:00:41  0:00:04     0\\r100   409    0     0  100   409      0      9  0:00:45  0:00:42  0:00:03     0\\r100   409    0     0  100   409      0      9  0:00:45  0:00:42  0:00:03     0\\n')"
      ]
     },
     "execution_count": 8,
     "metadata": {},
     "output_type": "execute_result"
    }
   ],
   "source": [
    "%%time\n",
    "# Run the trigger script\n",
    "# note: could make it so that ignores the output > null \n",
    "# nodes_dict['control']['node'].upload_file(local_file_path=\"node_scripts/trigger_VFL.sh\", remote_file_path=\"trigger_VFL.sh\")\n",
    "\n",
    "nodes_dict['control']['node'].execute(\"bash trigger_VFL.sh\")"
   ]
  },
  {
   "cell_type": "code",
   "execution_count": 14,
   "metadata": {},
   "outputs": [
    {
     "name": "stdout",
     "output_type": "stream",
     "text": [
      "1.75941333664469e+09 \u001b[33mWARN\u001b[0m\t/app/pkg/lib/go-grpc.go:38\tcould not check: rpc error: code = Unavailable desc = connection error: desc = \"transport: Error while dialing: dial tcp 127.0.0.1:50051: connect: connection refused\"\n",
      "1.7594133366447582e+09 \u001b[35mDEBUG\u001b[0m\t/app/pkg/lib/go-grpc.go:44\tSleep 1 second\n",
      "1.759413337645562e+09 \u001b[33mWARN\u001b[0m\t/app/pkg/lib/go-grpc.go:38\tcould not check: rpc error: code = Unavailable desc = connection error: desc = \"transport: Error while dialing: dial tcp 127.0.0.1:50051: connect: connection refused\"\n",
      "1.7594133376456206e+09 \u001b[35mDEBUG\u001b[0m\t/app/pkg/lib/go-grpc.go:44\tSleep 1 second\n",
      "1.759413338646503e+09 \u001b[33mWARN\u001b[0m\t/app/pkg/lib/go-grpc.go:38\tcould not check: rpc error: code = Unavailable desc = connection error: desc = \"transport: Error while dialing: dial tcp 127.0.0.1:50051: connect: connection refused\"\n",
      "1.7594133386465685e+09 \u001b[35mDEBUG\u001b[0m\t/app/pkg/lib/go-grpc.go:44\tSleep 1 second\n",
      "1.759413339649266e+09 \u001b[35mDEBUG\u001b[0m\t/app/pkg/lib/go-grpc.go:51\treturning conn GetGrpcConnection\n",
      "1.7594133396496134e+09 \u001b[35mDEBUG\u001b[0m\t/app/pkg/lib/go-grpc.go:60\tInitializing sidecar messaging with: service_name:\"api-gateway-in\"  routing_key:\"api-gateway-in\"\n",
      "1.7594133396738396e+09 \u001b[34mINFO\u001b[0m\t/app/cmd/api-gateway/main.go:100\t/api/v1\n",
      "1.7594133396738665e+09 \u001b[34mINFO\u001b[0m\t/app/cmd/api-gateway/main.go:104\tStarting http server on: \t{\"port\": \":8080\"}\n",
      "1.7594133396739225e+09 \u001b[34mINFO\u001b[0m\t/app/pkg/lib/consume.go:15\tStarting to consume with retry (StartConsumingWithRetry)\n",
      "1.7594133396739693e+09 \u001b[34mINFO\u001b[0m\t/app/pkg/lib/consume.go:30\tStarting to consume (startConsuming)\n",
      "1.7594137429612048e+09 \u001b[34mINFO\u001b[0m\t/app/pkg/api/http_utils.go:24\tReceived request\t{\"method\": \"POST\", \"path\": \"/api/v1/requestApproval\"}\n",
      "1.7594137429614756e+09 \u001b[35mDEBUG\u001b[0m\t/app/cmd/api-gateway/requests.go:23\tStarting requestApprovalHandler\n",
      "1.759413743018378e+09 \u001b[34mINFO\u001b[0m\t/app/cmd/api-gateway/requests.go:88\tReceived response, requestApprovalResponse\n",
      "1.7594137430193925e+09 \u001b[34mINFO\u001b[0m\t/app/cmd/api-gateway/requests.go:100\tData Prepared jsonData: map[data:map[change_policies:%!s(float64=19) cycles:%!s(float64=20) learning_rate:%!s(float64=0.05)] requestMetadata:job_id:\"jake-jongejans-2b67b2a6\" type:vflTrainModelRequest user:id:\"1234\"  user_name:\"jake.jongejans@student.uva.nl\"]\n",
      "1.7594137430194523e+09 \u001b[34mINFO\u001b[0m\t/app/cmd/api-gateway/requests.go:265\tData from req: map[change_policies:19 cycles:20 learning_rate:0.05]\n",
      "1.759413743019466e+09 \u001b[34mINFO\u001b[0m\t/app/cmd/api-gateway/requests.go:296\tSending ping to start pods...\n",
      "1.7594137499072883e+09 \u001b[34mINFO\u001b[0m\t/app/cmd/api-gateway/requests.go:343\tRunning VFL for 20 rounds\n",
      "1.7594137499074378e+09 \u001b[34mINFO\u001b[0m\t/app/cmd/api-gateway/requests.go:345\tRunning VFL training round 0\n",
      "1.7594137499074562e+09 \u001b[34mINFO\u001b[0m\t/app/cmd/api-gateway/requests.go:388\t- Sending policy reverification request\n",
      "1.759413749941534e+09 \u001b[34mINFO\u001b[0m\t/app/cmd/api-gateway/requests.go:412\tReceived validation message: type:\"requestApprovalResponse\"  user:{id:\"1234\"  user_name:\"jake.jongejans@student.uva.nl\"}  auth:{access_token:\"1234\"  refresh_token:\"1234\"}  authorized_providers:{key:\"clientone\"  value:\"clientone.clientone.svc.cluster.local\"}  authorized_providers:{key:\"clientthree\"  value:\"clientthree.clientthree.svc.cluster.local\"}  authorized_providers:{key:\"clienttwo\"  value:\"clienttwo.clienttwo.svc.cluster.local\"}  authorized_providers:{key:\"server\"  value:\"server.server.svc.cluster.local\"}  job_id:\"jake-jongejans-8a5e3e2c\"  request_metadata:{destination_queue:\"api-gateway-in\"}, with vstruct: {0xc00017fe80 0xc000365590}\n",
      "1.7594137499416053e+09 \u001b[34mINFO\u001b[0m\t/app/cmd/api-gateway/requests.go:426\t- Sending training request\n",
      "1.7594137517461407e+09 \u001b[34mINFO\u001b[0m\t/app/cmd/api-gateway/requests.go:428\t- Intermediate accuracy achieved: 40.49493813273341 for round 0\n",
      "1.7594137517462268e+09 \u001b[34mINFO\u001b[0m\t/app/cmd/api-gateway/requests.go:345\tRunning VFL training round 1\n",
      "1.759413751746239e+09 \u001b[34mINFO\u001b[0m\t/app/cmd/api-gateway/requests.go:388\t- Sending policy reverification request\n",
      "1.7594137517897274e+09 \u001b[34mINFO\u001b[0m\t/app/cmd/api-gateway/requests.go:412\tReceived validation message: type:\"requestApprovalResponse\"  user:{id:\"1234\"  user_name:\"jake.jongejans@student.uva.nl\"}  auth:{access_token:\"1234\"  refresh_token:\"1234\"}  authorized_providers:{key:\"clientone\"  value:\"clientone.clientone.svc.cluster.local\"}  authorized_providers:{key:\"clientthree\"  value:\"clientthree.clientthree.svc.cluster.local\"}  authorized_providers:{key:\"clienttwo\"  value:\"clienttwo.clienttwo.svc.cluster.local\"}  authorized_providers:{key:\"server\"  value:\"server.server.svc.cluster.local\"}  job_id:\"jake-jongejans-07320728\"  request_metadata:{destination_queue:\"api-gateway-in\"}, with vstruct: {0xc0001b6100 0xc0004e6c90}\n",
      "1.7594137517898026e+09 \u001b[34mINFO\u001b[0m\t/app/cmd/api-gateway/requests.go:426\t- Sending training request\n",
      "1.7594137519507556e+09 \u001b[34mINFO\u001b[0m\t/app/cmd/api-gateway/requests.go:428\t- Intermediate accuracy achieved: 40.607424071991 for round 1\n",
      "1.7594137519508038e+09 \u001b[34mINFO\u001b[0m\t/app/cmd/api-gateway/requests.go:345\tRunning VFL training round 2\n",
      "1.7594137519508138e+09 \u001b[34mINFO\u001b[0m\t/app/cmd/api-gateway/requests.go:388\t- Sending policy reverification request\n",
      "1.7594137519777308e+09 \u001b[34mINFO\u001b[0m\t/app/cmd/api-gateway/requests.go:412\tReceived validation message: type:\"requestApprovalResponse\"  user:{id:\"1234\"  user_name:\"jake.jongejans@student.uva.nl\"}  auth:{access_token:\"1234\"  refresh_token:\"1234\"}  authorized_providers:{key:\"clientone\"  value:\"clientone.clientone.svc.cluster.local\"}  authorized_providers:{key:\"clientthree\"  value:\"clientthree.clientthree.svc.cluster.local\"}  authorized_providers:{key:\"clienttwo\"  value:\"clienttwo.clienttwo.svc.cluster.local\"}  authorized_providers:{key:\"server\"  value:\"server.server.svc.cluster.local\"}  job_id:\"jake-jongejans-2192e370\"  request_metadata:{destination_queue:\"api-gateway-in\"}, with vstruct: {0xc00038c880 0xc000470f60}\n",
      "1.759413751977784e+09 \u001b[34mINFO\u001b[0m\t/app/cmd/api-gateway/requests.go:426\t- Sending training request\n",
      "1.759413752115375e+09 \u001b[34mINFO\u001b[0m\t/app/cmd/api-gateway/requests.go:428\t- Intermediate accuracy achieved: 40.49493813273341 for round 2\n",
      "1.7594137521154363e+09 \u001b[34mINFO\u001b[0m\t/app/cmd/api-gateway/requests.go:345\tRunning VFL training round 3\n",
      "1.759413752115447e+09 \u001b[34mINFO\u001b[0m\t/app/cmd/api-gateway/requests.go:388\t- Sending policy reverification request\n",
      "1.759413752146762e+09 \u001b[34mINFO\u001b[0m\t/app/cmd/api-gateway/requests.go:412\tReceived validation message: type:\"requestApprovalResponse\"  user:{id:\"1234\"  user_name:\"jake.jongejans@student.uva.nl\"}  auth:{access_token:\"1234\"  refresh_token:\"1234\"}  authorized_providers:{key:\"clientone\"  value:\"clientone.clientone.svc.cluster.local\"}  authorized_providers:{key:\"clientthree\"  value:\"clientthree.clientthree.svc.cluster.local\"}  authorized_providers:{key:\"clienttwo\"  value:\"clienttwo.clienttwo.svc.cluster.local\"}  authorized_providers:{key:\"server\"  value:\"server.server.svc.cluster.local\"}  job_id:\"jake-jongejans-112f2bad\"  request_metadata:{destination_queue:\"api-gateway-in\"}, with vstruct: {0xc0003fe180 0xc000470810}\n",
      "1.7594137521470768e+09 \u001b[34mINFO\u001b[0m\t/app/cmd/api-gateway/requests.go:426\t- Sending training request\n",
      "1.7594137522882507e+09 \u001b[34mINFO\u001b[0m\t/app/cmd/api-gateway/requests.go:428\t- Intermediate accuracy achieved: 40.49493813273341 for round 3\n",
      "1.7594137522883046e+09 \u001b[34mINFO\u001b[0m\t/app/cmd/api-gateway/requests.go:345\tRunning VFL training round 4\n",
      "1.759413752288315e+09 \u001b[34mINFO\u001b[0m\t/app/cmd/api-gateway/requests.go:388\t- Sending policy reverification request\n",
      "1.7594137523142524e+09 \u001b[34mINFO\u001b[0m\t/app/cmd/api-gateway/requests.go:412\tReceived validation message: type:\"requestApprovalResponse\"  user:{id:\"1234\"  user_name:\"jake.jongejans@student.uva.nl\"}  auth:{access_token:\"1234\"  refresh_token:\"1234\"}  authorized_providers:{key:\"clientone\"  value:\"clientone.clientone.svc.cluster.local\"}  authorized_providers:{key:\"clientthree\"  value:\"clientthree.clientthree.svc.cluster.local\"}  authorized_providers:{key:\"clienttwo\"  value:\"clienttwo.clienttwo.svc.cluster.local\"}  authorized_providers:{key:\"server\"  value:\"server.server.svc.cluster.local\"}  job_id:\"jake-jongejans-cd87fdb7\"  request_metadata:{destination_queue:\"api-gateway-in\"}, with vstruct: {0xc0003fe500 0xc0004e75c0}\n",
      "1.7594137523142967e+09 \u001b[34mINFO\u001b[0m\t/app/cmd/api-gateway/requests.go:426\t- Sending training request\n",
      "1.7594137524385893e+09 \u001b[34mINFO\u001b[0m\t/app/cmd/api-gateway/requests.go:428\t- Intermediate accuracy achieved: 40.607424071991 for round 4\n",
      "1.7594137524386506e+09 \u001b[34mINFO\u001b[0m\t/app/cmd/api-gateway/requests.go:345\tRunning VFL training round 5\n",
      "1.7594137524386609e+09 \u001b[34mINFO\u001b[0m\t/app/cmd/api-gateway/requests.go:388\t- Sending policy reverification request\n",
      "1.7594137524713218e+09 \u001b[34mINFO\u001b[0m\t/app/cmd/api-gateway/requests.go:412\tReceived validation message: type:\"requestApprovalResponse\"  user:{id:\"1234\"  user_name:\"jake.jongejans@student.uva.nl\"}  auth:{access_token:\"1234\"  refresh_token:\"1234\"}  authorized_providers:{key:\"clientone\"  value:\"clientone.clientone.svc.cluster.local\"}  authorized_providers:{key:\"clientthree\"  value:\"clientthree.clientthree.svc.cluster.local\"}  authorized_providers:{key:\"clienttwo\"  value:\"clienttwo.clienttwo.svc.cluster.local\"}  authorized_providers:{key:\"server\"  value:\"server.server.svc.cluster.local\"}  job_id:\"jake-jongejans-c27df93f\"  request_metadata:{destination_queue:\"api-gateway-in\"}, with vstruct: {0xc0003fe180 0xc000470810}\n",
      "1.7594137524713964e+09 \u001b[34mINFO\u001b[0m\t/app/cmd/api-gateway/requests.go:426\t- Sending training request\n",
      "1.759413752602238e+09 \u001b[34mINFO\u001b[0m\t/app/cmd/api-gateway/requests.go:428\t- Intermediate accuracy achieved: 40.83239595050618 for round 5\n",
      "1.7594137526023128e+09 \u001b[34mINFO\u001b[0m\t/app/cmd/api-gateway/requests.go:345\tRunning VFL training round 6\n",
      "1.759413752602324e+09 \u001b[34mINFO\u001b[0m\t/app/cmd/api-gateway/requests.go:388\t- Sending policy reverification request\n",
      "1.7594137526340518e+09 \u001b[34mINFO\u001b[0m\t/app/cmd/api-gateway/requests.go:412\tReceived validation message: type:\"requestApprovalResponse\"  user:{id:\"1234\"  user_name:\"jake.jongejans@student.uva.nl\"}  auth:{access_token:\"1234\"  refresh_token:\"1234\"}  authorized_providers:{key:\"clientone\"  value:\"clientone.clientone.svc.cluster.local\"}  authorized_providers:{key:\"clientthree\"  value:\"clientthree.clientthree.svc.cluster.local\"}  authorized_providers:{key:\"clienttwo\"  value:\"clienttwo.clienttwo.svc.cluster.local\"}  authorized_providers:{key:\"server\"  value:\"server.server.svc.cluster.local\"}  job_id:\"jake-jongejans-a7f9d0aa\"  request_metadata:{destination_queue:\"api-gateway-in\"}, with vstruct: {0xc0001b6180 0xc000423830}\n",
      "1.7594137526340942e+09 \u001b[34mINFO\u001b[0m\t/app/cmd/api-gateway/requests.go:426\t- Sending training request\n",
      "1.759413752769138e+09 \u001b[34mINFO\u001b[0m\t/app/cmd/api-gateway/requests.go:428\t- Intermediate accuracy achieved: 41.05736782902137 for round 6\n",
      "1.7594137527691896e+09 \u001b[34mINFO\u001b[0m\t/app/cmd/api-gateway/requests.go:345\tRunning VFL training round 7\n",
      "1.7594137527692003e+09 \u001b[34mINFO\u001b[0m\t/app/cmd/api-gateway/requests.go:388\t- Sending policy reverification request\n",
      "1.7594137528010163e+09 \u001b[34mINFO\u001b[0m\t/app/cmd/api-gateway/requests.go:412\tReceived validation message: type:\"requestApprovalResponse\"  user:{id:\"1234\"  user_name:\"jake.jongejans@student.uva.nl\"}  auth:{access_token:\"1234\"  refresh_token:\"1234\"}  authorized_providers:{key:\"clientone\"  value:\"clientone.clientone.svc.cluster.local\"}  authorized_providers:{key:\"clientthree\"  value:\"clientthree.clientthree.svc.cluster.local\"}  authorized_providers:{key:\"clienttwo\"  value:\"clienttwo.clienttwo.svc.cluster.local\"}  authorized_providers:{key:\"server\"  value:\"server.server.svc.cluster.local\"}  job_id:\"jake-jongejans-9e153b11\"  request_metadata:{destination_queue:\"api-gateway-in\"}, with vstruct: {0xc00017eb00 0xc000382690}\n",
      "1.759413752801065e+09 \u001b[34mINFO\u001b[0m\t/app/cmd/api-gateway/requests.go:426\t- Sending training request\n",
      "1.7594137529258308e+09 \u001b[34mINFO\u001b[0m\t/app/cmd/api-gateway/requests.go:428\t- Intermediate accuracy achieved: 41.05736782902137 for round 7\n",
      "1.7594137529259017e+09 \u001b[34mINFO\u001b[0m\t/app/cmd/api-gateway/requests.go:345\tRunning VFL training round 8\n",
      "1.759413752925928e+09 \u001b[34mINFO\u001b[0m\t/app/cmd/api-gateway/requests.go:388\t- Sending policy reverification request\n",
      "1.7594137529540167e+09 \u001b[34mINFO\u001b[0m\t/app/cmd/api-gateway/requests.go:412\tReceived validation message: type:\"requestApprovalResponse\"  user:{id:\"1234\"  user_name:\"jake.jongejans@student.uva.nl\"}  auth:{access_token:\"1234\"  refresh_token:\"1234\"}  authorized_providers:{key:\"clientone\"  value:\"clientone.clientone.svc.cluster.local\"}  authorized_providers:{key:\"clientthree\"  value:\"clientthree.clientthree.svc.cluster.local\"}  authorized_providers:{key:\"clienttwo\"  value:\"clienttwo.clienttwo.svc.cluster.local\"}  authorized_providers:{key:\"server\"  value:\"server.server.svc.cluster.local\"}  job_id:\"jake-jongejans-a7796d76\"  request_metadata:{destination_queue:\"api-gateway-in\"}, with vstruct: {0xc0001b6180 0xc0004e6f90}\n",
      "1.759413752954102e+09 \u001b[34mINFO\u001b[0m\t/app/cmd/api-gateway/requests.go:426\t- Sending training request\n",
      "1.7594137530682182e+09 \u001b[34mINFO\u001b[0m\t/app/cmd/api-gateway/requests.go:428\t- Intermediate accuracy achieved: 41.16985376827896 for round 8\n",
      "1.759413753068269e+09 \u001b[34mINFO\u001b[0m\t/app/cmd/api-gateway/requests.go:345\tRunning VFL training round 9\n",
      "1.7594137530682797e+09 \u001b[34mINFO\u001b[0m\t/app/cmd/api-gateway/requests.go:388\t- Sending policy reverification request\n",
      "1.759413753113516e+09 \u001b[34mINFO\u001b[0m\t/app/cmd/api-gateway/requests.go:412\tReceived validation message: type:\"requestApprovalResponse\"  user:{id:\"1234\"  user_name:\"jake.jongejans@student.uva.nl\"}  auth:{access_token:\"1234\"  refresh_token:\"1234\"}  authorized_providers:{key:\"clientone\"  value:\"clientone.clientone.svc.cluster.local\"}  authorized_providers:{key:\"clientthree\"  value:\"clientthree.clientthree.svc.cluster.local\"}  authorized_providers:{key:\"clienttwo\"  value:\"clienttwo.clienttwo.svc.cluster.local\"}  authorized_providers:{key:\"server\"  value:\"server.server.svc.cluster.local\"}  job_id:\"jake-jongejans-ce7f84df\"  request_metadata:{destination_queue:\"api-gateway-in\"}, with vstruct: {0xc0001b6180 0xc000423680}\n",
      "1.7594137531136074e+09 \u001b[34mINFO\u001b[0m\t/app/cmd/api-gateway/requests.go:426\t- Sending training request\n",
      "1.7594137534481614e+09 \u001b[34mINFO\u001b[0m\t/app/cmd/api-gateway/requests.go:428\t- Intermediate accuracy achieved: 41.39482564679415 for round 9\n",
      "1.759413753448266e+09 \u001b[34mINFO\u001b[0m\t/app/cmd/api-gateway/requests.go:345\tRunning VFL training round 10\n",
      "1.7594137534482784e+09 \u001b[34mINFO\u001b[0m\t/app/cmd/api-gateway/requests.go:388\t- Sending policy reverification request\n",
      "1.7594137534821048e+09 \u001b[34mINFO\u001b[0m\t/app/cmd/api-gateway/requests.go:412\tReceived validation message: type:\"requestApprovalResponse\"  user:{id:\"1234\"  user_name:\"jake.jongejans@student.uva.nl\"}  auth:{access_token:\"1234\"  refresh_token:\"1234\"}  authorized_providers:{key:\"clientone\"  value:\"clientone.clientone.svc.cluster.local\"}  authorized_providers:{key:\"clientthree\"  value:\"clientthree.clientthree.svc.cluster.local\"}  authorized_providers:{key:\"clienttwo\"  value:\"clienttwo.clienttwo.svc.cluster.local\"}  authorized_providers:{key:\"server\"  value:\"server.server.svc.cluster.local\"}  job_id:\"jake-jongejans-08ec34ee\"  request_metadata:{destination_queue:\"api-gateway-in\"}, with vstruct: {0xc0001b6480 0xc000470f00}\n",
      "1.7594137534821444e+09 \u001b[34mINFO\u001b[0m\t/app/cmd/api-gateway/requests.go:426\t- Sending training request\n",
      "1.7594137538434157e+09 \u001b[34mINFO\u001b[0m\t/app/cmd/api-gateway/requests.go:428\t- Intermediate accuracy achieved: 41.16985376827896 for round 10\n",
      "1.759413753843494e+09 \u001b[34mINFO\u001b[0m\t/app/cmd/api-gateway/requests.go:345\tRunning VFL training round 11\n",
      "1.7594137538435092e+09 \u001b[34mINFO\u001b[0m\t/app/cmd/api-gateway/requests.go:388\t- Sending policy reverification request\n",
      "1.7594137538821168e+09 \u001b[34mINFO\u001b[0m\t/app/cmd/api-gateway/requests.go:412\tReceived validation message: type:\"requestApprovalResponse\"  user:{id:\"1234\"  user_name:\"jake.jongejans@student.uva.nl\"}  auth:{access_token:\"1234\"  refresh_token:\"1234\"}  authorized_providers:{key:\"clientone\"  value:\"clientone.clientone.svc.cluster.local\"}  authorized_providers:{key:\"clientthree\"  value:\"clientthree.clientthree.svc.cluster.local\"}  authorized_providers:{key:\"clienttwo\"  value:\"clienttwo.clienttwo.svc.cluster.local\"}  authorized_providers:{key:\"server\"  value:\"server.server.svc.cluster.local\"}  job_id:\"jake-jongejans-b1cdabfb\"  request_metadata:{destination_queue:\"api-gateway-in\"}, with vstruct: {0xc0004e8200 0xc000470db0}\n",
      "1.7594137538821723e+09 \u001b[34mINFO\u001b[0m\t/app/cmd/api-gateway/requests.go:426\t- Sending training request\n",
      "1.7594137542475295e+09 \u001b[34mINFO\u001b[0m\t/app/cmd/api-gateway/requests.go:428\t- Intermediate accuracy achieved: 41.28233970753656 for round 11\n",
      "1.7594137542476485e+09 \u001b[34mINFO\u001b[0m\t/app/cmd/api-gateway/requests.go:345\tRunning VFL training round 12\n",
      "1.759413754247664e+09 \u001b[34mINFO\u001b[0m\t/app/cmd/api-gateway/requests.go:388\t- Sending policy reverification request\n",
      "1.7594137542860217e+09 \u001b[34mINFO\u001b[0m\t/app/cmd/api-gateway/requests.go:412\tReceived validation message: type:\"requestApprovalResponse\"  user:{id:\"1234\"  user_name:\"jake.jongejans@student.uva.nl\"}  auth:{access_token:\"1234\"  refresh_token:\"1234\"}  authorized_providers:{key:\"clientone\"  value:\"clientone.clientone.svc.cluster.local\"}  authorized_providers:{key:\"clientthree\"  value:\"clientthree.clientthree.svc.cluster.local\"}  authorized_providers:{key:\"clienttwo\"  value:\"clienttwo.clienttwo.svc.cluster.local\"}  authorized_providers:{key:\"server\"  value:\"server.server.svc.cluster.local\"}  job_id:\"jake-jongejans-c8e8e22e\"  request_metadata:{destination_queue:\"api-gateway-in\"}, with vstruct: {0xc0004e8080 0xc000470ba0}\n",
      "1.7594137542860913e+09 \u001b[34mINFO\u001b[0m\t/app/cmd/api-gateway/requests.go:426\t- Sending training request\n",
      "1.7594137546462705e+09 \u001b[34mINFO\u001b[0m\t/app/cmd/api-gateway/requests.go:428\t- Intermediate accuracy achieved: 41.732283464566926 for round 12\n",
      "1.7594137546463556e+09 \u001b[34mINFO\u001b[0m\t/app/cmd/api-gateway/requests.go:345\tRunning VFL training round 13\n",
      "1.7594137546463692e+09 \u001b[34mINFO\u001b[0m\t/app/cmd/api-gateway/requests.go:388\t- Sending policy reverification request\n",
      "1.7594137546804218e+09 \u001b[34mINFO\u001b[0m\t/app/cmd/api-gateway/requests.go:412\tReceived validation message: type:\"requestApprovalResponse\"  user:{id:\"1234\"  user_name:\"jake.jongejans@student.uva.nl\"}  auth:{access_token:\"1234\"  refresh_token:\"1234\"}  authorized_providers:{key:\"clientone\"  value:\"clientone.clientone.svc.cluster.local\"}  authorized_providers:{key:\"clientthree\"  value:\"clientthree.clientthree.svc.cluster.local\"}  authorized_providers:{key:\"clienttwo\"  value:\"clienttwo.clienttwo.svc.cluster.local\"}  authorized_providers:{key:\"server\"  value:\"server.server.svc.cluster.local\"}  job_id:\"jake-jongejans-07701a52\"  request_metadata:{destination_queue:\"api-gateway-in\"}, with vstruct: {0xc0003fe180 0xc000423b60}\n",
      "1.759413754680463e+09 \u001b[34mINFO\u001b[0m\t/app/cmd/api-gateway/requests.go:426\t- Sending training request\n",
      "1.7594137550448792e+09 \u001b[34mINFO\u001b[0m\t/app/cmd/api-gateway/requests.go:428\t- Intermediate accuracy achieved: 41.732283464566926 for round 13\n",
      "1.7594137550449665e+09 \u001b[34mINFO\u001b[0m\t/app/cmd/api-gateway/requests.go:345\tRunning VFL training round 14\n",
      "1.7594137550449998e+09 \u001b[34mINFO\u001b[0m\t/app/cmd/api-gateway/requests.go:388\t- Sending policy reverification request\n",
      "1.7594137550857542e+09 \u001b[34mINFO\u001b[0m\t/app/cmd/api-gateway/requests.go:412\tReceived validation message: type:\"requestApprovalResponse\"  user:{id:\"1234\"  user_name:\"jake.jongejans@student.uva.nl\"}  auth:{access_token:\"1234\"  refresh_token:\"1234\"}  authorized_providers:{key:\"clientone\"  value:\"clientone.clientone.svc.cluster.local\"}  authorized_providers:{key:\"clientthree\"  value:\"clientthree.clientthree.svc.cluster.local\"}  authorized_providers:{key:\"clienttwo\"  value:\"clienttwo.clienttwo.svc.cluster.local\"}  authorized_providers:{key:\"server\"  value:\"server.server.svc.cluster.local\"}  job_id:\"jake-jongejans-adc4d1da\"  request_metadata:{destination_queue:\"api-gateway-in\"}, with vstruct: {0xc0004e8080 0xc00078eff0}\n",
      "1.7594137550861194e+09 \u001b[34mINFO\u001b[0m\t/app/cmd/api-gateway/requests.go:426\t- Sending training request\n",
      "1.7594137554512563e+09 \u001b[34mINFO\u001b[0m\t/app/cmd/api-gateway/requests.go:428\t- Intermediate accuracy achieved: 41.61979752530934 for round 14\n",
      "1.7594137554514282e+09 \u001b[34mINFO\u001b[0m\t/app/cmd/api-gateway/requests.go:345\tRunning VFL training round 15\n",
      "1.7594137554514444e+09 \u001b[34mINFO\u001b[0m\t/app/cmd/api-gateway/requests.go:388\t- Sending policy reverification request\n",
      "1.7594137555003865e+09 \u001b[34mINFO\u001b[0m\t/app/cmd/api-gateway/requests.go:412\tReceived validation message: type:\"requestApprovalResponse\"  user:{id:\"1234\"  user_name:\"jake.jongejans@student.uva.nl\"}  auth:{access_token:\"1234\"  refresh_token:\"1234\"}  authorized_providers:{key:\"clientone\"  value:\"clientone.clientone.svc.cluster.local\"}  authorized_providers:{key:\"clientthree\"  value:\"clientthree.clientthree.svc.cluster.local\"}  authorized_providers:{key:\"clienttwo\"  value:\"clienttwo.clienttwo.svc.cluster.local\"}  authorized_providers:{key:\"server\"  value:\"server.server.svc.cluster.local\"}  job_id:\"jake-jongejans-e0871994\"  request_metadata:{destination_queue:\"api-gateway-in\"}, with vstruct: {0xc00017f580 0xc000470210}\n",
      "1.7594137555009465e+09 \u001b[34mINFO\u001b[0m\t/app/cmd/api-gateway/requests.go:426\t- Sending training request\n",
      "1.7594137558408945e+09 \u001b[34mINFO\u001b[0m\t/app/cmd/api-gateway/requests.go:428\t- Intermediate accuracy achieved: 41.84476940382452 for round 15\n",
      "1.759413755841017e+09 \u001b[34mINFO\u001b[0m\t/app/cmd/api-gateway/requests.go:345\tRunning VFL training round 16\n",
      "1.7594137558410306e+09 \u001b[34mINFO\u001b[0m\t/app/cmd/api-gateway/requests.go:388\t- Sending policy reverification request\n",
      "1.7594137558809738e+09 \u001b[34mINFO\u001b[0m\t/app/cmd/api-gateway/requests.go:412\tReceived validation message: type:\"requestApprovalResponse\"  user:{id:\"1234\"  user_name:\"jake.jongejans@student.uva.nl\"}  auth:{access_token:\"1234\"  refresh_token:\"1234\"}  authorized_providers:{key:\"clientone\"  value:\"clientone.clientone.svc.cluster.local\"}  authorized_providers:{key:\"clientthree\"  value:\"clientthree.clientthree.svc.cluster.local\"}  authorized_providers:{key:\"clienttwo\"  value:\"clienttwo.clienttwo.svc.cluster.local\"}  authorized_providers:{key:\"server\"  value:\"server.server.svc.cluster.local\"}  job_id:\"jake-jongejans-a5a1cf4c\"  request_metadata:{destination_queue:\"api-gateway-in\"}, with vstruct: {0xc00017ed80 0xc000382690}\n",
      "1.759413755881343e+09 \u001b[34mINFO\u001b[0m\t/app/cmd/api-gateway/requests.go:426\t- Sending training request\n",
      "1.759413756240051e+09 \u001b[34mINFO\u001b[0m\t/app/cmd/api-gateway/requests.go:428\t- Intermediate accuracy achieved: 41.84476940382452 for round 16\n",
      "1.759413756240131e+09 \u001b[34mINFO\u001b[0m\t/app/cmd/api-gateway/requests.go:345\tRunning VFL training round 17\n",
      "1.759413756240147e+09 \u001b[34mINFO\u001b[0m\t/app/cmd/api-gateway/requests.go:388\t- Sending policy reverification request\n",
      "1.7594137562799323e+09 \u001b[34mINFO\u001b[0m\t/app/cmd/api-gateway/requests.go:412\tReceived validation message: type:\"requestApprovalResponse\"  user:{id:\"1234\"  user_name:\"jake.jongejans@student.uva.nl\"}  auth:{access_token:\"1234\"  refresh_token:\"1234\"}  authorized_providers:{key:\"clientone\"  value:\"clientone.clientone.svc.cluster.local\"}  authorized_providers:{key:\"clientthree\"  value:\"clientthree.clientthree.svc.cluster.local\"}  authorized_providers:{key:\"clienttwo\"  value:\"clienttwo.clienttwo.svc.cluster.local\"}  authorized_providers:{key:\"server\"  value:\"server.server.svc.cluster.local\"}  job_id:\"jake-jongejans-c0ac04a4\"  request_metadata:{destination_queue:\"api-gateway-in\"}, with vstruct: {0xc0003fe180 0xc0004e70e0}\n",
      "1.7594137562800565e+09 \u001b[34mINFO\u001b[0m\t/app/cmd/api-gateway/requests.go:426\t- Sending training request\n",
      "1.7594137566524076e+09 \u001b[34mINFO\u001b[0m\t/app/cmd/api-gateway/requests.go:428\t- Intermediate accuracy achieved: 41.95725534308212 for round 17\n",
      "1.7594137566525006e+09 \u001b[34mINFO\u001b[0m\t/app/cmd/api-gateway/requests.go:345\tRunning VFL training round 18\n",
      "1.7594137566525164e+09 \u001b[34mINFO\u001b[0m\t/app/cmd/api-gateway/requests.go:388\t- Sending policy reverification request\n",
      "1.7594137566850743e+09 \u001b[34mINFO\u001b[0m\t/app/cmd/api-gateway/requests.go:412\tReceived validation message: type:\"requestApprovalResponse\"  user:{id:\"1234\"  user_name:\"jake.jongejans@student.uva.nl\"}  auth:{access_token:\"1234\"  refresh_token:\"1234\"}  authorized_providers:{key:\"clientone\"  value:\"clientone.clientone.svc.cluster.local\"}  authorized_providers:{key:\"clientthree\"  value:\"clientthree.clientthree.svc.cluster.local\"}  authorized_providers:{key:\"clienttwo\"  value:\"clienttwo.clienttwo.svc.cluster.local\"}  authorized_providers:{key:\"server\"  value:\"server.server.svc.cluster.local\"}  job_id:\"jake-jongejans-52053fa4\"  request_metadata:{destination_queue:\"api-gateway-in\"}, with vstruct: {0xc0001b6400 0xc000382db0}\n",
      "1.7594137566851676e+09 \u001b[34mINFO\u001b[0m\t/app/cmd/api-gateway/requests.go:426\t- Sending training request\n",
      "1.759413757039123e+09 \u001b[34mINFO\u001b[0m\t/app/cmd/api-gateway/requests.go:428\t- Intermediate accuracy achieved: 41.95725534308212 for round 18\n",
      "1.7594137570391972e+09 \u001b[34mINFO\u001b[0m\t/app/cmd/api-gateway/requests.go:345\tRunning VFL training round 19\n",
      "1.7594137570392094e+09 \u001b[34mINFO\u001b[0m\t/app/cmd/api-gateway/requests.go:349\tSending in the policy change request, removing client 3 from the agreement.\n",
      "1.7594137570392218e+09 \u001b[34mINFO\u001b[0m\t/app/cmd/api-gateway/requests.go:350\tTODO: Policy change request not yet implemented.\n",
      "1.7594137570392377e+09 \u001b[34mINFO\u001b[0m\t/app/cmd/api-gateway/requests.go:365\t- Sending policy removal request\n",
      "1.7594137570406337e+09 \u001b[34mINFO\u001b[0m\t/app/cmd/api-gateway/requests.go:388\t- Sending policy reverification request\n",
      "1.7594137570719771e+09 \u001b[34mINFO\u001b[0m\t/app/cmd/api-gateway/requests.go:412\tReceived validation message: type:\"requestApprovalResponse\"  user:{id:\"1234\"  user_name:\"jake.jongejans@student.uva.nl\"}  auth:{access_token:\"1234\"  refresh_token:\"1234\"}  authorized_providers:{key:\"clientone\"  value:\"clientone.clientone.svc.cluster.local\"}  authorized_providers:{key:\"clienttwo\"  value:\"clienttwo.clienttwo.svc.cluster.local\"}  authorized_providers:{key:\"server\"  value:\"server.server.svc.cluster.local\"}  job_id:\"jake-jongejans-3553f813\"  request_metadata:{destination_queue:\"api-gateway-in\"}, with vstruct: {0xc0004e8080 0xc00078f410}\n",
      "1.7594137570726287e+09 \u001b[34mINFO\u001b[0m\t/app/cmd/api-gateway/requests.go:420\t-=-=-=-=-=-=-=-=-=-=-=-=-=-=-=-=-=-=-=-=-=-=-=-=-=-=-\n",
      "1.7594137570727692e+09 \u001b[34mINFO\u001b[0m\t/app/cmd/api-gateway/requests.go:421\t   Policy does not allow this training to continue.\n",
      "1.759413757072783e+09 \u001b[34mINFO\u001b[0m\t/app/cmd/api-gateway/requests.go:422\t-=-=-=-=-=-=-=-=-=-=-=-=-=-=-=-=-=-=-=-=-=-=-=-=-=-=-\n",
      "1.7594137570728018e+09 \u001b[34mINFO\u001b[0m\t/app/cmd/api-gateway/requests.go:439\t-=-=-=-=-=-=-=-=-=-=-=-=-=-=-=-=-=-=-=-=-=-=-\n",
      "1.7594137570728116e+09 \u001b[34mINFO\u001b[0m\t/app/cmd/api-gateway/requests.go:440\tFinal accuracy achieved: 41.95725534308212\n",
      "1.7594137570728185e+09 \u001b[34mINFO\u001b[0m\t/app/cmd/api-gateway/requests.go:441\t-=-=-=-=-=-=-=-=-=-=-=-=-=-=-=-=-=-=-=-=-=-=-\n",
      "1.759413817077126e+09 \u001b[34mINFO\u001b[0m\t/app/pkg/api/http.go:258\tBad response from server: 408 Request Timeout\n",
      "1.7594138170779326e+09 \u001b[34mINFO\u001b[0m\t/app/pkg/api/http.go:258\tBad response from server: 408 Request Timeout\n",
      "1.7594138170783474e+09 \u001b[34mINFO\u001b[0m\t/app/pkg/api/http.go:258\tBad response from server: 408 Request Timeout\n",
      "1.7594138170791929e+09 \u001b[34mINFO\u001b[0m\t/app/pkg/api/http.go:258\tBad response from server: 408 Request Timeout\n",
      "1.7594138170792289e+09 \u001b[34mINFO\u001b[0m\t/app/cmd/api-gateway/requests.go:469\t-=-=-=-=-=-=-=-=-=-=-=-=-=-=-=-=-=-=-=-=-=-=-\n",
      "1.7594138170792918e+09 \u001b[34mINFO\u001b[0m\t/app/cmd/api-gateway/requests.go:470\tFinal accuracy achieved: 41.95725534308212\n",
      "1.759413817079303e+09 \u001b[34mINFO\u001b[0m\t/app/cmd/api-gateway/requests.go:471\t-=-=-=-=-=-=-=-=-=-=-=-=-=-=-=-=-=-=-=-=-=-=-\n",
      "CPU times: user 56.8 ms, sys: 14.5 ms, total: 71.3 ms\n",
      "Wall time: 3.53 s\n"
     ]
    },
    {
     "data": {
      "text/plain": [
       "('1.75941333664469e+09 \\x1b[33mWARN\\x1b[0m\\t/app/pkg/lib/go-grpc.go:38\\tcould not check: rpc error: code = Unavailable desc = connection error: desc = \"transport: Error while dialing: dial tcp 127.0.0.1:50051: connect: connection refused\"\\n1.7594133366447582e+09 \\x1b[35mDEBUG\\x1b[0m\\t/app/pkg/lib/go-grpc.go:44\\tSleep 1 second\\n1.759413337645562e+09 \\x1b[33mWARN\\x1b[0m\\t/app/pkg/lib/go-grpc.go:38\\tcould not check: rpc error: code = Unavailable desc = connection error: desc = \"transport: Error while dialing: dial tcp 127.0.0.1:50051: connect: connection refused\"\\n1.7594133376456206e+09 \\x1b[35mDEBUG\\x1b[0m\\t/app/pkg/lib/go-grpc.go:44\\tSleep 1 second\\n1.759413338646503e+09 \\x1b[33mWARN\\x1b[0m\\t/app/pkg/lib/go-grpc.go:38\\tcould not check: rpc error: code = Unavailable desc = connection error: desc = \"transport: Error while dialing: dial tcp 127.0.0.1:50051: connect: connection refused\"\\n1.7594133386465685e+09 \\x1b[35mDEBUG\\x1b[0m\\t/app/pkg/lib/go-grpc.go:44\\tSleep 1 second\\n1.759413339649266e+09 \\x1b[35mDEBUG\\x1b[0m\\t/app/pkg/lib/go-grpc.go:51\\treturning conn GetGrpcConnection\\n1.7594133396496134e+09 \\x1b[35mDEBUG\\x1b[0m\\t/app/pkg/lib/go-grpc.go:60\\tInitializing sidecar messaging with: service_name:\"api-gateway-in\"  routing_key:\"api-gateway-in\"\\n1.7594133396738396e+09 \\x1b[34mINFO\\x1b[0m\\t/app/cmd/api-gateway/main.go:100\\t/api/v1\\n1.7594133396738665e+09 \\x1b[34mINFO\\x1b[0m\\t/app/cmd/api-gateway/main.go:104\\tStarting http server on: \\t{\"port\": \":8080\"}\\n1.7594133396739225e+09 \\x1b[34mINFO\\x1b[0m\\t/app/pkg/lib/consume.go:15\\tStarting to consume with retry (StartConsumingWithRetry)\\n1.7594133396739693e+09 \\x1b[34mINFO\\x1b[0m\\t/app/pkg/lib/consume.go:30\\tStarting to consume (startConsuming)\\n1.7594137429612048e+09 \\x1b[34mINFO\\x1b[0m\\t/app/pkg/api/http_utils.go:24\\tReceived request\\t{\"method\": \"POST\", \"path\": \"/api/v1/requestApproval\"}\\n1.7594137429614756e+09 \\x1b[35mDEBUG\\x1b[0m\\t/app/cmd/api-gateway/requests.go:23\\tStarting requestApprovalHandler\\n1.759413743018378e+09 \\x1b[34mINFO\\x1b[0m\\t/app/cmd/api-gateway/requests.go:88\\tReceived response, requestApprovalResponse\\n1.7594137430193925e+09 \\x1b[34mINFO\\x1b[0m\\t/app/cmd/api-gateway/requests.go:100\\tData Prepared jsonData: map[data:map[change_policies:%!s(float64=19) cycles:%!s(float64=20) learning_rate:%!s(float64=0.05)] requestMetadata:job_id:\"jake-jongejans-2b67b2a6\" type:vflTrainModelRequest user:id:\"1234\"  user_name:\"jake.jongejans@student.uva.nl\"]\\n1.7594137430194523e+09 \\x1b[34mINFO\\x1b[0m\\t/app/cmd/api-gateway/requests.go:265\\tData from req: map[change_policies:19 cycles:20 learning_rate:0.05]\\n1.759413743019466e+09 \\x1b[34mINFO\\x1b[0m\\t/app/cmd/api-gateway/requests.go:296\\tSending ping to start pods...\\n1.7594137499072883e+09 \\x1b[34mINFO\\x1b[0m\\t/app/cmd/api-gateway/requests.go:343\\tRunning VFL for 20 rounds\\n1.7594137499074378e+09 \\x1b[34mINFO\\x1b[0m\\t/app/cmd/api-gateway/requests.go:345\\tRunning VFL training round 0\\n1.7594137499074562e+09 \\x1b[34mINFO\\x1b[0m\\t/app/cmd/api-gateway/requests.go:388\\t- Sending policy reverification request\\n1.759413749941534e+09 \\x1b[34mINFO\\x1b[0m\\t/app/cmd/api-gateway/requests.go:412\\tReceived validation message: type:\"requestApprovalResponse\"  user:{id:\"1234\"  user_name:\"jake.jongejans@student.uva.nl\"}  auth:{access_token:\"1234\"  refresh_token:\"1234\"}  authorized_providers:{key:\"clientone\"  value:\"clientone.clientone.svc.cluster.local\"}  authorized_providers:{key:\"clientthree\"  value:\"clientthree.clientthree.svc.cluster.local\"}  authorized_providers:{key:\"clienttwo\"  value:\"clienttwo.clienttwo.svc.cluster.local\"}  authorized_providers:{key:\"server\"  value:\"server.server.svc.cluster.local\"}  job_id:\"jake-jongejans-8a5e3e2c\"  request_metadata:{destination_queue:\"api-gateway-in\"}, with vstruct: {0xc00017fe80 0xc000365590}\\n1.7594137499416053e+09 \\x1b[34mINFO\\x1b[0m\\t/app/cmd/api-gateway/requests.go:426\\t- Sending training request\\n1.7594137517461407e+09 \\x1b[34mINFO\\x1b[0m\\t/app/cmd/api-gateway/requests.go:428\\t- Intermediate accuracy achieved: 40.49493813273341 for round 0\\n1.7594137517462268e+09 \\x1b[34mINFO\\x1b[0m\\t/app/cmd/api-gateway/requests.go:345\\tRunning VFL training round 1\\n1.759413751746239e+09 \\x1b[34mINFO\\x1b[0m\\t/app/cmd/api-gateway/requests.go:388\\t- Sending policy reverification request\\n1.7594137517897274e+09 \\x1b[34mINFO\\x1b[0m\\t/app/cmd/api-gateway/requests.go:412\\tReceived validation message: type:\"requestApprovalResponse\"  user:{id:\"1234\"  user_name:\"jake.jongejans@student.uva.nl\"}  auth:{access_token:\"1234\"  refresh_token:\"1234\"}  authorized_providers:{key:\"clientone\"  value:\"clientone.clientone.svc.cluster.local\"}  authorized_providers:{key:\"clientthree\"  value:\"clientthree.clientthree.svc.cluster.local\"}  authorized_providers:{key:\"clienttwo\"  value:\"clienttwo.clienttwo.svc.cluster.local\"}  authorized_providers:{key:\"server\"  value:\"server.server.svc.cluster.local\"}  job_id:\"jake-jongejans-07320728\"  request_metadata:{destination_queue:\"api-gateway-in\"}, with vstruct: {0xc0001b6100 0xc0004e6c90}\\n1.7594137517898026e+09 \\x1b[34mINFO\\x1b[0m\\t/app/cmd/api-gateway/requests.go:426\\t- Sending training request\\n1.7594137519507556e+09 \\x1b[34mINFO\\x1b[0m\\t/app/cmd/api-gateway/requests.go:428\\t- Intermediate accuracy achieved: 40.607424071991 for round 1\\n1.7594137519508038e+09 \\x1b[34mINFO\\x1b[0m\\t/app/cmd/api-gateway/requests.go:345\\tRunning VFL training round 2\\n1.7594137519508138e+09 \\x1b[34mINFO\\x1b[0m\\t/app/cmd/api-gateway/requests.go:388\\t- Sending policy reverification request\\n1.7594137519777308e+09 \\x1b[34mINFO\\x1b[0m\\t/app/cmd/api-gateway/requests.go:412\\tReceived validation message: type:\"requestApprovalResponse\"  user:{id:\"1234\"  user_name:\"jake.jongejans@student.uva.nl\"}  auth:{access_token:\"1234\"  refresh_token:\"1234\"}  authorized_providers:{key:\"clientone\"  value:\"clientone.clientone.svc.cluster.local\"}  authorized_providers:{key:\"clientthree\"  value:\"clientthree.clientthree.svc.cluster.local\"}  authorized_providers:{key:\"clienttwo\"  value:\"clienttwo.clienttwo.svc.cluster.local\"}  authorized_providers:{key:\"server\"  value:\"server.server.svc.cluster.local\"}  job_id:\"jake-jongejans-2192e370\"  request_metadata:{destination_queue:\"api-gateway-in\"}, with vstruct: {0xc00038c880 0xc000470f60}\\n1.759413751977784e+09 \\x1b[34mINFO\\x1b[0m\\t/app/cmd/api-gateway/requests.go:426\\t- Sending training request\\n1.759413752115375e+09 \\x1b[34mINFO\\x1b[0m\\t/app/cmd/api-gateway/requests.go:428\\t- Intermediate accuracy achieved: 40.49493813273341 for round 2\\n1.7594137521154363e+09 \\x1b[34mINFO\\x1b[0m\\t/app/cmd/api-gateway/requests.go:345\\tRunning VFL training round 3\\n1.759413752115447e+09 \\x1b[34mINFO\\x1b[0m\\t/app/cmd/api-gateway/requests.go:388\\t- Sending policy reverification request\\n1.759413752146762e+09 \\x1b[34mINFO\\x1b[0m\\t/app/cmd/api-gateway/requests.go:412\\tReceived validation message: type:\"requestApprovalResponse\"  user:{id:\"1234\"  user_name:\"jake.jongejans@student.uva.nl\"}  auth:{access_token:\"1234\"  refresh_token:\"1234\"}  authorized_providers:{key:\"clientone\"  value:\"clientone.clientone.svc.cluster.local\"}  authorized_providers:{key:\"clientthree\"  value:\"clientthree.clientthree.svc.cluster.local\"}  authorized_providers:{key:\"clienttwo\"  value:\"clienttwo.clienttwo.svc.cluster.local\"}  authorized_providers:{key:\"server\"  value:\"server.server.svc.cluster.local\"}  job_id:\"jake-jongejans-112f2bad\"  request_metadata:{destination_queue:\"api-gateway-in\"}, with vstruct: {0xc0003fe180 0xc000470810}\\n1.7594137521470768e+09 \\x1b[34mINFO\\x1b[0m\\t/app/cmd/api-gateway/requests.go:426\\t- Sending training request\\n1.7594137522882507e+09 \\x1b[34mINFO\\x1b[0m\\t/app/cmd/api-gateway/requests.go:428\\t- Intermediate accuracy achieved: 40.49493813273341 for round 3\\n1.7594137522883046e+09 \\x1b[34mINFO\\x1b[0m\\t/app/cmd/api-gateway/requests.go:345\\tRunning VFL training round 4\\n1.759413752288315e+09 \\x1b[34mINFO\\x1b[0m\\t/app/cmd/api-gateway/requests.go:388\\t- Sending policy reverification request\\n1.7594137523142524e+09 \\x1b[34mINFO\\x1b[0m\\t/app/cmd/api-gateway/requests.go:412\\tReceived validation message: type:\"requestApprovalResponse\"  user:{id:\"1234\"  user_name:\"jake.jongejans@student.uva.nl\"}  auth:{access_token:\"1234\"  refresh_token:\"1234\"}  authorized_providers:{key:\"clientone\"  value:\"clientone.clientone.svc.cluster.local\"}  authorized_providers:{key:\"clientthree\"  value:\"clientthree.clientthree.svc.cluster.local\"}  authorized_providers:{key:\"clienttwo\"  value:\"clienttwo.clienttwo.svc.cluster.local\"}  authorized_providers:{key:\"server\"  value:\"server.server.svc.cluster.local\"}  job_id:\"jake-jongejans-cd87fdb7\"  request_metadata:{destination_queue:\"api-gateway-in\"}, with vstruct: {0xc0003fe500 0xc0004e75c0}\\n1.7594137523142967e+09 \\x1b[34mINFO\\x1b[0m\\t/app/cmd/api-gateway/requests.go:426\\t- Sending training request\\n1.7594137524385893e+09 \\x1b[34mINFO\\x1b[0m\\t/app/cmd/api-gateway/requests.go:428\\t- Intermediate accuracy achieved: 40.607424071991 for round 4\\n1.7594137524386506e+09 \\x1b[34mINFO\\x1b[0m\\t/app/cmd/api-gateway/requests.go:345\\tRunning VFL training round 5\\n1.7594137524386609e+09 \\x1b[34mINFO\\x1b[0m\\t/app/cmd/api-gateway/requests.go:388\\t- Sending policy reverification request\\n1.7594137524713218e+09 \\x1b[34mINFO\\x1b[0m\\t/app/cmd/api-gateway/requests.go:412\\tReceived validation message: type:\"requestApprovalResponse\"  user:{id:\"1234\"  user_name:\"jake.jongejans@student.uva.nl\"}  auth:{access_token:\"1234\"  refresh_token:\"1234\"}  authorized_providers:{key:\"clientone\"  value:\"clientone.clientone.svc.cluster.local\"}  authorized_providers:{key:\"clientthree\"  value:\"clientthree.clientthree.svc.cluster.local\"}  authorized_providers:{key:\"clienttwo\"  value:\"clienttwo.clienttwo.svc.cluster.local\"}  authorized_providers:{key:\"server\"  value:\"server.server.svc.cluster.local\"}  job_id:\"jake-jongejans-c27df93f\"  request_metadata:{destination_queue:\"api-gateway-in\"}, with vstruct: {0xc0003fe180 0xc000470810}\\n1.7594137524713964e+09 \\x1b[34mINFO\\x1b[0m\\t/app/cmd/api-gateway/requests.go:426\\t- Sending training request\\n1.759413752602238e+09 \\x1b[34mINFO\\x1b[0m\\t/app/cmd/api-gateway/requests.go:428\\t- Intermediate accuracy achieved: 40.83239595050618 for round 5\\n1.7594137526023128e+09 \\x1b[34mINFO\\x1b[0m\\t/app/cmd/api-gateway/requests.go:345\\tRunning VFL training round 6\\n1.759413752602324e+09 \\x1b[34mINFO\\x1b[0m\\t/app/cmd/api-gateway/requests.go:388\\t- Sending policy reverification request\\n1.7594137526340518e+09 \\x1b[34mINFO\\x1b[0m\\t/app/cmd/api-gateway/requests.go:412\\tReceived validation message: type:\"requestApprovalResponse\"  user:{id:\"1234\"  user_name:\"jake.jongejans@student.uva.nl\"}  auth:{access_token:\"1234\"  refresh_token:\"1234\"}  authorized_providers:{key:\"clientone\"  value:\"clientone.clientone.svc.cluster.local\"}  authorized_providers:{key:\"clientthree\"  value:\"clientthree.clientthree.svc.cluster.local\"}  authorized_providers:{key:\"clienttwo\"  value:\"clienttwo.clienttwo.svc.cluster.local\"}  authorized_providers:{key:\"server\"  value:\"server.server.svc.cluster.local\"}  job_id:\"jake-jongejans-a7f9d0aa\"  request_metadata:{destination_queue:\"api-gateway-in\"}, with vstruct: {0xc0001b6180 0xc000423830}\\n1.7594137526340942e+09 \\x1b[34mINFO\\x1b[0m\\t/app/cmd/api-gateway/requests.go:426\\t- Sending training request\\n1.759413752769138e+09 \\x1b[34mINFO\\x1b[0m\\t/app/cmd/api-gateway/requests.go:428\\t- Intermediate accuracy achieved: 41.05736782902137 for round 6\\n1.7594137527691896e+09 \\x1b[34mINFO\\x1b[0m\\t/app/cmd/api-gateway/requests.go:345\\tRunning VFL training round 7\\n1.7594137527692003e+09 \\x1b[34mINFO\\x1b[0m\\t/app/cmd/api-gateway/requests.go:388\\t- Sending policy reverification request\\n1.7594137528010163e+09 \\x1b[34mINFO\\x1b[0m\\t/app/cmd/api-gateway/requests.go:412\\tReceived validation message: type:\"requestApprovalResponse\"  user:{id:\"1234\"  user_name:\"jake.jongejans@student.uva.nl\"}  auth:{access_token:\"1234\"  refresh_token:\"1234\"}  authorized_providers:{key:\"clientone\"  value:\"clientone.clientone.svc.cluster.local\"}  authorized_providers:{key:\"clientthree\"  value:\"clientthree.clientthree.svc.cluster.local\"}  authorized_providers:{key:\"clienttwo\"  value:\"clienttwo.clienttwo.svc.cluster.local\"}  authorized_providers:{key:\"server\"  value:\"server.server.svc.cluster.local\"}  job_id:\"jake-jongejans-9e153b11\"  request_metadata:{destination_queue:\"api-gateway-in\"}, with vstruct: {0xc00017eb00 0xc000382690}\\n1.759413752801065e+09 \\x1b[34mINFO\\x1b[0m\\t/app/cmd/api-gateway/requests.go:426\\t- Sending training request\\n1.7594137529258308e+09 \\x1b[34mINFO\\x1b[0m\\t/app/cmd/api-gateway/requests.go:428\\t- Intermediate accuracy achieved: 41.05736782902137 for round 7\\n1.7594137529259017e+09 \\x1b[34mINFO\\x1b[0m\\t/app/cmd/api-gateway/requests.go:345\\tRunning VFL training round 8\\n1.759413752925928e+09 \\x1b[34mINFO\\x1b[0m\\t/app/cmd/api-gateway/requests.go:388\\t- Sending policy reverification request\\n1.7594137529540167e+09 \\x1b[34mINFO\\x1b[0m\\t/app/cmd/api-gateway/requests.go:412\\tReceived validation message: type:\"requestApprovalResponse\"  user:{id:\"1234\"  user_name:\"jake.jongejans@student.uva.nl\"}  auth:{access_token:\"1234\"  refresh_token:\"1234\"}  authorized_providers:{key:\"clientone\"  value:\"clientone.clientone.svc.cluster.local\"}  authorized_providers:{key:\"clientthree\"  value:\"clientthree.clientthree.svc.cluster.local\"}  authorized_providers:{key:\"clienttwo\"  value:\"clienttwo.clienttwo.svc.cluster.local\"}  authorized_providers:{key:\"server\"  value:\"server.server.svc.cluster.local\"}  job_id:\"jake-jongejans-a7796d76\"  request_metadata:{destination_queue:\"api-gateway-in\"}, with vstruct: {0xc0001b6180 0xc0004e6f90}\\n1.759413752954102e+09 \\x1b[34mINFO\\x1b[0m\\t/app/cmd/api-gateway/requests.go:426\\t- Sending training request\\n1.7594137530682182e+09 \\x1b[34mINFO\\x1b[0m\\t/app/cmd/api-gateway/requests.go:428\\t- Intermediate accuracy achieved: 41.16985376827896 for round 8\\n1.759413753068269e+09 \\x1b[34mINFO\\x1b[0m\\t/app/cmd/api-gateway/requests.go:345\\tRunning VFL training round 9\\n1.7594137530682797e+09 \\x1b[34mINFO\\x1b[0m\\t/app/cmd/api-gateway/requests.go:388\\t- Sending policy reverification request\\n1.759413753113516e+09 \\x1b[34mINFO\\x1b[0m\\t/app/cmd/api-gateway/requests.go:412\\tReceived validation message: type:\"requestApprovalResponse\"  user:{id:\"1234\"  user_name:\"jake.jongejans@student.uva.nl\"}  auth:{access_token:\"1234\"  refresh_token:\"1234\"}  authorized_providers:{key:\"clientone\"  value:\"clientone.clientone.svc.cluster.local\"}  authorized_providers:{key:\"clientthree\"  value:\"clientthree.clientthree.svc.cluster.local\"}  authorized_providers:{key:\"clienttwo\"  value:\"clienttwo.clienttwo.svc.cluster.local\"}  authorized_providers:{key:\"server\"  value:\"server.server.svc.cluster.local\"}  job_id:\"jake-jongejans-ce7f84df\"  request_metadata:{destination_queue:\"api-gateway-in\"}, with vstruct: {0xc0001b6180 0xc000423680}\\n1.7594137531136074e+09 \\x1b[34mINFO\\x1b[0m\\t/app/cmd/api-gateway/requests.go:426\\t- Sending training request\\n1.7594137534481614e+09 \\x1b[34mINFO\\x1b[0m\\t/app/cmd/api-gateway/requests.go:428\\t- Intermediate accuracy achieved: 41.39482564679415 for round 9\\n1.759413753448266e+09 \\x1b[34mINFO\\x1b[0m\\t/app/cmd/api-gateway/requests.go:345\\tRunning VFL training round 10\\n1.7594137534482784e+09 \\x1b[34mINFO\\x1b[0m\\t/app/cmd/api-gateway/requests.go:388\\t- Sending policy reverification request\\n1.7594137534821048e+09 \\x1b[34mINFO\\x1b[0m\\t/app/cmd/api-gateway/requests.go:412\\tReceived validation message: type:\"requestApprovalResponse\"  user:{id:\"1234\"  user_name:\"jake.jongejans@student.uva.nl\"}  auth:{access_token:\"1234\"  refresh_token:\"1234\"}  authorized_providers:{key:\"clientone\"  value:\"clientone.clientone.svc.cluster.local\"}  authorized_providers:{key:\"clientthree\"  value:\"clientthree.clientthree.svc.cluster.local\"}  authorized_providers:{key:\"clienttwo\"  value:\"clienttwo.clienttwo.svc.cluster.local\"}  authorized_providers:{key:\"server\"  value:\"server.server.svc.cluster.local\"}  job_id:\"jake-jongejans-08ec34ee\"  request_metadata:{destination_queue:\"api-gateway-in\"}, with vstruct: {0xc0001b6480 0xc000470f00}\\n1.7594137534821444e+09 \\x1b[34mINFO\\x1b[0m\\t/app/cmd/api-gateway/requests.go:426\\t- Sending training request\\n1.7594137538434157e+09 \\x1b[34mINFO\\x1b[0m\\t/app/cmd/api-gateway/requests.go:428\\t- Intermediate accuracy achieved: 41.16985376827896 for round 10\\n1.759413753843494e+09 \\x1b[34mINFO\\x1b[0m\\t/app/cmd/api-gateway/requests.go:345\\tRunning VFL training round 11\\n1.7594137538435092e+09 \\x1b[34mINFO\\x1b[0m\\t/app/cmd/api-gateway/requests.go:388\\t- Sending policy reverification request\\n1.7594137538821168e+09 \\x1b[34mINFO\\x1b[0m\\t/app/cmd/api-gateway/requests.go:412\\tReceived validation message: type:\"requestApprovalResponse\"  user:{id:\"1234\"  user_name:\"jake.jongejans@student.uva.nl\"}  auth:{access_token:\"1234\"  refresh_token:\"1234\"}  authorized_providers:{key:\"clientone\"  value:\"clientone.clientone.svc.cluster.local\"}  authorized_providers:{key:\"clientthree\"  value:\"clientthree.clientthree.svc.cluster.local\"}  authorized_providers:{key:\"clienttwo\"  value:\"clienttwo.clienttwo.svc.cluster.local\"}  authorized_providers:{key:\"server\"  value:\"server.server.svc.cluster.local\"}  job_id:\"jake-jongejans-b1cdabfb\"  request_metadata:{destination_queue:\"api-gateway-in\"}, with vstruct: {0xc0004e8200 0xc000470db0}\\n1.7594137538821723e+09 \\x1b[34mINFO\\x1b[0m\\t/app/cmd/api-gateway/requests.go:426\\t- Sending training request\\n1.7594137542475295e+09 \\x1b[34mINFO\\x1b[0m\\t/app/cmd/api-gateway/requests.go:428\\t- Intermediate accuracy achieved: 41.28233970753656 for round 11\\n1.7594137542476485e+09 \\x1b[34mINFO\\x1b[0m\\t/app/cmd/api-gateway/requests.go:345\\tRunning VFL training round 12\\n1.759413754247664e+09 \\x1b[34mINFO\\x1b[0m\\t/app/cmd/api-gateway/requests.go:388\\t- Sending policy reverification request\\n1.7594137542860217e+09 \\x1b[34mINFO\\x1b[0m\\t/app/cmd/api-gateway/requests.go:412\\tReceived validation message: type:\"requestApprovalResponse\"  user:{id:\"1234\"  user_name:\"jake.jongejans@student.uva.nl\"}  auth:{access_token:\"1234\"  refresh_token:\"1234\"}  authorized_providers:{key:\"clientone\"  value:\"clientone.clientone.svc.cluster.local\"}  authorized_providers:{key:\"clientthree\"  value:\"clientthree.clientthree.svc.cluster.local\"}  authorized_providers:{key:\"clienttwo\"  value:\"clienttwo.clienttwo.svc.cluster.local\"}  authorized_providers:{key:\"server\"  value:\"server.server.svc.cluster.local\"}  job_id:\"jake-jongejans-c8e8e22e\"  request_metadata:{destination_queue:\"api-gateway-in\"}, with vstruct: {0xc0004e8080 0xc000470ba0}\\n1.7594137542860913e+09 \\x1b[34mINFO\\x1b[0m\\t/app/cmd/api-gateway/requests.go:426\\t- Sending training request\\n1.7594137546462705e+09 \\x1b[34mINFO\\x1b[0m\\t/app/cmd/api-gateway/requests.go:428\\t- Intermediate accuracy achieved: 41.732283464566926 for round 12\\n1.7594137546463556e+09 \\x1b[34mINFO\\x1b[0m\\t/app/cmd/api-gateway/requests.go:345\\tRunning VFL training round 13\\n1.7594137546463692e+09 \\x1b[34mINFO\\x1b[0m\\t/app/cmd/api-gateway/requests.go:388\\t- Sending policy reverification request\\n1.7594137546804218e+09 \\x1b[34mINFO\\x1b[0m\\t/app/cmd/api-gateway/requests.go:412\\tReceived validation message: type:\"requestApprovalResponse\"  user:{id:\"1234\"  user_name:\"jake.jongejans@student.uva.nl\"}  auth:{access_token:\"1234\"  refresh_token:\"1234\"}  authorized_providers:{key:\"clientone\"  value:\"clientone.clientone.svc.cluster.local\"}  authorized_providers:{key:\"clientthree\"  value:\"clientthree.clientthree.svc.cluster.local\"}  authorized_providers:{key:\"clienttwo\"  value:\"clienttwo.clienttwo.svc.cluster.local\"}  authorized_providers:{key:\"server\"  value:\"server.server.svc.cluster.local\"}  job_id:\"jake-jongejans-07701a52\"  request_metadata:{destination_queue:\"api-gateway-in\"}, with vstruct: {0xc0003fe180 0xc000423b60}\\n1.759413754680463e+09 \\x1b[34mINFO\\x1b[0m\\t/app/cmd/api-gateway/requests.go:426\\t- Sending training request\\n1.7594137550448792e+09 \\x1b[34mINFO\\x1b[0m\\t/app/cmd/api-gateway/requests.go:428\\t- Intermediate accuracy achieved: 41.732283464566926 for round 13\\n1.7594137550449665e+09 \\x1b[34mINFO\\x1b[0m\\t/app/cmd/api-gateway/requests.go:345\\tRunning VFL training round 14\\n1.7594137550449998e+09 \\x1b[34mINFO\\x1b[0m\\t/app/cmd/api-gateway/requests.go:388\\t- Sending policy reverification request\\n1.7594137550857542e+09 \\x1b[34mINFO\\x1b[0m\\t/app/cmd/api-gateway/requests.go:412\\tReceived validation message: type:\"requestApprovalResponse\"  user:{id:\"1234\"  user_name:\"jake.jongejans@student.uva.nl\"}  auth:{access_token:\"1234\"  refresh_token:\"1234\"}  authorized_providers:{key:\"clientone\"  value:\"clientone.clientone.svc.cluster.local\"}  authorized_providers:{key:\"clientthree\"  value:\"clientthree.clientthree.svc.cluster.local\"}  authorized_providers:{key:\"clienttwo\"  value:\"clienttwo.clienttwo.svc.cluster.local\"}  authorized_providers:{key:\"server\"  value:\"server.server.svc.cluster.local\"}  job_id:\"jake-jongejans-adc4d1da\"  request_metadata:{destination_queue:\"api-gateway-in\"}, with vstruct: {0xc0004e8080 0xc00078eff0}\\n1.7594137550861194e+09 \\x1b[34mINFO\\x1b[0m\\t/app/cmd/api-gateway/requests.go:426\\t- Sending training request\\n1.7594137554512563e+09 \\x1b[34mINFO\\x1b[0m\\t/app/cmd/api-gateway/requests.go:428\\t- Intermediate accuracy achieved: 41.61979752530934 for round 14\\n1.7594137554514282e+09 \\x1b[34mINFO\\x1b[0m\\t/app/cmd/api-gateway/requests.go:345\\tRunning VFL training round 15\\n1.7594137554514444e+09 \\x1b[34mINFO\\x1b[0m\\t/app/cmd/api-gateway/requests.go:388\\t- Sending policy reverification request\\n1.7594137555003865e+09 \\x1b[34mINFO\\x1b[0m\\t/app/cmd/api-gateway/requests.go:412\\tReceived validation message: type:\"requestApprovalResponse\"  user:{id:\"1234\"  user_name:\"jake.jongejans@student.uva.nl\"}  auth:{access_token:\"1234\"  refresh_token:\"1234\"}  authorized_providers:{key:\"clientone\"  value:\"clientone.clientone.svc.cluster.local\"}  authorized_providers:{key:\"clientthree\"  value:\"clientthree.clientthree.svc.cluster.local\"}  authorized_providers:{key:\"clienttwo\"  value:\"clienttwo.clienttwo.svc.cluster.local\"}  authorized_providers:{key:\"server\"  value:\"server.server.svc.cluster.local\"}  job_id:\"jake-jongejans-e0871994\"  request_metadata:{destination_queue:\"api-gateway-in\"}, with vstruct: {0xc00017f580 0xc000470210}\\n1.7594137555009465e+09 \\x1b[34mINFO\\x1b[0m\\t/app/cmd/api-gateway/requests.go:426\\t- Sending training request\\n1.7594137558408945e+09 \\x1b[34mINFO\\x1b[0m\\t/app/cmd/api-gateway/requests.go:428\\t- Intermediate accuracy achieved: 41.84476940382452 for round 15\\n1.759413755841017e+09 \\x1b[34mINFO\\x1b[0m\\t/app/cmd/api-gateway/requests.go:345\\tRunning VFL training round 16\\n1.7594137558410306e+09 \\x1b[34mINFO\\x1b[0m\\t/app/cmd/api-gateway/requests.go:388\\t- Sending policy reverification request\\n1.7594137558809738e+09 \\x1b[34mINFO\\x1b[0m\\t/app/cmd/api-gateway/requests.go:412\\tReceived validation message: type:\"requestApprovalResponse\"  user:{id:\"1234\"  user_name:\"jake.jongejans@student.uva.nl\"}  auth:{access_token:\"1234\"  refresh_token:\"1234\"}  authorized_providers:{key:\"clientone\"  value:\"clientone.clientone.svc.cluster.local\"}  authorized_providers:{key:\"clientthree\"  value:\"clientthree.clientthree.svc.cluster.local\"}  authorized_providers:{key:\"clienttwo\"  value:\"clienttwo.clienttwo.svc.cluster.local\"}  authorized_providers:{key:\"server\"  value:\"server.server.svc.cluster.local\"}  job_id:\"jake-jongejans-a5a1cf4c\"  request_metadata:{destination_queue:\"api-gateway-in\"}, with vstruct: {0xc00017ed80 0xc000382690}\\n1.759413755881343e+09 \\x1b[34mINFO\\x1b[0m\\t/app/cmd/api-gateway/requests.go:426\\t- Sending training request\\n1.759413756240051e+09 \\x1b[34mINFO\\x1b[0m\\t/app/cmd/api-gateway/requests.go:428\\t- Intermediate accuracy achieved: 41.84476940382452 for round 16\\n1.759413756240131e+09 \\x1b[34mINFO\\x1b[0m\\t/app/cmd/api-gateway/requests.go:345\\tRunning VFL training round 17\\n1.759413756240147e+09 \\x1b[34mINFO\\x1b[0m\\t/app/cmd/api-gateway/requests.go:388\\t- Sending policy reverification request\\n1.7594137562799323e+09 \\x1b[34mINFO\\x1b[0m\\t/app/cmd/api-gateway/requests.go:412\\tReceived validation message: type:\"requestApprovalResponse\"  user:{id:\"1234\"  user_name:\"jake.jongejans@student.uva.nl\"}  auth:{access_token:\"1234\"  refresh_token:\"1234\"}  authorized_providers:{key:\"clientone\"  value:\"clientone.clientone.svc.cluster.local\"}  authorized_providers:{key:\"clientthree\"  value:\"clientthree.clientthree.svc.cluster.local\"}  authorized_providers:{key:\"clienttwo\"  value:\"clienttwo.clienttwo.svc.cluster.local\"}  authorized_providers:{key:\"server\"  value:\"server.server.svc.cluster.local\"}  job_id:\"jake-jongejans-c0ac04a4\"  request_metadata:{destination_queue:\"api-gateway-in\"}, with vstruct: {0xc0003fe180 0xc0004e70e0}\\n1.7594137562800565e+09 \\x1b[34mINFO\\x1b[0m\\t/app/cmd/api-gateway/requests.go:426\\t- Sending training request\\n1.7594137566524076e+09 \\x1b[34mINFO\\x1b[0m\\t/app/cmd/api-gateway/requests.go:428\\t- Intermediate accuracy achieved: 41.95725534308212 for round 17\\n1.7594137566525006e+09 \\x1b[34mINFO\\x1b[0m\\t/app/cmd/api-gateway/requests.go:345\\tRunning VFL training round 18\\n1.7594137566525164e+09 \\x1b[34mINFO\\x1b[0m\\t/app/cmd/api-gateway/requests.go:388\\t- Sending policy reverification request\\n1.7594137566850743e+09 \\x1b[34mINFO\\x1b[0m\\t/app/cmd/api-gateway/requests.go:412\\tReceived validation message: type:\"requestApprovalResponse\"  user:{id:\"1234\"  user_name:\"jake.jongejans@student.uva.nl\"}  auth:{access_token:\"1234\"  refresh_token:\"1234\"}  authorized_providers:{key:\"clientone\"  value:\"clientone.clientone.svc.cluster.local\"}  authorized_providers:{key:\"clientthree\"  value:\"clientthree.clientthree.svc.cluster.local\"}  authorized_providers:{key:\"clienttwo\"  value:\"clienttwo.clienttwo.svc.cluster.local\"}  authorized_providers:{key:\"server\"  value:\"server.server.svc.cluster.local\"}  job_id:\"jake-jongejans-52053fa4\"  request_metadata:{destination_queue:\"api-gateway-in\"}, with vstruct: {0xc0001b6400 0xc000382db0}\\n1.7594137566851676e+09 \\x1b[34mINFO\\x1b[0m\\t/app/cmd/api-gateway/requests.go:426\\t- Sending training request\\n1.759413757039123e+09 \\x1b[34mINFO\\x1b[0m\\t/app/cmd/api-gateway/requests.go:428\\t- Intermediate accuracy achieved: 41.95725534308212 for round 18\\n1.7594137570391972e+09 \\x1b[34mINFO\\x1b[0m\\t/app/cmd/api-gateway/requests.go:345\\tRunning VFL training round 19\\n1.7594137570392094e+09 \\x1b[34mINFO\\x1b[0m\\t/app/cmd/api-gateway/requests.go:349\\tSending in the policy change request, removing client 3 from the agreement.\\n1.7594137570392218e+09 \\x1b[34mINFO\\x1b[0m\\t/app/cmd/api-gateway/requests.go:350\\tTODO: Policy change request not yet implemented.\\n1.7594137570392377e+09 \\x1b[34mINFO\\x1b[0m\\t/app/cmd/api-gateway/requests.go:365\\t- Sending policy removal request\\n1.7594137570406337e+09 \\x1b[34mINFO\\x1b[0m\\t/app/cmd/api-gateway/requests.go:388\\t- Sending policy reverification request\\n1.7594137570719771e+09 \\x1b[34mINFO\\x1b[0m\\t/app/cmd/api-gateway/requests.go:412\\tReceived validation message: type:\"requestApprovalResponse\"  user:{id:\"1234\"  user_name:\"jake.jongejans@student.uva.nl\"}  auth:{access_token:\"1234\"  refresh_token:\"1234\"}  authorized_providers:{key:\"clientone\"  value:\"clientone.clientone.svc.cluster.local\"}  authorized_providers:{key:\"clienttwo\"  value:\"clienttwo.clienttwo.svc.cluster.local\"}  authorized_providers:{key:\"server\"  value:\"server.server.svc.cluster.local\"}  job_id:\"jake-jongejans-3553f813\"  request_metadata:{destination_queue:\"api-gateway-in\"}, with vstruct: {0xc0004e8080 0xc00078f410}\\n1.7594137570726287e+09 \\x1b[34mINFO\\x1b[0m\\t/app/cmd/api-gateway/requests.go:420\\t-=-=-=-=-=-=-=-=-=-=-=-=-=-=-=-=-=-=-=-=-=-=-=-=-=-=-\\n1.7594137570727692e+09 \\x1b[34mINFO\\x1b[0m\\t/app/cmd/api-gateway/requests.go:421\\t   Policy does not allow this training to continue.\\n1.759413757072783e+09 \\x1b[34mINFO\\x1b[0m\\t/app/cmd/api-gateway/requests.go:422\\t-=-=-=-=-=-=-=-=-=-=-=-=-=-=-=-=-=-=-=-=-=-=-=-=-=-=-\\n1.7594137570728018e+09 \\x1b[34mINFO\\x1b[0m\\t/app/cmd/api-gateway/requests.go:439\\t-=-=-=-=-=-=-=-=-=-=-=-=-=-=-=-=-=-=-=-=-=-=-\\n1.7594137570728116e+09 \\x1b[34mINFO\\x1b[0m\\t/app/cmd/api-gateway/requests.go:440\\tFinal accuracy achieved: 41.95725534308212\\n1.7594137570728185e+09 \\x1b[34mINFO\\x1b[0m\\t/app/cmd/api-gateway/requests.go:441\\t-=-=-=-=-=-=-=-=-=-=-=-=-=-=-=-=-=-=-=-=-=-=-\\n1.759413817077126e+09 \\x1b[34mINFO\\x1b[0m\\t/app/pkg/api/http.go:258\\tBad response from server: 408 Request Timeout\\n1.7594138170779326e+09 \\x1b[34mINFO\\x1b[0m\\t/app/pkg/api/http.go:258\\tBad response from server: 408 Request Timeout\\n1.7594138170783474e+09 \\x1b[34mINFO\\x1b[0m\\t/app/pkg/api/http.go:258\\tBad response from server: 408 Request Timeout\\n1.7594138170791929e+09 \\x1b[34mINFO\\x1b[0m\\t/app/pkg/api/http.go:258\\tBad response from server: 408 Request Timeout\\n1.7594138170792289e+09 \\x1b[34mINFO\\x1b[0m\\t/app/cmd/api-gateway/requests.go:469\\t-=-=-=-=-=-=-=-=-=-=-=-=-=-=-=-=-=-=-=-=-=-=-\\n1.7594138170792918e+09 \\x1b[34mINFO\\x1b[0m\\t/app/cmd/api-gateway/requests.go:470\\tFinal accuracy achieved: 41.95725534308212\\n1.759413817079303e+09 \\x1b[34mINFO\\x1b[0m\\t/app/cmd/api-gateway/requests.go:471\\t-=-=-=-=-=-=-=-=-=-=-=-=-=-=-=-=-=-=-=-=-=-=-\\n',\n",
       " '')"
      ]
     },
     "execution_count": 14,
     "metadata": {},
     "output_type": "execute_result"
    }
   ],
   "source": [
    "%%time\n",
    "\n",
    "nodes_dict['control']['node'].upload_file(local_file_path=\"../scripts/retrieve_logs.sh\", remote_file_path=\"retrieve_logs.sh\")\n",
    "nodes_dict['control']['node'].execute(f\"bash retrieve_logs.sh\")"
   ]
  },
  {
   "cell_type": "code",
   "execution_count": 11,
   "metadata": {},
   "outputs": [
    {
     "name": "stdout",
     "output_type": "stream",
     "text": [
      "40.49493813273341\n",
      "40.607424071991\n",
      "40.49493813273341\n",
      "40.49493813273341\n",
      "40.607424071991\n",
      "40.83239595050618\n",
      "41.05736782902137\n",
      "41.05736782902137\n",
      "41.16985376827896\n",
      "41.39482564679415\n",
      "41.16985376827896\n",
      "41.28233970753656\n",
      "41.732283464566926\n",
      "41.732283464566926\n",
      "41.61979752530934\n",
      "41.84476940382452\n",
      "41.84476940382452\n",
      "41.95725534308212\n",
      "41.95725534308212\n",
      "CPU times: user 52.2 ms, sys: 14.9 ms, total: 67.2 ms\n",
      "Wall time: 3.63 s\n"
     ]
    },
    {
     "data": {
      "text/plain": [
       "('40.49493813273341\\n40.607424071991\\n40.49493813273341\\n40.49493813273341\\n40.607424071991\\n40.83239595050618\\n41.05736782902137\\n41.05736782902137\\n41.16985376827896\\n41.39482564679415\\n41.16985376827896\\n41.28233970753656\\n41.732283464566926\\n41.732283464566926\\n41.61979752530934\\n41.84476940382452\\n41.84476940382452\\n41.95725534308212\\n41.95725534308212\\n',\n",
       " '')"
      ]
     },
     "execution_count": 11,
     "metadata": {},
     "output_type": "execute_result"
    }
   ],
   "source": [
    "%%time\n",
    "# TODO: read the metrics based on the other script \n",
    "\n",
    "nodes_dict['control']['node'].upload_file(local_file_path=\"../scripts/retrieve_data.sh\", remote_file_path=\"retrieve_data.sh\")\n",
    "nodes_dict['control']['node'].execute(f\"bash retrieve_data.sh {2}\")\n"
   ]
  },
  {
   "cell_type": "code",
   "execution_count": 12,
   "metadata": {},
   "outputs": [
    {
     "name": "stdout",
     "output_type": "stream",
     "text": [
      "-----------------  --------------------------------------------------------------------------------------------------------------------------------------------\n",
      "ID                 7e6ecd76-c04e-4227-9f31-3f4201a053ba\n",
      "Name               control\n",
      "Cores              2\n",
      "RAM                8\n",
      "Disk               100\n",
      "Image              default_ubuntu_24\n",
      "Image Type         qcow2\n",
      "Host               losa-w3.fabric-testbed.net\n",
      "Site               LOSA\n",
      "Management IP      2001:400:a100:3070:f816:3eff:fe84:397d\n",
      "Reservation State  Active\n",
      "Error Message\n",
      "SSH Command        ssh -i /home/fabric/work/fabric_config/slice_key -F /home/fabric/work/fabric_config/ssh_config ubuntu@2001:400:a100:3070:f816:3eff:fe84:397d\n",
      "-----------------  --------------------------------------------------------------------------------------------------------------------------------------------\n",
      "ssh -i ~/.ssh/keys/FABRIC-slice_key ubuntu@2001:400:a100:3070:f816:3eff:fe84:397d\n",
      "-----------------  --------------------------------------------------------------------------------------------------------------------------------------------\n",
      "ID                 0f5f67e0-d2a7-4c30-92e9-df7f2c58c0ef\n",
      "Name               dynamos\n",
      "Cores              4\n",
      "RAM                16\n",
      "Disk               100\n",
      "Image              default_ubuntu_24\n",
      "Image Type         qcow2\n",
      "Host               losa-w3.fabric-testbed.net\n",
      "Site               LOSA\n",
      "Management IP      2001:400:a100:3070:f816:3eff:fe1b:63f7\n",
      "Reservation State  Active\n",
      "Error Message\n",
      "SSH Command        ssh -i /home/fabric/work/fabric_config/slice_key -F /home/fabric/work/fabric_config/ssh_config ubuntu@2001:400:a100:3070:f816:3eff:fe1b:63f7\n",
      "-----------------  --------------------------------------------------------------------------------------------------------------------------------------------\n",
      "ssh -i ~/.ssh/keys/FABRIC-slice_key ubuntu@2001:400:a100:3070:f816:3eff:fe1b:63f7\n",
      "-----------------  --------------------------------------------------------------------------------------------------------------------------------------------\n",
      "ID                 2a5119ae-0212-45bf-bf07-cf7bb91a3927\n",
      "Name               server\n",
      "Cores              4\n",
      "RAM                16\n",
      "Disk               100\n",
      "Image              default_ubuntu_24\n",
      "Image Type         qcow2\n",
      "Host               losa-w3.fabric-testbed.net\n",
      "Site               LOSA\n",
      "Management IP      2001:400:a100:3070:f816:3eff:fe08:6a6e\n",
      "Reservation State  Active\n",
      "Error Message\n",
      "SSH Command        ssh -i /home/fabric/work/fabric_config/slice_key -F /home/fabric/work/fabric_config/ssh_config ubuntu@2001:400:a100:3070:f816:3eff:fe08:6a6e\n",
      "-----------------  --------------------------------------------------------------------------------------------------------------------------------------------\n",
      "ssh -i ~/.ssh/keys/FABRIC-slice_key ubuntu@2001:400:a100:3070:f816:3eff:fe08:6a6e\n",
      "-----------------  --------------------------------------------------------------------------------------------------------------------------------------------\n",
      "ID                 260b5e76-5e6a-40a0-bc25-0829a9214660\n",
      "Name               clientone\n",
      "Cores              4\n",
      "RAM                16\n",
      "Disk               100\n",
      "Image              default_ubuntu_24\n",
      "Image Type         qcow2\n",
      "Host               losa-w3.fabric-testbed.net\n",
      "Site               LOSA\n",
      "Management IP      2001:400:a100:3070:f816:3eff:fe91:6d37\n",
      "Reservation State  Active\n",
      "Error Message\n",
      "SSH Command        ssh -i /home/fabric/work/fabric_config/slice_key -F /home/fabric/work/fabric_config/ssh_config ubuntu@2001:400:a100:3070:f816:3eff:fe91:6d37\n",
      "-----------------  --------------------------------------------------------------------------------------------------------------------------------------------\n",
      "ssh -i ~/.ssh/keys/FABRIC-slice_key ubuntu@2001:400:a100:3070:f816:3eff:fe91:6d37\n",
      "-----------------  --------------------------------------------------------------------------------------------------------------------------------------------\n",
      "ID                 c34445f4-832e-4132-959e-bb3183f7543e\n",
      "Name               clienttwo\n",
      "Cores              8\n",
      "RAM                16\n",
      "Disk               100\n",
      "Image              default_ubuntu_24\n",
      "Image Type         qcow2\n",
      "Host               losa-w3.fabric-testbed.net\n",
      "Site               LOSA\n",
      "Management IP      2001:400:a100:3070:f816:3eff:fe95:daf0\n",
      "Reservation State  Active\n",
      "Error Message\n",
      "SSH Command        ssh -i /home/fabric/work/fabric_config/slice_key -F /home/fabric/work/fabric_config/ssh_config ubuntu@2001:400:a100:3070:f816:3eff:fe95:daf0\n",
      "-----------------  --------------------------------------------------------------------------------------------------------------------------------------------\n",
      "ssh -i ~/.ssh/keys/FABRIC-slice_key ubuntu@2001:400:a100:3070:f816:3eff:fe95:daf0\n",
      "-----------------  --------------------------------------------------------------------------------------------------------------------------------------------\n",
      "ID                 cfdb9568-2462-4412-8173-b7761aa6f9f2\n",
      "Name               clientthree\n",
      "Cores              4\n",
      "RAM                16\n",
      "Disk               100\n",
      "Image              default_ubuntu_24\n",
      "Image Type         qcow2\n",
      "Host               losa-w3.fabric-testbed.net\n",
      "Site               LOSA\n",
      "Management IP      2001:400:a100:3070:f816:3eff:fead:1f7e\n",
      "Reservation State  Active\n",
      "Error Message\n",
      "SSH Command        ssh -i /home/fabric/work/fabric_config/slice_key -F /home/fabric/work/fabric_config/ssh_config ubuntu@2001:400:a100:3070:f816:3eff:fead:1f7e\n",
      "-----------------  --------------------------------------------------------------------------------------------------------------------------------------------\n",
      "ssh -i ~/.ssh/keys/FABRIC-slice_key ubuntu@2001:400:a100:3070:f816:3eff:fead:1f7e\n"
     ]
    }
   ],
   "source": [
    "for node in nodes:\n",
    "    print(node)\n",
    "    ssh_command = node.get_ssh_command().replace(\n",
    "        \"-i /home/fabric/work/fabric_config/slice_key\", \"-i ~/.ssh/keys/FABRIC-slice_key\"\n",
    "    ).replace(\n",
    "        \"-F /home/fabric/work/fabric_config/ssh_config \", \"\"\n",
    "    )\n",
    "    \n",
    "    print(ssh_command);"
   ]
  },
  {
   "cell_type": "code",
   "execution_count": 7,
   "metadata": {},
   "outputs": [
    {
     "name": "stdout",
     "output_type": "stream",
     "text": [
      "Uploading the node setup...\n"
     ]
    },
    {
     "data": {
      "text/plain": [
       "[<SFTPAttributes: [ size=1222 uid=1000 gid=1000 mode=0o100664 atime=1758572167 mtime=1758572168 ]>,\n",
       " <SFTPAttributes: [ size=1222 uid=1000 gid=1000 mode=0o100664 atime=1758572165 mtime=1758572165 ]>,\n",
       " <SFTPAttributes: [ size=1222 uid=1000 gid=1000 mode=0o100664 atime=1758572165 mtime=1758572165 ]>,\n",
       " <SFTPAttributes: [ size=1222 uid=1000 gid=1000 mode=0o100664 atime=1758572165 mtime=1758572165 ]>,\n",
       " <SFTPAttributes: [ size=1222 uid=1000 gid=1000 mode=0o100664 atime=1758572165 mtime=1758572165 ]>,\n",
       " <SFTPAttributes: [ size=1222 uid=1000 gid=1000 mode=0o100664 atime=1758572167 mtime=1758572168 ]>]"
      ]
     },
     "execution_count": 7,
     "metadata": {},
     "output_type": "execute_result"
    }
   ],
   "source": [
    "# Do we need to do it everytime?? I don;t think so but I should test \n",
    "\n",
    "slice = fablib.get_slice(name=\"DYNAMOS-on-FABRIC\");\n",
    "nodes = slice.get_nodes();\n",
    "\n",
    "for node in nodes:\n",
    "    ssh_command = node.get_ssh_command().replace(\n",
    "        \"-i /home/fabric/work/fabric_config/slice_key\", \"-i ~/.ssh/keys/FABRIC-slice_key\"\n",
    "    ).replace(\n",
    "        \"-F /home/fabric/work/fabric_config/ssh_config \", \"\"\n",
    "    )\n",
    "    \n",
    "    print(ssh_command);"
   ]
  },
  {
   "cell_type": "code",
   "execution_count": 23,
   "metadata": {},
   "outputs": [
    {
     "name": "stdout",
     "output_type": "stream",
     "text": [
      "Adding agents...\n",
      "- agent 'server'\n",
      "- agent 'clientone'\n",
      "- agent 'clienttwo'\n",
      "- agent 'clientthree'\n",
      "\n",
      "Adding third parties...\n"
     ]
    }
   ],
   "source": [
    "\n",
    "# Configure DYNAMOS for the FABRIC nodes\n",
    "# agents_string = \",\".join(agents)\n",
    "# thirdparties_string = \",\".join(thirdparties)\n",
    "\n",
    "\n",
    "# nodes_dict['control']['node'].upload_file(local_file_path=\"node_scripts/configure_dynamos.sh\", remote_file_path=\"configure_dynamos.sh\");\n",
    "# nodes_dict['control']['node'].execute(f\"chmod +x configure_dynamos.sh && ./configure_dynamos.sh {agents_string} {thirdparties_string}\");"
   ]
  },
  {
   "cell_type": "code",
   "execution_count": 24,
   "metadata": {},
   "outputs": [],
   "source": [
    "# Optionally override the installation scripts \n",
    "# nodes_dict['control']['node'].upload_file(local_file_path=\"../configuration/dynamos-configuration.sh\", remote_file_path=\"/home/ubuntu/DYNAMOS/configuration/dynamos-configuration.sh\")\n",
    "# nodes_dict['control']['node'].upload_file(local_file_path=\"../configuration/fill-rabbit-pvc.sh\", remote_file_path=\"/home/ubuntu/DYNAMOS/configuration/fill-rabbit-pvc.sh\");\n"
   ]
  },
  {
   "cell_type": "code",
   "execution_count": 16,
   "metadata": {
    "scrolled": true
   },
   "outputs": [
    {
     "name": "stdout",
     "output_type": "stream",
     "text": [
      "DYNAMOS configuration v0.1.2\n",
      "Setting up paths...\n",
      "definitions_example.json copied over definitions.json to ensure a clean file\n",
      "Generating RabbitMQ password...\n",
      "Replacing tokens...\n",
      "Installing namespaces...\n",
      "Release \"namespaces\" does not exist. Installing it now.\n",
      "NAME: namespaces\n",
      "LAST DEPLOYED: Thu Oct  2 14:41:54 2025\n",
      "NAMESPACE: default\n",
      "STATUS: deployed\n",
      "REVISION: 1\n",
      "TEST SUITE: None\n",
      "Preparing PVC\n",
      "fill-pvc v0.1.2\n",
      "pod/temp-pod created\n",
      "pod/temp-pod-orch created\n",
      "Waiting for temp-pod to be Running...\n",
      "pod/temp-pod condition met\n",
      "pod/temp-pod-orch condition met\n",
      "\u001b[31mE1002 14:41:58.355966 2709862 websocket.go:296] Unknown stream id 1, discarding message\n",
      "\u001b[0mpod \"temp-pod\" deleted\n",
      "pod \"temp-pod-orch\" deleted\n",
      "Installing Prometheus...\n",
      "\"prometheus-community\" already exists with the same configuration, skipping\n",
      "Hang tight while we grab the latest from your chart repositories...\n",
      "...Successfully got an update from the \"prometheus-community\" chart repository\n",
      "Update Complete. ⎈Happy Helming!⎈\n",
      "Release \"prometheus\" does not exist. Installing it now.\n",
      "NAME: prometheus\n",
      "LAST DEPLOYED: Thu Oct  2 14:42:37 2025\n",
      "NAMESPACE: default\n",
      "STATUS: deployed\n",
      "REVISION: 1\n",
      "NOTES:\n",
      "kube-prometheus-stack has been installed. Check its status by running:\n",
      "  kubectl --namespace default get pods -l \"release=prometheus\"\n",
      "\n",
      "Visit https://github.com/prometheus-operator/kube-prometheus for instructions on how to create & configure Alertmanager and Prometheus instances using the Operator.\n",
      "Installing NGINX...\n",
      "\u001b[31mPulled: ghcr.io/nginxinc/charts/nginx-ingress:0.18.0\n",
      "Digest: sha256:662500f896f15a142b9ae04e469ae620a88de12dbcacbc8a0f944ce11e5038e1\n",
      "\u001b[0mRelease \"nginx\" has been upgraded. Happy Helming!\n",
      "NAME: nginx\n",
      "LAST DEPLOYED: Thu Oct  2 14:42:49 2025\n",
      "NAMESPACE: ingress\n",
      "STATUS: deployed\n",
      "REVISION: 7\n",
      "TEST SUITE: None\n",
      "NOTES:\n",
      "The NGINX Ingress Controller has been installed.\n",
      "Installing DYNAMOS core...\n",
      "Release \"core\" does not exist. Installing it now.\n",
      "NAME: core\n",
      "LAST DEPLOYED: Thu Oct  2 14:42:49 2025\n",
      "NAMESPACE: default\n",
      "STATUS: deployed\n",
      "REVISION: 1\n",
      "TEST SUITE: None\n",
      "Release \"orchestrator\" does not exist. Installing it now.\n",
      "NAME: orchestrator\n",
      "LAST DEPLOYED: Thu Oct  2 14:42:53 2025\n",
      "NAMESPACE: default\n",
      "STATUS: deployed\n",
      "REVISION: 1\n",
      "TEST SUITE: None\n",
      "Installing agents layer\n",
      "Release \"agents\" does not exist. Installing it now.\n",
      "NAME: agents\n",
      "LAST DEPLOYED: Thu Oct  2 14:42:54 2025\n",
      "NAMESPACE: default\n",
      "STATUS: deployed\n",
      "REVISION: 1\n",
      "TEST SUITE: None\n",
      "Installing thirdparty layer...\n",
      "Release \"thirdparties\" does not exist. Installing it now.\n",
      "NAME: thirdparties\n",
      "LAST DEPLOYED: Thu Oct  2 14:42:56 2025\n",
      "NAMESPACE: default\n",
      "STATUS: deployed\n",
      "REVISION: 1\n",
      "TEST SUITE: None\n",
      "Installing api gateway\n",
      "Release \"api-gateway\" does not exist. Installing it now.\n",
      "NAME: api-gateway\n",
      "LAST DEPLOYED: Thu Oct  2 14:42:57 2025\n",
      "NAMESPACE: default\n",
      "STATUS: deployed\n",
      "REVISION: 1\n",
      "TEST SUITE: None\n",
      "Finished setting up DYNAMOS\n"
     ]
    },
    {
     "data": {
      "text/plain": [
       "('DYNAMOS configuration v0.1.2\\nSetting up paths...\\ndefinitions_example.json copied over definitions.json to ensure a clean file\\nGenerating RabbitMQ password...\\nReplacing tokens...\\nInstalling namespaces...\\nRelease \"namespaces\" does not exist. Installing it now.\\nNAME: namespaces\\nLAST DEPLOYED: Thu Oct  2 14:41:54 2025\\nNAMESPACE: default\\nSTATUS: deployed\\nREVISION: 1\\nTEST SUITE: None\\nPreparing PVC\\nfill-pvc v0.1.2\\npod/temp-pod created\\npod/temp-pod-orch created\\nWaiting for temp-pod to be Running...\\npod/temp-pod condition met\\npod/temp-pod-orch condition met\\npod \"temp-pod\" deleted\\npod \"temp-pod-orch\" deleted\\nInstalling Prometheus...\\n\"prometheus-community\" already exists with the same configuration, skipping\\nHang tight while we grab the latest from your chart repositories...\\n...Successfully got an update from the \"prometheus-community\" chart repository\\nUpdate Complete. ⎈Happy Helming!⎈\\nRelease \"prometheus\" does not exist. Installing it now.\\nNAME: prometheus\\nLAST DEPLOYED: Thu Oct  2 14:42:37 2025\\nNAMESPACE: default\\nSTATUS: deployed\\nREVISION: 1\\nNOTES:\\nkube-prometheus-stack has been installed. Check its status by running:\\n  kubectl --namespace default get pods -l \"release=prometheus\"\\n\\nVisit https://github.com/prometheus-operator/kube-prometheus for instructions on how to create & configure Alertmanager and Prometheus instances using the Operator.\\nInstalling NGINX...\\nRelease \"nginx\" has been upgraded. Happy Helming!\\nNAME: nginx\\nLAST DEPLOYED: Thu Oct  2 14:42:49 2025\\nNAMESPACE: ingress\\nSTATUS: deployed\\nREVISION: 7\\nTEST SUITE: None\\nNOTES:\\nThe NGINX Ingress Controller has been installed.\\nInstalling DYNAMOS core...\\nRelease \"core\" does not exist. Installing it now.\\nNAME: core\\nLAST DEPLOYED: Thu Oct  2 14:42:49 2025\\nNAMESPACE: default\\nSTATUS: deployed\\nREVISION: 1\\nTEST SUITE: None\\nRelease \"orchestrator\" does not exist. Installing it now.\\nNAME: orchestrator\\nLAST DEPLOYED: Thu Oct  2 14:42:53 2025\\nNAMESPACE: default\\nSTATUS: deployed\\nREVISION: 1\\nTEST SUITE: None\\nInstalling agents layer\\nRelease \"agents\" does not exist. Installing it now.\\nNAME: agents\\nLAST DEPLOYED: Thu Oct  2 14:42:54 2025\\nNAMESPACE: default\\nSTATUS: deployed\\nREVISION: 1\\nTEST SUITE: None\\nInstalling thirdparty layer...\\nRelease \"thirdparties\" does not exist. Installing it now.\\nNAME: thirdparties\\nLAST DEPLOYED: Thu Oct  2 14:42:56 2025\\nNAMESPACE: default\\nSTATUS: deployed\\nREVISION: 1\\nTEST SUITE: None\\nInstalling api gateway\\nRelease \"api-gateway\" does not exist. Installing it now.\\nNAME: api-gateway\\nLAST DEPLOYED: Thu Oct  2 14:42:57 2025\\nNAMESPACE: default\\nSTATUS: deployed\\nREVISION: 1\\nTEST SUITE: None\\nFinished setting up DYNAMOS\\n',\n",
       " 'E1002 14:41:58.355966 2709862 websocket.go:296] Unknown stream id 1, discarding message\\nPulled: ghcr.io/nginxinc/charts/nginx-ingress:0.18.0\\nDigest: sha256:662500f896f15a142b9ae04e469ae620a88de12dbcacbc8a0f944ce11e5038e1\\n')"
      ]
     },
     "execution_count": 16,
     "metadata": {},
     "output_type": "execute_result"
    }
   ],
   "source": [
    "# install DYNAMOS\n",
    "nodes_dict['control']['node'].execute(f\"~/DYNAMOS/configuration/dynamos-configuration.sh\")"
   ]
  },
  {
   "cell_type": "code",
   "execution_count": 15,
   "metadata": {},
   "outputs": [
    {
     "name": "stdout",
     "output_type": "stream",
     "text": [
      "release \"agents\" uninstalled\n",
      "release \"api-gateway\" uninstalled\n",
      "release \"core\" uninstalled\n",
      "release \"orchestrator\" uninstalled\n",
      "These resources were kept due to the resource policy:\n",
      "[Namespace] core\n",
      "[Namespace] orchestrator\n",
      "[Namespace] clienttwo\n",
      "[Namespace] clientthree\n",
      "[Namespace] uva\n",
      "[Namespace] vu\n",
      "[Namespace] surf\n",
      "[Namespace] ingress\n",
      "[Namespace] api-gateway\n",
      "[Namespace] alpha\n",
      "[Namespace] server\n",
      "[Namespace] clientone\n",
      "\n",
      "release \"namespaces\" uninstalled\n",
      "release \"prometheus\" uninstalled\n",
      "release \"thirdparties\" uninstalled\n"
     ]
    },
    {
     "data": {
      "text/plain": [
       "('release \"agents\" uninstalled\\nrelease \"api-gateway\" uninstalled\\nrelease \"core\" uninstalled\\nrelease \"orchestrator\" uninstalled\\nThese resources were kept due to the resource policy:\\n[Namespace] core\\n[Namespace] orchestrator\\n[Namespace] clienttwo\\n[Namespace] clientthree\\n[Namespace] uva\\n[Namespace] vu\\n[Namespace] surf\\n[Namespace] ingress\\n[Namespace] api-gateway\\n[Namespace] alpha\\n[Namespace] server\\n[Namespace] clientone\\n\\nrelease \"namespaces\" uninstalled\\nrelease \"prometheus\" uninstalled\\nrelease \"thirdparties\" uninstalled\\n',\n",
       " '')"
      ]
     },
     "execution_count": 15,
     "metadata": {},
     "output_type": "execute_result"
    }
   ],
   "source": [
    "# Optional to clean up: uninstall DYNAMOS\n",
    "\n",
    "command = \"helm uninstall agents api-gateway core orchestrator namespaces prometheus thirdparties\"\n",
    "# nodes_dict['control']['node'].execute(command)"
   ]
  },
  {
   "cell_type": "code",
   "execution_count": 14,
   "metadata": {},
   "outputs": [
    {
     "name": "stdout",
     "output_type": "stream",
     "text": [
      "namespace \"clientone\" deleted\n",
      "namespace \"clienttwo\" deleted\n",
      "namespace \"clientthree\" deleted\n",
      "namespace \"server\" deleted\n"
     ]
    },
    {
     "data": {
      "text/plain": [
       "('namespace \"clientone\" deleted\\nnamespace \"clienttwo\" deleted\\nnamespace \"clientthree\" deleted\\nnamespace \"server\" deleted\\n',\n",
       " '')"
      ]
     },
     "execution_count": 14,
     "metadata": {},
     "output_type": "execute_result"
    }
   ],
   "source": [
    "# Uninstall client and server namespaces (sometimes is needed)\n",
    "command = \"kubectl delete namespace clientone clienttwo clientthree server\"\n",
    "# nodes_dict['control']['node'].execute(command)"
   ]
  },
  {
   "cell_type": "code",
   "execution_count": null,
   "metadata": {},
   "outputs": [],
   "source": [
    "# Optional delete etcd PVCs \n",
    "# nodes_dict['control']['node'].execute(\"kubectl get pvc --all-namespaces\")\n",
    "\n",
    "# nodes_dict['control']['node'].execute(\"kubectl delete pvc etcd-data-etcd-0 -n core\")\n",
    "# nodes_dict['control']['node'].execute(\"kubectl delete pvc etcd-data-etcd-1 -n core\")\n",
    "# nodes_dict['control']['node'].execute(\"kubectl delete pvc etcd-data-etcd-2 -n core\")\n",
    "\n",
    "\n",
    "# nodes_dict['control']['node'].execute(\"kubectl get pvc --all-namespaces\")"
   ]
  }
 ],
 "metadata": {
  "kernelspec": {
   "display_name": "dynamos_fabric_env",
   "language": "python",
   "name": "python3"
  },
  "language_info": {
   "codemirror_mode": {
    "name": "ipython",
    "version": 3
   },
   "file_extension": ".py",
   "mimetype": "text/x-python",
   "name": "python",
   "nbconvert_exporter": "python",
   "pygments_lexer": "ipython3",
   "version": "3.12.7"
  }
 },
 "nbformat": 4,
 "nbformat_minor": 4
}
