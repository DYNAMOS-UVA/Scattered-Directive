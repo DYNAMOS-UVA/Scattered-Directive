{
 "cells": [
  {
   "cell_type": "markdown",
   "metadata": {
    "tags": []
   },
   "source": [
    "## FABlib API References Examples\n",
    "\n",
    "- [fablib.show_config](https://fabric-fablib.readthedocs.io/en/latest/fablib.html#fabrictestbed_extensions.fablib.fablib.FablibManager.show_config)\n",
    "- [fablib.list_sites](https://fabric-fablib.readthedocs.io/en/latest/fablib.html#fabrictestbed_extensions.fablib.fablib.FablibManager.list_sites)\n",
    "- [fablib.list_hosts](https://fabric-fablib.readthedocs.io/en/latest/fablib.html#fabrictestbed_extensions.fablib.fablib.FablibManager.list_hosts)\n",
    "- [fablib.new_slice](https://fabric-fablib.readthedocs.io/en/latest/fablib.html#fabrictestbed_extensions.fablib.fablib.FablibManager.new_slice)\n",
    "- [slice.add_node](https://fabric-fablib.readthedocs.io/en/latest/slice.html#fabrictestbed_extensions.fablib.slice.Slice.add_node)\n",
    "- [slice.submit](https://fabric-fablib.readthedocs.io/en/latest/slice.html#fabrictestbed_extensions.fablib.slice.Slice.submit)\n",
    "- [slice.get_nodes](https://fabric-fablib.readthedocs.io/en/latest/slice.html#fabrictestbed_extensions.fablib.slice.Slice.get_nodes)\n",
    "- [slice.list_nodes](https://fabric-fablib.readthedocs.io/en/latest/slice.html#fabrictestbed_extensions.fablib.slice.Slice.list_nodesß)\n",
    "- [slice.show](https://fabric-fablib.readthedocs.io/en/latest/slice.html#fabrictestbed_extensions.fablib.slice.Slice.show)\n",
    "- [node.execute](https://fabric-fablib.readthedocs.io/en/latest/node.html#fabrictestbed_extensions.fablib.node.Node.execute)\n",
    "- [slice.delete](https://fabric-fablib.readthedocs.io/en/latest/slice.html#fabrictestbed_extensions.fablib.slice.Slice.delete) "
   ]
  },
  {
   "cell_type": "code",
   "execution_count": null,
   "metadata": {
    "tags": []
   },
   "outputs": [],
   "source": [
    "import datetime\n",
    "\n",
    "from fabrictestbed_extensions.fablib.fablib import FablibManager as fablib_manager\n",
    "\n",
    "fablib = fablib_manager()\n",
    "\n",
    "fablib.show_config();"
   ]
  },
  {
   "cell_type": "code",
   "execution_count": null,
   "metadata": {},
   "outputs": [],
   "source": [
    "slice_name = 'kubernetes-cluster'\n",
    "image = \"default_ubuntu_24\"\n",
    "\n",
    "# Host of the site used for the nodes (Use specific host to avoid error occurred without it: \"Timeout waiting for the server to come up\")\n",
    "# TODO: Make random again\n",
    "site = \"AMST\"\n",
    "site_host = \"amst-w1.fabric-testbed.net\"\n",
    "\n",
    "node1_name = 'Node1'\n",
    "node2_name = 'Node2'\n",
    "node3_name = 'Node3'\n",
    "\n",
    "node1_nic_name = 'NIC1'\n",
    "node2_nic_name = 'NIC2'\n",
    "node3_nic_name = 'NIC3'\n",
    "network_name = 'NET1'"
   ]
  },
  {
   "cell_type": "code",
   "execution_count": null,
   "metadata": {
    "tags": []
   },
   "outputs": [],
   "source": [
    "# Create a slice\n",
    "slice = fablib.new_slice(name=slice_name)\n",
    "\n",
    "# Add Nodes with the specific variables\n",
    "# Also validate the node can be created and raise an exception in case of failure\n",
    "node1 = slice.add_node(name=node1_name, site=site, disk=20, validate=True, raise_exception=True, host=site_host, image=image)\n",
    "node2 = slice.add_node(name=node2_name, site=site, disk=20, validate=True, raise_exception=True, host=site_host, image=image)\n",
    "node3 = slice.add_node(name=node3_name, site=site, disk=20, validate=True, raise_exception=True, host=site_host, image=image)\n",
    "\n",
    "interface1 = node1.add_component(model='NIC_Basic', name=node1_nic_name).get_interfaces()[0]\n",
    "interface2 = node2.add_component(model='NIC_Basic', name=node2_nic_name).get_interfaces()[0]\n",
    "interface3 = node3.add_component(model='NIC_Basic', name=node3_nic_name).get_interfaces()[0]\n",
    "\n",
    "net1 = slice.add_l3network(name=network_name, interfaces=[interface1, interface2, interface3], type='IPv4')\n",
    "\n",
    "# Calculate the lease end time for 2 weeks from now with timezone information\n",
    "lease_end_time = datetime.datetime.now(datetime.timezone.utc) + datetime.timedelta(weeks=2)\n",
    "\n",
    "# Submit the slice, using an end date 2 weeks from now (the current maximum lease time) \n",
    "# to make sure that the slice can be used for a longer period of time. Progress shows an indicator of the current progression.\n",
    "# Wait until the state is finished and use an interval (it may take some time before the slice and nodes are created)\n",
    "slice.submit(wait=True, wait_timeout=3600, wait_interval=20, progress=True, wait_jupyter='text', lease_end_time=lease_end_time);"
   ]
  },
  {
   "cell_type": "code",
   "execution_count": null,
   "metadata": {},
   "outputs": [],
   "source": [
    "for node in slice.get_nodes():\n",
    "    stdout, stderr = node.execute('echo Hello, FABRIC from node `hostname -s`')"
   ]
  },
  {
   "cell_type": "code",
   "execution_count": null,
   "metadata": {},
   "outputs": [],
   "source": [
    "network = slice.get_networks()[0];\n",
    "subnet = network.get_subnet();\n",
    "gateway = network.get_gateway();\n",
    "available_ips = network.get_available_ips(10);"
   ]
  },
  {
   "cell_type": "code",
   "execution_count": null,
   "metadata": {},
   "outputs": [],
   "source": [
    "def assign_ip(node):\n",
    "    interface = node.get_interface(network_name=\"NET1\")\n",
    "    address = available_ips.pop(0)\n",
    "    network.allocate_ip(address)\n",
    "    interface.ip_addr_add(addr=address, subnet=subnet)\n",
    "    node.ip_route_add(subnet=subnet, gateway=gateway)\n",
    "    return address\n",
    "\n",
    "ips = [assign_ip(node) for node in nodes];\n",
    "\n",
    "print(ips);"
   ]
  },
  {
   "cell_type": "code",
   "execution_count": null,
   "metadata": {},
   "outputs": [],
   "source": [
    "def setup_node(node):\n",
    "    node.upload_file(local_file_path=\"node_scripts/node_setup.sh\", remote_file_path=\"setup.sh\")\n",
    "    node.execute(f\"chmod +x setup.sh && ./setup.sh\");\n",
    "\n",
    "for node in nodes:\n",
    "    setup_node(node)\n",
    "\n",
    "    # Uncomment this if you are going to work on the node itself and want to use k9s\n",
    "    # node.upload_file(local_file_path=\"node_scripts/install_k9s.sh\", remote_file_path=\"k9s.sh\")\n",
    "    # node.execute(f\"chmod +x k9s.sh && ./k9s.sh\");"
   ]
  },
  {
   "cell_type": "code",
   "execution_count": null,
   "metadata": {},
   "outputs": [],
   "source": [
    "inventory = (\n",
    "    f\"[kube_control_plane]\\n\"\n",
    "    f\"node1 ansible_host={ips[0]} ip={ips[0]} etcd_member_name=etcd1\\n\"\n",
    "    f\"\\n\"\n",
    "    f\"[etcd:children]\\n\"\n",
    "    f\"kube_control_plane\\n\"\n",
    "    f\"\\n\"\n",
    "    f\"[kube_node]\\n\"\n",
    ")\n",
    "\n",
    "for i, ip in enumerate(ips[1:]):\n",
    "    inventory += f\"node{i + 2} ansible_host={ip} ip={ip}\\n\"\n",
    "\n",
    "with open('kubespray/inventory.ini', 'w') as f:\n",
    "    f.write(inventory)"
   ]
  },
  {
   "cell_type": "code",
   "execution_count": null,
   "metadata": {},
   "outputs": [],
   "source": [
    "nodes[0].upload_file(local_file_path=\"node_scripts/control_kubespray_setup.sh\", remote_file_path=\"kubespray_setup.sh\");\n",
    "nodes[0].execute(\"chmod +x kubespray_setup.sh && ./kubespray_setup.sh\");\n",
    "\n",
    "nodes[0].upload_file(local_file_path=\"kubespray/inventory.ini\", remote_file_path=\"kubespray/inventory/dynamos/inventory.ini\");\n",
    "nodes[0].upload_file(local_file_path=\"kubespray/ansible.cfg\", remote_file_path=\"kubespray/ansible.cfg\");\n",
    "nodes[0].upload_file(local_file_path=\"node_scripts/dot_kube.sh\", remote_file_path=\"dot_kube.sh\");\n",
    "nodes[0].execute(\"chmod +x ./dot_kube.sh\");\n",
    "nodes[0].upload_file(local_file_path=\"/home/fabric/work/fabric_config/slice_key\", remote_file_path=\"/home/ubuntu/.ssh/slice_key\");\n",
    "nodes[0].execute(\"chmod 600 /home/ubuntu/.ssh/slice_key\");"
   ]
  },
  {
   "cell_type": "code",
   "execution_count": null,
   "metadata": {},
   "outputs": [],
   "source": [
    "nodes[0].upload_file(local_file_path=\"node_scripts/start_kubespray.sh\", remote_file_path=\"start.sh\");\n",
    "nodes[0].execute(f\"chmod +x start.sh && ./start.sh\");"
   ]
  },
  {
   "cell_type": "code",
   "execution_count": null,
   "metadata": {},
   "outputs": [],
   "source": [
    "nodes[0].upload_file(local_file_path=\"node_scripts/reset_kubespray.sh\", remote_file_path=\"reset.sh\");\n",
    "nodes[0].execute(f\"chmod +x reset.sh && ./reset.sh\");"
   ]
  },
  {
   "cell_type": "code",
   "execution_count": null,
   "metadata": {},
   "outputs": [],
   "source": [
    "slice.delete()"
   ]
  }
 ],
 "metadata": {
  "kernelspec": {
   "display_name": "Python 3 (ipykernel)",
   "language": "python",
   "name": "python3"
  },
  "language_info": {
   "codemirror_mode": {
    "name": "ipython",
    "version": 3
   },
   "file_extension": ".py",
   "mimetype": "text/x-python",
   "name": "python",
   "nbconvert_exporter": "python",
   "pygments_lexer": "ipython3",
   "version": "3.11.9"
  }
 },
 "nbformat": 4,
 "nbformat_minor": 4
}
