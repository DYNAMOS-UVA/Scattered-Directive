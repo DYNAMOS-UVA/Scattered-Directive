{
 "cells": [
  {
   "cell_type": "code",
   "execution_count": null,
   "id": "ca4dada6-bc00-4743-a90c-f0a6460d10ae",
   "metadata": {},
   "outputs": [],
   "source": [
    "import datetime\n",
    "import json\n",
    "import asyncio\n",
    "\n",
    "from fabrictestbed_extensions.fablib.fablib import FablibManager as fablib_manager\n",
    "\n",
    "fablib = fablib_manager()\n",
    "\n",
    "fablib.show_config();"
   ]
  },
  {
   "cell_type": "code",
   "execution_count": null,
   "id": "a9cae62c-dec2-4e07-b6c5-51b651edbf39",
   "metadata": {},
   "outputs": [],
   "source": [
    "slice = fablib.get_slice(name=\"DYNAMOS-on-FABRIC\");\n",
    "nodes = slice.get_nodes();"
   ]
  },
  {
   "cell_type": "code",
   "execution_count": null,
   "id": "8ab32ff9-8d2b-453f-a6e1-eecfd94920c1",
   "metadata": {
    "scrolled": true
   },
   "outputs": [],
   "source": [
    "# Add the relevant etcd data to the dynamos node\n",
    "nodes[1].upload_file(local_file_path=\"node_scripts/define_etcd_data.sh\", remote_file_path=\"define_etcd_data.sh\");\n",
    "nodes[1].execute(f\"chmod +x define_etcd_data.sh && ./define_etcd_data.sh\");"
   ]
  },
  {
   "cell_type": "code",
   "execution_count": null,
   "id": "cce594e7-774a-4e3f-bb52-6b9b0934e9de",
   "metadata": {
    "scrolled": true
   },
   "outputs": [],
   "source": [
    "# Install DYNAMOS on FABRIC\n",
    "nodes[0].upload_file(local_file_path=\"node_scripts/install_dynamos.sh\", remote_file_path=\"dynamos.sh\");\n",
    "nodes[0].execute(f\"chmod +x dynamos.sh && ./dynamos.sh\");"
   ]
  },
  {
   "cell_type": "code",
   "execution_count": null,
   "id": "0ee9e709-a3f2-447f-8851-3b56b9738fe3",
   "metadata": {},
   "outputs": [],
   "source": []
  }
 ],
 "metadata": {
  "kernelspec": {
   "display_name": "Python 3 (ipykernel)",
   "language": "python",
   "name": "python3"
  },
  "language_info": {
   "codemirror_mode": {
    "name": "ipython",
    "version": 3
   },
   "file_extension": ".py",
   "mimetype": "text/x-python",
   "name": "python",
   "nbconvert_exporter": "python",
   "pygments_lexer": "ipython3",
   "version": "3.11.9"
  }
 },
 "nbformat": 4,
 "nbformat_minor": 5
}
