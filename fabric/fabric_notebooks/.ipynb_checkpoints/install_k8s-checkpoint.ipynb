{
 "cells": [
  {
   "cell_type": "code",
   "execution_count": null,
   "id": "ca4dada6-bc00-4743-a90c-f0a6460d10ae",
   "metadata": {},
   "outputs": [],
   "source": [
    "import datetime\n",
    "\n",
    "from fabrictestbed_extensions.fablib.fablib import FablibManager as fablib_manager\n",
    "\n",
    "fablib = fablib_manager()\n",
    "\n",
    "fablib.show_config();"
   ]
  },
  {
   "cell_type": "code",
   "execution_count": null,
   "id": "a9cae62c-dec2-4e07-b6c5-51b651edbf39",
   "metadata": {},
   "outputs": [],
   "source": [
    "slice = fablib.get_slice(name=\"DYNAMOS-on-FABRIC\");"
   ]
  },
  {
   "cell_type": "code",
   "execution_count": null,
   "id": "4e2286c8-2bef-480b-afab-d1b6755071fd",
   "metadata": {},
   "outputs": [],
   "source": []
  }
 ],
 "metadata": {
  "kernelspec": {
   "display_name": "Python 3 (ipykernel)",
   "language": "python",
   "name": "python3"
  },
  "language_info": {
   "codemirror_mode": {
    "name": "ipython",
    "version": 3
   },
   "file_extension": ".py",
   "mimetype": "text/x-python",
   "name": "python",
   "nbconvert_exporter": "python",
   "pygments_lexer": "ipython3",
   "version": "3.11.9"
  }
 },
 "nbformat": 4,
 "nbformat_minor": 5
}
