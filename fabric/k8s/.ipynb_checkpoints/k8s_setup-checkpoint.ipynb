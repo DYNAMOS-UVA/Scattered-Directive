{
 "cells": [
  {
   "cell_type": "markdown",
   "metadata": {
    "tags": []
   },
   "source": [
    "# Setup Kubernetes environment for DYNAMOS in FABRIC \n",
    "\n",
    "This Jupyter notebook will create the Kubernetes environment in FABRIC after the slice and corresponding nodes have been created.\n",
    "\n",
    "FABRIC API docs: https://fabric-fablib.readthedocs.io/en/latest/index.html\n",
    "\n",
    "\n",
    "## Step 1:  Configure the Environment & Create Slice\n",
    "\n",
    "Before running this notebook, you will need to configure your environment using the [Configure Environment](../configure_and_validate.ipynb) notebook. Please stop here, open and run that notebook, then return to this notebook.\n",
    "\n",
    "If you are using the FABRIC JupyterHub many of the environment variables will be automatically configured for you.  You will still need to set your bastion username, upload your bastion private key, and set the path to where you put your bastion private key. Your bastion username and private key should already be in your possession.  \n",
    "\n",
    "After following all steps of the Configuring Environment notebook, you should be able to run this notebook without additional steps.\n",
    "\n",
    "Next, you will need to have setup the slice in FABRIC using the [Create Slice](../create_slice.ipynb) notebook.\n",
    "\n",
    "More information about accessing your experiments through the FABRIC bastion hosts can be found [here](https://learn.fabric-testbed.net/knowledge-base/logging-into-fabric-vms/).\n",
    " "
   ]
  },
  {
   "cell_type": "markdown",
   "metadata": {},
   "source": [
    "## Step 2: Setup the Environment for this Notebook\n",
    "\n",
    "### Step 2.1: Import FABRIC API and other libraries"
   ]
  },
  {
   "cell_type": "code",
   "execution_count": null,
   "metadata": {
    "tags": []
   },
   "outputs": [],
   "source": [
    "import json\n",
    "import traceback\n",
    "\n",
    "from fabrictestbed_extensions.fablib.fablib import FablibManager as fablib_manager\n",
    "\n",
    "fablib = fablib_manager()\n",
    "\n",
    "fablib.show_config();\n"
   ]
  },
  {
   "cell_type": "markdown",
   "metadata": {},
   "source": [
    "### Step 2.2: Configure the parameters, get Attributes, and add the nodes\n",
    "Can be used to set the corresponding slice and other variables used for subsequent cells.\n",
    "\n",
    "This also prints the necessary information and variables that can be used for later steps."
   ]
  },
  {
   "cell_type": "code",
   "execution_count": null,
   "metadata": {},
   "outputs": [],
   "source": [
    "# ========== Step 1: Configure Parameters ==========\n",
    "slice_name = 'DYNAMOS'\n",
    "# Nodes:\n",
    "node1_name = 'Node1'\n",
    "node2_name = 'Node2'\n",
    "# TODO: more variables and below needed?\n",
    "# node1_nic_name = 'NIC1'\n",
    "# node2_nic_name = 'NIC2'\n",
    "# network_name = 'NET1'\n",
    "\n",
    "# ========== Step 2: Get and Print Slice and Node Attributes ==========\n",
    "try:\n",
    "    # Get slice by name: https://fabric-fablib.readthedocs.io/en/latest/fablib.html#fabrictestbed_extensions.fablib.fablib.FablibManager.get_slice\n",
    "    slice = fablib.get_slice(name=slice_name)\n",
    "    # Get slice nodes\n",
    "    for node in slice.get_nodes():\n",
    "        print(f\"Node: {node.get_name()}\")\n",
    "        # Print full IP address list\n",
    "        # print(f\"  IP Address List: {node.get_ip_addrs()}\")\n",
    "        # Get IP address list\n",
    "        ip_addrs = node.get_ip_addrs()\n",
    "        # Loop over them and extract the IPv4 address of the node that is not local\n",
    "        for interface in ip_addrs:\n",
    "            addr_info_list = interface.get(\"addr_info\", [])\n",
    "            for addr in addr_info_list:\n",
    "                ip = addr.get(\"local\", \"\")\n",
    "                if ip and ip != \"127.0.0.1\" and \":\" not in ip:  # Exclude loopback and IPv6\n",
    "                    print(f\"  IPv4 Address: {ip}\")\n",
    "        # print(f\"  IP Routes List: {node.get_ip_routes()}\")\n",
    "\n",
    "        # Get the original SSH command\n",
    "        original_ssh_command = node.get_ssh_command()\n",
    "        # Print SSH commands to get into the nodes\n",
    "        print(f\"  SSH Command from FABRIC: {original_ssh_command}\")\n",
    "        # Replace the file paths in the SSH command\n",
    "        updated_ssh_command = original_ssh_command.replace(\n",
    "            \"/home/fabric/work/fabric_config/slice_key\", \"~/.ssh/slice_key\"\n",
    "        ).replace(\n",
    "            \"/home/fabric/work/fabric_config/ssh_config\", \"ssh_config\"\n",
    "        )\n",
    "        # Print the updated SSH command\n",
    "        print(f\"  SSH Command locally (ensuring it is saved according to below steps): {updated_ssh_command}\")\n",
    "        # TODO: probably need to test this locally.\n",
    "    \n",
    "except Exception as e:\n",
    "    print(f\"Fail: {e}\")\n",
    "    traceback.print_exc()"
   ]
  },
  {
   "cell_type": "markdown",
   "metadata": {},
   "source": [
    "#### Run the SSH Commands\n",
    "To run the SSH Commands follow these steps:\n",
    "1. From the Jupyter Notebook Hub from FABRIC, download the /fabric_config/fabric_bastion_key, /fabric_config/slice_key and /fabric_config/ssh_config files\n",
    "2. Add the ssh_config file to this project under /fabric/fabric_config, and change the /fabric_config/ssh_config \"IdentityFile\" entry to \"~/.ssh/fabric_bastion_key\", this is the new path to the bastion key of FABRIC from where you will be running the file.\n",
    "\n",
    "3. Execute these steps to save the SSH files savely on your local machine and avoid problems\n",
    "```sh\n",
    "# Open a Linux terminal, such as WSL after opening a CMD in Windows:\n",
    "wsl\n",
    "# Navigate to the Downloads directory\n",
    "cd Downloads\n",
    "# Create a directory called ssh to store the files\n",
    "mkdir -p ~/.ssh\n",
    "\n",
    "# Copy the key files to the SSH directory\n",
    "cp slice_key ~/.ssh/slice_key\n",
    "cp fabric_bastion_key ~/.ssh/fabric_bastion_key\n",
    "# Update permissions\n",
    "chmod 600 ~/.ssh/slice_key\n",
    "chmod 600 ~/.ssh/fabric_bastion_key\n",
    "# Navigate to the SSH directory to verify the files\n",
    "cd ~/.ssh\n",
    "# List files including permissions (-l)\n",
    "ls -l\n",
    "\n",
    "# Navigate to the fabric_config folder of this project, such as:\n",
    "cd /mnt/c/Users/cpoet/VSC_Projs/EnergyEfficiency_DYNAMOS/fabric/fabric_config\n",
    "# Then run the command from the previous step, such as:\n",
    "ssh -i ~/.ssh/slice_key -F ssh_config ubuntu@2001:610:2d0:fabc:f816:3eff:fe65:a464\n",
    "# To exit SSH access, type \"exit\" and press Enter\n",
    "```\n",
    "4. Now you can SSH into the nodes using the printed commands."
   ]
  },
  {
   "cell_type": "markdown",
   "metadata": {
    "tags": []
   },
   "source": [
    "## Step 3: Configure Kubernetes cluster\n",
    "\n",
    "This step configures the Kubernetes cluster using scripts in this folder.\n",
    "TODO: maybe this is done somewhere else, see the README.md, such as from the local node, so try that first.\n",
    "TODO: if can be done on local machine, use this step to refer to that README.md and execute the commands.\n",
    "\n",
    "### Configure Control Plane node\n",
    "TODO: also configure worker node."
   ]
  },
  {
   "cell_type": "code",
   "execution_count": null,
   "metadata": {
    "tags": []
   },
   "outputs": [],
   "source": [
    "try:\n",
    "    # TODO: add network here similar to Kubernetes cluster example setup notebook from FABRIC, or is that already done with Kubespray?\n",
    "    # TODO: change this to below Kubernetes setup.\n",
    "    # TODO: when changing the slice, such as adding network, it has to be submitted.\n",
    "    # Submit the updates. Wait until the state is finished and use an interval and a longer timeout to make sure all nodes are created\n",
    "    slice.submit(wait=True, wait_timeout=1800, wait_interval=10, progress=True, wait_jupyter='text')\n",
    "    \n",
    "    # TODO: now also maybe some other steps need to happen before this, and the scripts need to be created to configure the control plane and worker, etc.\n",
    "    # Upload script file to the nodes\n",
    "    file_attributes = node1.upload_file(local_file_path=\"config_control_plane.sh\", remote_file_path=\"config_control_plane.sh\")\n",
    "    # Execute the script\n",
    "    stdout, stderr = node1.execute(f\"chmod +x config_control_plane.sh && ./config_control_plane.sh\")\n",
    "\n",
    "except Exception as e:\n",
    "    print(f\"Exception: {e}\")"
   ]
  }
 ],
 "metadata": {
  "kernelspec": {
   "display_name": "Python 3 (ipykernel)",
   "language": "python",
   "name": "python3"
  },
  "language_info": {
   "codemirror_mode": {
    "name": "ipython",
    "version": 3
   },
   "file_extension": ".py",
   "mimetype": "text/x-python",
   "name": "python",
   "nbconvert_exporter": "python",
   "pygments_lexer": "ipython3",
   "version": "3.11.9"
  }
 },
 "nbformat": 4,
 "nbformat_minor": 4
}
